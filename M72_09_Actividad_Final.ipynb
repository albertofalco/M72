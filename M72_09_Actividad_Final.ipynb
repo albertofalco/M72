{
  "cells": [
    {
      "cell_type": "markdown",
      "metadata": {
        "id": "view-in-github",
        "colab_type": "text"
      },
      "source": [
        "<a href=\"https://colab.research.google.com/github/albertofalco/M72/blob/main/M72_09_Actividad_Final.ipynb\" target=\"_parent\"><img src=\"https://colab.research.google.com/assets/colab-badge.svg\" alt=\"Open In Colab\"/></a>"
      ]
    },
    {
      "cell_type": "markdown",
      "metadata": {
        "id": "mPWRnEx2oTvM"
      },
      "source": [
        "```\n",
        "ME72: Maestría en Métodos Cuantitativos para la Gestión y Análisis de Datos\n",
        "M72109: Analisis de datos no estructurados\n",
        "Universidad de Buenos Aires - Facultad de Ciencias Economicas (UBA-FCE)\n",
        "Año: 2023\n",
        "Profesor: Facundo Santiago\n",
        "```"
      ]
    },
    {
      "cell_type": "markdown",
      "source": [
        "```\n",
        "Alumno: Alberto Falco\n",
        "```"
      ],
      "metadata": {
        "id": "qZpzY8513lXU"
      }
    },
    {
      "cell_type": "markdown",
      "metadata": {
        "id": "iWBLdBSioTvO"
      },
      "source": [
        "# Actividad Final: ¿Qué tan memorable es un video?"
      ]
    },
    {
      "cell_type": "markdown",
      "metadata": {
        "id": "IXdA6Yg761jz"
      },
      "source": [
        "## 1. Preparación del ambiente"
      ]
    },
    {
      "cell_type": "markdown",
      "metadata": {
        "id": "QZrG1xI-61j0"
      },
      "source": [
        "### 1.1. Descarga de sets de datos"
      ]
    },
    {
      "cell_type": "code",
      "execution_count": 1,
      "metadata": {
        "id": "3Xb7yWkB61j1"
      },
      "outputs": [],
      "source": [
        "!wget -N https://raw.githubusercontent.com/santiagxf/M72109/master/Desafio/Data/ground_truth.csv --directory-prefix ./Data/ --quiet\n",
        "!wget -N https://raw.githubusercontent.com/santiagxf/M72109/master/Desafio/Data/Features/caption_features.csv --directory-prefix ./Data/Features/ --quiet"
      ]
    },
    {
      "cell_type": "markdown",
      "metadata": {
        "id": "4mIgYB7261kS"
      },
      "source": [
        "### 1.2. Descarga de librerias y modulos necesarios"
      ]
    },
    {
      "cell_type": "code",
      "execution_count": 2,
      "metadata": {
        "id": "kNeu_Nue61kT"
      },
      "outputs": [],
      "source": [
        "!wget -N https://raw.githubusercontent.com/albertofalco/M72/main/09/final/requirements.txt --quiet\n",
        "!wget -N https://raw.githubusercontent.com/santiagxf/M72109/master/m72109/nlp/datasets.py --directory-prefix ./m72109/nlp/ --quiet\n",
        "!wget -N https://raw.githubusercontent.com/santiagxf/M72109/master/m72109/nlp/explanation.py --directory-prefix ./m72109/nlp/ --quiet\n",
        "!wget -N https://raw.githubusercontent.com/santiagxf/M72109/master/m72109/nlp/normalization.py --directory-prefix ./m72109/nlp/ --quiet\n",
        "!wget -N https://raw.githubusercontent.com/santiagxf/M72109/master/m72109/nlp/transformation.py --directory-prefix ./m72109/nlp/ --quiet\n",
        "!wget -N https://santiagxf.blob.core.windows.net/public/Word2Vec/model-en.bin --directory-prefix ./Models/Word2Vec --quiet"
      ]
    },
    {
      "cell_type": "markdown",
      "metadata": {
        "id": "utQ0fxnu61ko"
      },
      "source": [
        "### 1.3. Instalación de librerias"
      ]
    },
    {
      "cell_type": "code",
      "source": [
        "! pip install --upgrade -r requirements.txt --quiet"
      ],
      "metadata": {
        "id": "qxdlcUJKMXhm",
        "colab": {
          "base_uri": "https://localhost:8080/"
        },
        "outputId": "ac76370e-4d4b-489f-e825-09f4d22ca7eb"
      },
      "execution_count": 3,
      "outputs": [
        {
          "output_type": "stream",
          "name": "stdout",
          "text": [
            "\u001b[2K     \u001b[90m━━━━━━━━━━━━━━━━━━━━━━━━━━━━━━━━━━━━━━━━\u001b[0m \u001b[32m261.4/261.4 kB\u001b[0m \u001b[31m1.8 MB/s\u001b[0m eta \u001b[36m0:00:00\u001b[0m\n",
            "\u001b[2K     \u001b[90m━━━━━━━━━━━━━━━━━━━━━━━━━━━━━━━━━━━━━━━━\u001b[0m \u001b[32m521.2/521.2 kB\u001b[0m \u001b[31m9.2 MB/s\u001b[0m eta \u001b[36m0:00:00\u001b[0m\n",
            "\u001b[2K     \u001b[90m━━━━━━━━━━━━━━━━━━━━━━━━━━━━━━━━━━━━━━━━\u001b[0m \u001b[32m235.5/235.5 kB\u001b[0m \u001b[31m24.9 MB/s\u001b[0m eta \u001b[36m0:00:00\u001b[0m\n",
            "\u001b[2K     \u001b[90m━━━━━━━━━━━━━━━━━━━━━━━━━━━━━━━━━━━━━━━━\u001b[0m \u001b[32m115.3/115.3 kB\u001b[0m \u001b[31m13.6 MB/s\u001b[0m eta \u001b[36m0:00:00\u001b[0m\n",
            "\u001b[2K     \u001b[90m━━━━━━━━━━━━━━━━━━━━━━━━━━━━━━━━━━━━━━━━\u001b[0m \u001b[32m134.8/134.8 kB\u001b[0m \u001b[31m18.2 MB/s\u001b[0m eta \u001b[36m0:00:00\u001b[0m\n",
            "\u001b[?25h"
          ]
        }
      ]
    },
    {
      "cell_type": "markdown",
      "source": [
        "## 2. Importación de librerías"
      ],
      "metadata": {
        "id": "dxH2xOIQp_Xr"
      }
    },
    {
      "cell_type": "code",
      "execution_count": 4,
      "metadata": {
        "id": "gLjNwmAJ61kp"
      },
      "outputs": [],
      "source": [
        "# Importación de librerias.\n",
        "import pandas as pd\n",
        "import numpy as np\n",
        "import os\n",
        "import torch\n",
        "import transformers\n",
        "\n",
        "# from transformers import BertForSequenceClassification\n",
        "# from transformers import Trainer, TrainingArguments\n",
        "\n",
        "# from sklearn.pipeline import Pipeline\n",
        "# from sklearn.model_selection import train_test_split\n",
        "# from sklearn.metrics import classification_report\n",
        "\n",
        "# from m72109.nlp.normalization import TextNormalizer, TweetTextNormalizer\n",
        "# from m72109.nlp.transformation import Word2VecVectorizer, PadSequenceTransformer, split_text_with_context\n",
        "# from m72109.nlp.explanation import get_explanation_from_grads, locate_token"
      ]
    },
    {
      "cell_type": "code",
      "source": [
        "# Verificación de la unidad de procesamiento.\n",
        "device = torch.device('cuda') if torch.cuda.is_available() else torch.device('cpu')\n",
        "\n",
        "print(\"Este notebook se está ejecutando en {}.\".format(device))"
      ],
      "metadata": {
        "colab": {
          "base_uri": "https://localhost:8080/"
        },
        "id": "9_XqRvwGpwWi",
        "outputId": "5736815d-c72e-4235-bb55-f9d6edb44a9e"
      },
      "execution_count": 5,
      "outputs": [
        {
          "output_type": "stream",
          "name": "stdout",
          "text": [
            "Este notebook se está ejecutando en cuda.\n"
          ]
        }
      ]
    },
    {
      "cell_type": "markdown",
      "metadata": {
        "id": "Ucs_gunq61ku"
      },
      "source": [
        "## 3. Obtención de datos"
      ]
    },
    {
      "cell_type": "markdown",
      "metadata": {
        "id": "hBDymaXtoTvp"
      },
      "source": [
        "\n",
        " - **memorability_score:** Representa el puntaje de memorabilidad de la secuencia en particular, desde 0 a 1. Valores más grandes son mejores.\n",
        " - **memorable:** Variable categórica que representa si un video es memorable o no. Un video con `memorability_score` superior a `0.5` es marcado como memorable (`1`), sino es marcado como no memorable (`0`)"
      ]
    },
    {
      "cell_type": "code",
      "execution_count": 6,
      "metadata": {
        "id": "69lG6CJyoTvq"
      },
      "outputs": [],
      "source": [
        "# Carga de labels.\n",
        "labels = pd.read_csv('Data/ground_truth.csv')"
      ]
    },
    {
      "cell_type": "code",
      "source": [
        "# Impresion de los primeros registros.\n",
        "labels.head(2)"
      ],
      "metadata": {
        "colab": {
          "base_uri": "https://localhost:8080/",
          "height": 0
        },
        "id": "foQgXMcTnsOd",
        "outputId": "cef0ffa4-a552-4988-b46b-2cabac43a192"
      },
      "execution_count": 7,
      "outputs": [
        {
          "output_type": "execute_result",
          "data": {
            "text/plain": [
              "  movie_name  start(sec)  end(sec)          sequence_name  \\\n",
              "0  127 hours        2000      2010  127_hours_2000_2010_1   \n",
              "1  127 hours        2182      2192  127_hours_2182_2192_5   \n",
              "\n",
              "   Neutral (1)_Typical (0)  nb_annotations  memorability_score  memorable  \n",
              "0                        0               5                 1.0          1  \n",
              "1                        1               8                 0.0          0  "
            ],
            "text/html": [
              "\n",
              "  <div id=\"df-fb9c4601-ac09-4b8f-a8ae-3231a01e47b3\" class=\"colab-df-container\">\n",
              "    <div>\n",
              "<style scoped>\n",
              "    .dataframe tbody tr th:only-of-type {\n",
              "        vertical-align: middle;\n",
              "    }\n",
              "\n",
              "    .dataframe tbody tr th {\n",
              "        vertical-align: top;\n",
              "    }\n",
              "\n",
              "    .dataframe thead th {\n",
              "        text-align: right;\n",
              "    }\n",
              "</style>\n",
              "<table border=\"1\" class=\"dataframe\">\n",
              "  <thead>\n",
              "    <tr style=\"text-align: right;\">\n",
              "      <th></th>\n",
              "      <th>movie_name</th>\n",
              "      <th>start(sec)</th>\n",
              "      <th>end(sec)</th>\n",
              "      <th>sequence_name</th>\n",
              "      <th>Neutral (1)_Typical (0)</th>\n",
              "      <th>nb_annotations</th>\n",
              "      <th>memorability_score</th>\n",
              "      <th>memorable</th>\n",
              "    </tr>\n",
              "  </thead>\n",
              "  <tbody>\n",
              "    <tr>\n",
              "      <th>0</th>\n",
              "      <td>127 hours</td>\n",
              "      <td>2000</td>\n",
              "      <td>2010</td>\n",
              "      <td>127_hours_2000_2010_1</td>\n",
              "      <td>0</td>\n",
              "      <td>5</td>\n",
              "      <td>1.0</td>\n",
              "      <td>1</td>\n",
              "    </tr>\n",
              "    <tr>\n",
              "      <th>1</th>\n",
              "      <td>127 hours</td>\n",
              "      <td>2182</td>\n",
              "      <td>2192</td>\n",
              "      <td>127_hours_2182_2192_5</td>\n",
              "      <td>1</td>\n",
              "      <td>8</td>\n",
              "      <td>0.0</td>\n",
              "      <td>0</td>\n",
              "    </tr>\n",
              "  </tbody>\n",
              "</table>\n",
              "</div>\n",
              "    <div class=\"colab-df-buttons\">\n",
              "\n",
              "  <div class=\"colab-df-container\">\n",
              "    <button class=\"colab-df-convert\" onclick=\"convertToInteractive('df-fb9c4601-ac09-4b8f-a8ae-3231a01e47b3')\"\n",
              "            title=\"Convert this dataframe to an interactive table.\"\n",
              "            style=\"display:none;\">\n",
              "\n",
              "  <svg xmlns=\"http://www.w3.org/2000/svg\" height=\"24px\" viewBox=\"0 -960 960 960\">\n",
              "    <path d=\"M120-120v-720h720v720H120Zm60-500h600v-160H180v160Zm220 220h160v-160H400v160Zm0 220h160v-160H400v160ZM180-400h160v-160H180v160Zm440 0h160v-160H620v160ZM180-180h160v-160H180v160Zm440 0h160v-160H620v160Z\"/>\n",
              "  </svg>\n",
              "    </button>\n",
              "\n",
              "  <style>\n",
              "    .colab-df-container {\n",
              "      display:flex;\n",
              "      gap: 12px;\n",
              "    }\n",
              "\n",
              "    .colab-df-convert {\n",
              "      background-color: #E8F0FE;\n",
              "      border: none;\n",
              "      border-radius: 50%;\n",
              "      cursor: pointer;\n",
              "      display: none;\n",
              "      fill: #1967D2;\n",
              "      height: 32px;\n",
              "      padding: 0 0 0 0;\n",
              "      width: 32px;\n",
              "    }\n",
              "\n",
              "    .colab-df-convert:hover {\n",
              "      background-color: #E2EBFA;\n",
              "      box-shadow: 0px 1px 2px rgba(60, 64, 67, 0.3), 0px 1px 3px 1px rgba(60, 64, 67, 0.15);\n",
              "      fill: #174EA6;\n",
              "    }\n",
              "\n",
              "    .colab-df-buttons div {\n",
              "      margin-bottom: 4px;\n",
              "    }\n",
              "\n",
              "    [theme=dark] .colab-df-convert {\n",
              "      background-color: #3B4455;\n",
              "      fill: #D2E3FC;\n",
              "    }\n",
              "\n",
              "    [theme=dark] .colab-df-convert:hover {\n",
              "      background-color: #434B5C;\n",
              "      box-shadow: 0px 1px 3px 1px rgba(0, 0, 0, 0.15);\n",
              "      filter: drop-shadow(0px 1px 2px rgba(0, 0, 0, 0.3));\n",
              "      fill: #FFFFFF;\n",
              "    }\n",
              "  </style>\n",
              "\n",
              "    <script>\n",
              "      const buttonEl =\n",
              "        document.querySelector('#df-fb9c4601-ac09-4b8f-a8ae-3231a01e47b3 button.colab-df-convert');\n",
              "      buttonEl.style.display =\n",
              "        google.colab.kernel.accessAllowed ? 'block' : 'none';\n",
              "\n",
              "      async function convertToInteractive(key) {\n",
              "        const element = document.querySelector('#df-fb9c4601-ac09-4b8f-a8ae-3231a01e47b3');\n",
              "        const dataTable =\n",
              "          await google.colab.kernel.invokeFunction('convertToInteractive',\n",
              "                                                    [key], {});\n",
              "        if (!dataTable) return;\n",
              "\n",
              "        const docLinkHtml = 'Like what you see? Visit the ' +\n",
              "          '<a target=\"_blank\" href=https://colab.research.google.com/notebooks/data_table.ipynb>data table notebook</a>'\n",
              "          + ' to learn more about interactive tables.';\n",
              "        element.innerHTML = '';\n",
              "        dataTable['output_type'] = 'display_data';\n",
              "        await google.colab.output.renderOutput(dataTable, element);\n",
              "        const docLink = document.createElement('div');\n",
              "        docLink.innerHTML = docLinkHtml;\n",
              "        element.appendChild(docLink);\n",
              "      }\n",
              "    </script>\n",
              "  </div>\n",
              "\n",
              "\n",
              "<div id=\"df-7f3ff8f8-02f6-4c32-89c8-6d29b2fd53fd\">\n",
              "  <button class=\"colab-df-quickchart\" onclick=\"quickchart('df-7f3ff8f8-02f6-4c32-89c8-6d29b2fd53fd')\"\n",
              "            title=\"Suggest charts\"\n",
              "            style=\"display:none;\">\n",
              "\n",
              "<svg xmlns=\"http://www.w3.org/2000/svg\" height=\"24px\"viewBox=\"0 0 24 24\"\n",
              "     width=\"24px\">\n",
              "    <g>\n",
              "        <path d=\"M19 3H5c-1.1 0-2 .9-2 2v14c0 1.1.9 2 2 2h14c1.1 0 2-.9 2-2V5c0-1.1-.9-2-2-2zM9 17H7v-7h2v7zm4 0h-2V7h2v10zm4 0h-2v-4h2v4z\"/>\n",
              "    </g>\n",
              "</svg>\n",
              "  </button>\n",
              "\n",
              "<style>\n",
              "  .colab-df-quickchart {\n",
              "      --bg-color: #E8F0FE;\n",
              "      --fill-color: #1967D2;\n",
              "      --hover-bg-color: #E2EBFA;\n",
              "      --hover-fill-color: #174EA6;\n",
              "      --disabled-fill-color: #AAA;\n",
              "      --disabled-bg-color: #DDD;\n",
              "  }\n",
              "\n",
              "  [theme=dark] .colab-df-quickchart {\n",
              "      --bg-color: #3B4455;\n",
              "      --fill-color: #D2E3FC;\n",
              "      --hover-bg-color: #434B5C;\n",
              "      --hover-fill-color: #FFFFFF;\n",
              "      --disabled-bg-color: #3B4455;\n",
              "      --disabled-fill-color: #666;\n",
              "  }\n",
              "\n",
              "  .colab-df-quickchart {\n",
              "    background-color: var(--bg-color);\n",
              "    border: none;\n",
              "    border-radius: 50%;\n",
              "    cursor: pointer;\n",
              "    display: none;\n",
              "    fill: var(--fill-color);\n",
              "    height: 32px;\n",
              "    padding: 0;\n",
              "    width: 32px;\n",
              "  }\n",
              "\n",
              "  .colab-df-quickchart:hover {\n",
              "    background-color: var(--hover-bg-color);\n",
              "    box-shadow: 0 1px 2px rgba(60, 64, 67, 0.3), 0 1px 3px 1px rgba(60, 64, 67, 0.15);\n",
              "    fill: var(--button-hover-fill-color);\n",
              "  }\n",
              "\n",
              "  .colab-df-quickchart-complete:disabled,\n",
              "  .colab-df-quickchart-complete:disabled:hover {\n",
              "    background-color: var(--disabled-bg-color);\n",
              "    fill: var(--disabled-fill-color);\n",
              "    box-shadow: none;\n",
              "  }\n",
              "\n",
              "  .colab-df-spinner {\n",
              "    border: 2px solid var(--fill-color);\n",
              "    border-color: transparent;\n",
              "    border-bottom-color: var(--fill-color);\n",
              "    animation:\n",
              "      spin 1s steps(1) infinite;\n",
              "  }\n",
              "\n",
              "  @keyframes spin {\n",
              "    0% {\n",
              "      border-color: transparent;\n",
              "      border-bottom-color: var(--fill-color);\n",
              "      border-left-color: var(--fill-color);\n",
              "    }\n",
              "    20% {\n",
              "      border-color: transparent;\n",
              "      border-left-color: var(--fill-color);\n",
              "      border-top-color: var(--fill-color);\n",
              "    }\n",
              "    30% {\n",
              "      border-color: transparent;\n",
              "      border-left-color: var(--fill-color);\n",
              "      border-top-color: var(--fill-color);\n",
              "      border-right-color: var(--fill-color);\n",
              "    }\n",
              "    40% {\n",
              "      border-color: transparent;\n",
              "      border-right-color: var(--fill-color);\n",
              "      border-top-color: var(--fill-color);\n",
              "    }\n",
              "    60% {\n",
              "      border-color: transparent;\n",
              "      border-right-color: var(--fill-color);\n",
              "    }\n",
              "    80% {\n",
              "      border-color: transparent;\n",
              "      border-right-color: var(--fill-color);\n",
              "      border-bottom-color: var(--fill-color);\n",
              "    }\n",
              "    90% {\n",
              "      border-color: transparent;\n",
              "      border-bottom-color: var(--fill-color);\n",
              "    }\n",
              "  }\n",
              "</style>\n",
              "\n",
              "  <script>\n",
              "    async function quickchart(key) {\n",
              "      const quickchartButtonEl =\n",
              "        document.querySelector('#' + key + ' button');\n",
              "      quickchartButtonEl.disabled = true;  // To prevent multiple clicks.\n",
              "      quickchartButtonEl.classList.add('colab-df-spinner');\n",
              "      try {\n",
              "        const charts = await google.colab.kernel.invokeFunction(\n",
              "            'suggestCharts', [key], {});\n",
              "      } catch (error) {\n",
              "        console.error('Error during call to suggestCharts:', error);\n",
              "      }\n",
              "      quickchartButtonEl.classList.remove('colab-df-spinner');\n",
              "      quickchartButtonEl.classList.add('colab-df-quickchart-complete');\n",
              "    }\n",
              "    (() => {\n",
              "      let quickchartButtonEl =\n",
              "        document.querySelector('#df-7f3ff8f8-02f6-4c32-89c8-6d29b2fd53fd button');\n",
              "      quickchartButtonEl.style.display =\n",
              "        google.colab.kernel.accessAllowed ? 'block' : 'none';\n",
              "    })();\n",
              "  </script>\n",
              "</div>\n",
              "    </div>\n",
              "  </div>\n"
            ]
          },
          "metadata": {},
          "execution_count": 7
        }
      ]
    },
    {
      "cell_type": "code",
      "source": [
        "# Impresion del shape de labels.\n",
        "labels.shape"
      ],
      "metadata": {
        "colab": {
          "base_uri": "https://localhost:8080/"
        },
        "id": "wN9vLbMyt6ka",
        "outputId": "12acec1f-ccca-427b-f430-c826ebbf79f9"
      },
      "execution_count": 8,
      "outputs": [
        {
          "output_type": "execute_result",
          "data": {
            "text/plain": [
              "(660, 8)"
            ]
          },
          "metadata": {},
          "execution_count": 8
        }
      ]
    },
    {
      "cell_type": "code",
      "execution_count": 9,
      "metadata": {
        "id": "vr5ngP_z61k8"
      },
      "outputs": [],
      "source": [
        "# Carga de captions.\n",
        "captions = pd.read_csv('Data/Features/caption_features.csv')"
      ]
    },
    {
      "cell_type": "code",
      "source": [
        "# Impresión de los primeros registros.\n",
        "captions.head(2)"
      ],
      "metadata": {
        "colab": {
          "base_uri": "https://localhost:8080/",
          "height": 0
        },
        "id": "-MXj1r2huBYa",
        "outputId": "9890a88e-e8be-4669-e4bc-fc6a7d4e1b95"
      },
      "execution_count": 10,
      "outputs": [
        {
          "output_type": "execute_result",
          "data": {
            "text/plain": [
              "           sequence_name                                                 cc\n",
              "0  127_hours_2000_2010_1  a man in a suit and tie standing in front of a...\n",
              "1  127_hours_2182_2192_5  a man holding a toothbrush in his mouth. a wom..."
            ],
            "text/html": [
              "\n",
              "  <div id=\"df-c948b8d7-0e3c-4c1e-826c-9f4bfe0da960\" class=\"colab-df-container\">\n",
              "    <div>\n",
              "<style scoped>\n",
              "    .dataframe tbody tr th:only-of-type {\n",
              "        vertical-align: middle;\n",
              "    }\n",
              "\n",
              "    .dataframe tbody tr th {\n",
              "        vertical-align: top;\n",
              "    }\n",
              "\n",
              "    .dataframe thead th {\n",
              "        text-align: right;\n",
              "    }\n",
              "</style>\n",
              "<table border=\"1\" class=\"dataframe\">\n",
              "  <thead>\n",
              "    <tr style=\"text-align: right;\">\n",
              "      <th></th>\n",
              "      <th>sequence_name</th>\n",
              "      <th>cc</th>\n",
              "    </tr>\n",
              "  </thead>\n",
              "  <tbody>\n",
              "    <tr>\n",
              "      <th>0</th>\n",
              "      <td>127_hours_2000_2010_1</td>\n",
              "      <td>a man in a suit and tie standing in front of a...</td>\n",
              "    </tr>\n",
              "    <tr>\n",
              "      <th>1</th>\n",
              "      <td>127_hours_2182_2192_5</td>\n",
              "      <td>a man holding a toothbrush in his mouth. a wom...</td>\n",
              "    </tr>\n",
              "  </tbody>\n",
              "</table>\n",
              "</div>\n",
              "    <div class=\"colab-df-buttons\">\n",
              "\n",
              "  <div class=\"colab-df-container\">\n",
              "    <button class=\"colab-df-convert\" onclick=\"convertToInteractive('df-c948b8d7-0e3c-4c1e-826c-9f4bfe0da960')\"\n",
              "            title=\"Convert this dataframe to an interactive table.\"\n",
              "            style=\"display:none;\">\n",
              "\n",
              "  <svg xmlns=\"http://www.w3.org/2000/svg\" height=\"24px\" viewBox=\"0 -960 960 960\">\n",
              "    <path d=\"M120-120v-720h720v720H120Zm60-500h600v-160H180v160Zm220 220h160v-160H400v160Zm0 220h160v-160H400v160ZM180-400h160v-160H180v160Zm440 0h160v-160H620v160ZM180-180h160v-160H180v160Zm440 0h160v-160H620v160Z\"/>\n",
              "  </svg>\n",
              "    </button>\n",
              "\n",
              "  <style>\n",
              "    .colab-df-container {\n",
              "      display:flex;\n",
              "      gap: 12px;\n",
              "    }\n",
              "\n",
              "    .colab-df-convert {\n",
              "      background-color: #E8F0FE;\n",
              "      border: none;\n",
              "      border-radius: 50%;\n",
              "      cursor: pointer;\n",
              "      display: none;\n",
              "      fill: #1967D2;\n",
              "      height: 32px;\n",
              "      padding: 0 0 0 0;\n",
              "      width: 32px;\n",
              "    }\n",
              "\n",
              "    .colab-df-convert:hover {\n",
              "      background-color: #E2EBFA;\n",
              "      box-shadow: 0px 1px 2px rgba(60, 64, 67, 0.3), 0px 1px 3px 1px rgba(60, 64, 67, 0.15);\n",
              "      fill: #174EA6;\n",
              "    }\n",
              "\n",
              "    .colab-df-buttons div {\n",
              "      margin-bottom: 4px;\n",
              "    }\n",
              "\n",
              "    [theme=dark] .colab-df-convert {\n",
              "      background-color: #3B4455;\n",
              "      fill: #D2E3FC;\n",
              "    }\n",
              "\n",
              "    [theme=dark] .colab-df-convert:hover {\n",
              "      background-color: #434B5C;\n",
              "      box-shadow: 0px 1px 3px 1px rgba(0, 0, 0, 0.15);\n",
              "      filter: drop-shadow(0px 1px 2px rgba(0, 0, 0, 0.3));\n",
              "      fill: #FFFFFF;\n",
              "    }\n",
              "  </style>\n",
              "\n",
              "    <script>\n",
              "      const buttonEl =\n",
              "        document.querySelector('#df-c948b8d7-0e3c-4c1e-826c-9f4bfe0da960 button.colab-df-convert');\n",
              "      buttonEl.style.display =\n",
              "        google.colab.kernel.accessAllowed ? 'block' : 'none';\n",
              "\n",
              "      async function convertToInteractive(key) {\n",
              "        const element = document.querySelector('#df-c948b8d7-0e3c-4c1e-826c-9f4bfe0da960');\n",
              "        const dataTable =\n",
              "          await google.colab.kernel.invokeFunction('convertToInteractive',\n",
              "                                                    [key], {});\n",
              "        if (!dataTable) return;\n",
              "\n",
              "        const docLinkHtml = 'Like what you see? Visit the ' +\n",
              "          '<a target=\"_blank\" href=https://colab.research.google.com/notebooks/data_table.ipynb>data table notebook</a>'\n",
              "          + ' to learn more about interactive tables.';\n",
              "        element.innerHTML = '';\n",
              "        dataTable['output_type'] = 'display_data';\n",
              "        await google.colab.output.renderOutput(dataTable, element);\n",
              "        const docLink = document.createElement('div');\n",
              "        docLink.innerHTML = docLinkHtml;\n",
              "        element.appendChild(docLink);\n",
              "      }\n",
              "    </script>\n",
              "  </div>\n",
              "\n",
              "\n",
              "<div id=\"df-35aeea77-e5f2-4a52-b10e-499c397133b8\">\n",
              "  <button class=\"colab-df-quickchart\" onclick=\"quickchart('df-35aeea77-e5f2-4a52-b10e-499c397133b8')\"\n",
              "            title=\"Suggest charts\"\n",
              "            style=\"display:none;\">\n",
              "\n",
              "<svg xmlns=\"http://www.w3.org/2000/svg\" height=\"24px\"viewBox=\"0 0 24 24\"\n",
              "     width=\"24px\">\n",
              "    <g>\n",
              "        <path d=\"M19 3H5c-1.1 0-2 .9-2 2v14c0 1.1.9 2 2 2h14c1.1 0 2-.9 2-2V5c0-1.1-.9-2-2-2zM9 17H7v-7h2v7zm4 0h-2V7h2v10zm4 0h-2v-4h2v4z\"/>\n",
              "    </g>\n",
              "</svg>\n",
              "  </button>\n",
              "\n",
              "<style>\n",
              "  .colab-df-quickchart {\n",
              "      --bg-color: #E8F0FE;\n",
              "      --fill-color: #1967D2;\n",
              "      --hover-bg-color: #E2EBFA;\n",
              "      --hover-fill-color: #174EA6;\n",
              "      --disabled-fill-color: #AAA;\n",
              "      --disabled-bg-color: #DDD;\n",
              "  }\n",
              "\n",
              "  [theme=dark] .colab-df-quickchart {\n",
              "      --bg-color: #3B4455;\n",
              "      --fill-color: #D2E3FC;\n",
              "      --hover-bg-color: #434B5C;\n",
              "      --hover-fill-color: #FFFFFF;\n",
              "      --disabled-bg-color: #3B4455;\n",
              "      --disabled-fill-color: #666;\n",
              "  }\n",
              "\n",
              "  .colab-df-quickchart {\n",
              "    background-color: var(--bg-color);\n",
              "    border: none;\n",
              "    border-radius: 50%;\n",
              "    cursor: pointer;\n",
              "    display: none;\n",
              "    fill: var(--fill-color);\n",
              "    height: 32px;\n",
              "    padding: 0;\n",
              "    width: 32px;\n",
              "  }\n",
              "\n",
              "  .colab-df-quickchart:hover {\n",
              "    background-color: var(--hover-bg-color);\n",
              "    box-shadow: 0 1px 2px rgba(60, 64, 67, 0.3), 0 1px 3px 1px rgba(60, 64, 67, 0.15);\n",
              "    fill: var(--button-hover-fill-color);\n",
              "  }\n",
              "\n",
              "  .colab-df-quickchart-complete:disabled,\n",
              "  .colab-df-quickchart-complete:disabled:hover {\n",
              "    background-color: var(--disabled-bg-color);\n",
              "    fill: var(--disabled-fill-color);\n",
              "    box-shadow: none;\n",
              "  }\n",
              "\n",
              "  .colab-df-spinner {\n",
              "    border: 2px solid var(--fill-color);\n",
              "    border-color: transparent;\n",
              "    border-bottom-color: var(--fill-color);\n",
              "    animation:\n",
              "      spin 1s steps(1) infinite;\n",
              "  }\n",
              "\n",
              "  @keyframes spin {\n",
              "    0% {\n",
              "      border-color: transparent;\n",
              "      border-bottom-color: var(--fill-color);\n",
              "      border-left-color: var(--fill-color);\n",
              "    }\n",
              "    20% {\n",
              "      border-color: transparent;\n",
              "      border-left-color: var(--fill-color);\n",
              "      border-top-color: var(--fill-color);\n",
              "    }\n",
              "    30% {\n",
              "      border-color: transparent;\n",
              "      border-left-color: var(--fill-color);\n",
              "      border-top-color: var(--fill-color);\n",
              "      border-right-color: var(--fill-color);\n",
              "    }\n",
              "    40% {\n",
              "      border-color: transparent;\n",
              "      border-right-color: var(--fill-color);\n",
              "      border-top-color: var(--fill-color);\n",
              "    }\n",
              "    60% {\n",
              "      border-color: transparent;\n",
              "      border-right-color: var(--fill-color);\n",
              "    }\n",
              "    80% {\n",
              "      border-color: transparent;\n",
              "      border-right-color: var(--fill-color);\n",
              "      border-bottom-color: var(--fill-color);\n",
              "    }\n",
              "    90% {\n",
              "      border-color: transparent;\n",
              "      border-bottom-color: var(--fill-color);\n",
              "    }\n",
              "  }\n",
              "</style>\n",
              "\n",
              "  <script>\n",
              "    async function quickchart(key) {\n",
              "      const quickchartButtonEl =\n",
              "        document.querySelector('#' + key + ' button');\n",
              "      quickchartButtonEl.disabled = true;  // To prevent multiple clicks.\n",
              "      quickchartButtonEl.classList.add('colab-df-spinner');\n",
              "      try {\n",
              "        const charts = await google.colab.kernel.invokeFunction(\n",
              "            'suggestCharts', [key], {});\n",
              "      } catch (error) {\n",
              "        console.error('Error during call to suggestCharts:', error);\n",
              "      }\n",
              "      quickchartButtonEl.classList.remove('colab-df-spinner');\n",
              "      quickchartButtonEl.classList.add('colab-df-quickchart-complete');\n",
              "    }\n",
              "    (() => {\n",
              "      let quickchartButtonEl =\n",
              "        document.querySelector('#df-35aeea77-e5f2-4a52-b10e-499c397133b8 button');\n",
              "      quickchartButtonEl.style.display =\n",
              "        google.colab.kernel.accessAllowed ? 'block' : 'none';\n",
              "    })();\n",
              "  </script>\n",
              "</div>\n",
              "    </div>\n",
              "  </div>\n"
            ]
          },
          "metadata": {},
          "execution_count": 10
        }
      ]
    },
    {
      "cell_type": "code",
      "source": [
        "# Impresion del shape de captions.\n",
        "captions.shape"
      ],
      "metadata": {
        "colab": {
          "base_uri": "https://localhost:8080/"
        },
        "id": "NCaisAS8uGBC",
        "outputId": "db73564b-de76-4995-84bd-e4901915a99b"
      },
      "execution_count": 11,
      "outputs": [
        {
          "output_type": "execute_result",
          "data": {
            "text/plain": [
              "(660, 2)"
            ]
          },
          "metadata": {},
          "execution_count": 11
        }
      ]
    },
    {
      "cell_type": "markdown",
      "source": [
        "## 4. Preprocesamiento"
      ],
      "metadata": {
        "id": "YnSAndu19qjp"
      }
    },
    {
      "cell_type": "code",
      "source": [
        "# Preparación de dataset para entrenamiento y prueba.\n",
        "from datasets import Dataset, ClassLabel, Features, Value\n",
        "\n",
        "df = pd.DataFrame({'text': captions['cc'], 'labels': labels['memorable']}, index=None)\n",
        "\n",
        "dataset = Dataset.from_pandas(\n",
        "    df=df,\n",
        "    features=Features({\n",
        "        'text': Value(\"string\"),\n",
        "        'labels': ClassLabel(names=[int(i) for i in labels['memorable'].unique()])\n",
        "    })\n",
        ")"
      ],
      "metadata": {
        "id": "Rf5jlIidEDND"
      },
      "execution_count": 12,
      "outputs": []
    },
    {
      "cell_type": "code",
      "source": [
        "# División del dataset.\n",
        "train_test = dataset.train_test_split(train_size=0.7, stratify_by_column='labels')"
      ],
      "metadata": {
        "id": "7-lLDGv0H5K3"
      },
      "execution_count": 13,
      "outputs": []
    },
    {
      "cell_type": "code",
      "source": [
        "# Estructura del dataset.\n",
        "train_test"
      ],
      "metadata": {
        "colab": {
          "base_uri": "https://localhost:8080/"
        },
        "id": "BDqgP6E0IQ2s",
        "outputId": "95b6b321-4c49-4ffd-cb39-f6a65835806e"
      },
      "execution_count": 14,
      "outputs": [
        {
          "output_type": "execute_result",
          "data": {
            "text/plain": [
              "DatasetDict({\n",
              "    train: Dataset({\n",
              "        features: ['text', 'labels'],\n",
              "        num_rows: 461\n",
              "    })\n",
              "    test: Dataset({\n",
              "        features: ['text', 'labels'],\n",
              "        num_rows: 199\n",
              "    })\n",
              "})"
            ]
          },
          "metadata": {},
          "execution_count": 14
        }
      ]
    },
    {
      "cell_type": "markdown",
      "source": [
        "## 5. Uso de Word2Vec - RNN - LSTM"
      ],
      "metadata": {
        "id": "61cs3f3kQW_t"
      }
    },
    {
      "cell_type": "markdown",
      "source": [
        "### 5.1. Ingeniería de predictores"
      ],
      "metadata": {
        "id": "FQtiLgwyP7Pc"
      }
    },
    {
      "cell_type": "code",
      "source": [
        "# Instalación de vocabulario de spaCy para lemmatizer.\n",
        "! python -m spacy download 'en_core_web_sm' --quiet"
      ],
      "metadata": {
        "colab": {
          "base_uri": "https://localhost:8080/"
        },
        "id": "HMoGeCnGTASs",
        "outputId": "d9e98fc0-6a3e-47e9-9a7d-d68bcd6f3955"
      },
      "execution_count": null,
      "outputs": [
        {
          "output_type": "stream",
          "name": "stdout",
          "text": [
            "2023-11-22 21:28:23.130687: E tensorflow/compiler/xla/stream_executor/cuda/cuda_dnn.cc:9342] Unable to register cuDNN factory: Attempting to register factory for plugin cuDNN when one has already been registered\n",
            "2023-11-22 21:28:23.130747: E tensorflow/compiler/xla/stream_executor/cuda/cuda_fft.cc:609] Unable to register cuFFT factory: Attempting to register factory for plugin cuFFT when one has already been registered\n",
            "2023-11-22 21:28:23.130786: E tensorflow/compiler/xla/stream_executor/cuda/cuda_blas.cc:1518] Unable to register cuBLAS factory: Attempting to register factory for plugin cuBLAS when one has already been registered\n",
            "2023-11-22 21:28:24.612944: W tensorflow/compiler/tf2tensorrt/utils/py_utils.cc:38] TF-TRT Warning: Could not find TensorRT\n",
            "\u001b[2K     \u001b[90m━━━━━━━━━━━━━━━━━━━━━━━━━━━━━━━━━━━━━━━━\u001b[0m \u001b[32m12.8/12.8 MB\u001b[0m \u001b[31m32.9 MB/s\u001b[0m eta \u001b[36m0:00:00\u001b[0m\n",
            "\u001b[?25h\u001b[38;5;2m✔ Download and installation successful\u001b[0m\n",
            "You can now load the package via spacy.load('en_core_web_sm')\n"
          ]
        }
      ]
    },
    {
      "cell_type": "code",
      "source": [
        "# Descarga de perluniprops para tokenizer.\n",
        "import nltk\n",
        "nltk.download('perluniprops')"
      ],
      "metadata": {
        "colab": {
          "base_uri": "https://localhost:8080/"
        },
        "id": "Jq21xP2bQiAa",
        "outputId": "a1b07f8a-2272-4897-edf2-f59c6f56d11b"
      },
      "execution_count": null,
      "outputs": [
        {
          "output_type": "stream",
          "name": "stderr",
          "text": [
            "[nltk_data] Downloading package perluniprops to /root/nltk_data...\n",
            "[nltk_data]   Unzipping misc/perluniprops.zip.\n"
          ]
        },
        {
          "output_type": "execute_result",
          "data": {
            "text/plain": [
              "True"
            ]
          },
          "metadata": {},
          "execution_count": 16
        }
      ]
    },
    {
      "cell_type": "code",
      "source": [
        "# Instanciacion del normalizer.\n",
        "from m72109.nlp.normalization import TextNormalizer\n",
        "from nltk.tokenize.nist import NISTTokenizer\n",
        "from nltk.tokenize.casual import TweetTokenizer\n",
        "\n",
        "normalizer = TextNormalizer(tokenizer=NISTTokenizer(),\n",
        "                            language=\"english\",\n",
        "                            lemmatize=False,\n",
        "                            stem=False,\n",
        "                            strip_urls=False,\n",
        "                            strip_accents=True,\n",
        "                            token_min_len=2,\n",
        "                            preserve_case=False,\n",
        "                            strip_stopwords=True,\n",
        "                            return_tokens=True)"
      ],
      "metadata": {
        "id": "EbBuU5vootcE"
      },
      "execution_count": null,
      "outputs": []
    },
    {
      "cell_type": "code",
      "source": [
        "# Instanciacion del vectorizer y embeddings.\n",
        "from m72109.nlp.transformation import Word2VecVectorizer\n",
        "w2v = Word2VecVectorizer(model='./Models/Word2Vec/model-en.bin',\n",
        "                         sequence_to_idx=True)\n",
        "embedding_weights = w2v.get_weights().astype(\"float16\")\n",
        "embedding_size = w2v.emdedding_size\n",
        "vocab_size = w2v.vocab_size"
      ],
      "metadata": {
        "colab": {
          "base_uri": "https://localhost:8080/"
        },
        "id": "UjrWXK2d0K3A",
        "outputId": "8608df0c-858b-4074-e8fd-5062238e4c10"
      },
      "execution_count": null,
      "outputs": [
        {
          "output_type": "stream",
          "name": "stderr",
          "text": [
            "/usr/local/lib/python3.10/dist-packages/gensim/models/keyedvectors.py:551: UserWarning: Adding single vectors to a KeyedVectors which grows by one each time can be costly. Consider adding in batches or preallocating to the required size.\n",
            "  warnings.warn(\n",
            "100%|██████████| 4027170/4027170 [00:09<00:00, 435572.18it/s]\n"
          ]
        }
      ]
    },
    {
      "cell_type": "code",
      "source": [
        "# Instanciación del padder.\n",
        "from m72109.nlp.transformation import PadSequenceTransformer\n",
        "max_seq_len = 100\n",
        "seq2seq = PadSequenceTransformer(max_len=max_seq_len)"
      ],
      "metadata": {
        "id": "uHpwPhHWzfym"
      },
      "execution_count": null,
      "outputs": []
    },
    {
      "cell_type": "markdown",
      "source": [
        "### 5.2. Modelado"
      ],
      "metadata": {
        "id": "jr5wKnwYQAck"
      }
    },
    {
      "cell_type": "code",
      "source": [
        "# Construcción de la red neuronal.\n",
        "import tensorflow as tf\n",
        "import tensorflow.keras as keras\n",
        "from tensorflow.keras.models import Sequential, Model\n",
        "from tensorflow.keras.layers import Embedding, LSTM, Dense, Input, SpatialDropout1D\n",
        "\n",
        "def build_model(sequence_len, vocab_size, embedding_size, embedding_weights):\n",
        "  model = Sequential([\n",
        "      Embedding(input_dim=vocab_size,\n",
        "                output_dim=embedding_size,\n",
        "                weights=[embedding_weights],\n",
        "                trainable=False,\n",
        "                mask_zero=True),\n",
        "      SpatialDropout1D(0.2),\n",
        "      LSTM(embedding_size),\n",
        "      Dense(2, activation='softmax')\n",
        "  ])\n",
        "  model.compile(loss='sparse_categorical_crossentropy',\n",
        "                optimizer='adam',\n",
        "                metrics=['accuracy'])\n",
        "  return model"
      ],
      "metadata": {
        "id": "xBCAsoEkQWoR"
      },
      "execution_count": null,
      "outputs": []
    },
    {
      "cell_type": "code",
      "source": [
        "# Instanciación del estimator.\n",
        "from scikeras.wrappers import KerasClassifier\n",
        "\n",
        "estimator = KerasClassifier(\n",
        "    build_fn=build_model,\n",
        "    epochs=5,\n",
        "    sequence_len=max_seq_len,\n",
        "    vocab_size=w2v.vocab_size,\n",
        "    embedding_size=embedding_size,\n",
        "    embedding_weights=embedding_weights,\n",
        "    batch_size=8,\n",
        "    validation_split=0.33\n",
        ")"
      ],
      "metadata": {
        "id": "P79LimTi-YhO"
      },
      "execution_count": null,
      "outputs": []
    },
    {
      "cell_type": "code",
      "source": [
        "# Construccion del pipeline de transformacion.\n",
        "from sklearn.pipeline import Pipeline\n",
        "\n",
        "pipeline = Pipeline(steps=[('normalizer', normalizer),\n",
        "                           ('vectorizer', w2v),\n",
        "                           ('padder', seq2seq),\n",
        "                           ('estimator', estimator)\n",
        "                           ])"
      ],
      "metadata": {
        "id": "sU-bMY9711pd"
      },
      "execution_count": null,
      "outputs": []
    },
    {
      "cell_type": "code",
      "source": [
        "# Entrenamiento.\n",
        "X_train = [doc[\"text\"] for doc in train_test[\"train\"]]\n",
        "y_train = [doc[\"labels\"] for doc in train_test[\"train\"]]\n",
        "\n",
        "model = pipeline.fit(X=X_train, y=y_train)"
      ],
      "metadata": {
        "colab": {
          "base_uri": "https://localhost:8080/"
        },
        "id": "ir3fE90s2pLz",
        "outputId": "50b31c28-d4ea-4419-9022-a43248773627"
      },
      "execution_count": null,
      "outputs": [
        {
          "output_type": "stream",
          "name": "stderr",
          "text": [
            "100%|██████████| 461/461 [00:01<00:00, 336.56it/s]\n",
            "100%|██████████| 461/461 [00:00<00:00, 5806.77it/s]\n",
            "/usr/local/lib/python3.10/dist-packages/scikeras/wrappers.py:915: UserWarning: ``build_fn`` will be renamed to ``model`` in a future release, at which point use of ``build_fn`` will raise an Error instead.\n",
            "  X, y = self._initialize(X, y)\n"
          ]
        },
        {
          "output_type": "stream",
          "name": "stdout",
          "text": [
            "Epoch 1/5\n",
            "39/39 [==============================] - 12s 50ms/step - loss: 0.7025 - accuracy: 0.5162 - val_loss: 0.6933 - val_accuracy: 0.4967\n",
            "Epoch 2/5\n",
            "39/39 [==============================] - 1s 14ms/step - loss: 0.6785 - accuracy: 0.5682 - val_loss: 0.6934 - val_accuracy: 0.5556\n",
            "Epoch 3/5\n",
            "39/39 [==============================] - 0s 12ms/step - loss: 0.6671 - accuracy: 0.5617 - val_loss: 0.6881 - val_accuracy: 0.4967\n",
            "Epoch 4/5\n",
            "39/39 [==============================] - 0s 11ms/step - loss: 0.6446 - accuracy: 0.5974 - val_loss: 0.6918 - val_accuracy: 0.5817\n",
            "Epoch 5/5\n",
            "39/39 [==============================] - 0s 12ms/step - loss: 0.6350 - accuracy: 0.6299 - val_loss: 0.6763 - val_accuracy: 0.5556\n"
          ]
        }
      ]
    },
    {
      "cell_type": "code",
      "source": [
        "# Datos de prueba.\n",
        "X_test = [doc[\"text\"] for doc in train_test[\"test\"]]\n",
        "y_test = [doc[\"labels\"] for doc in train_test[\"test\"]]"
      ],
      "metadata": {
        "id": "H5P6vRKl3HT8"
      },
      "execution_count": null,
      "outputs": []
    },
    {
      "cell_type": "code",
      "source": [
        "# Obtencion de probabilidades.\n",
        "probabilities = model.predict_proba(X_test)\n",
        "\n",
        "# Obtención de predicciones.\n",
        "predictions = np.argmax(probabilities, axis=1)"
      ],
      "metadata": {
        "id": "h5vuFTZ15N5A",
        "colab": {
          "base_uri": "https://localhost:8080/"
        },
        "outputId": "fa2b600d-1c22-41ec-9a0f-85d7942b9292"
      },
      "execution_count": null,
      "outputs": [
        {
          "output_type": "stream",
          "name": "stderr",
          "text": [
            "100%|██████████| 199/199 [00:00<00:00, 511.99it/s]\n",
            "100%|██████████| 199/199 [00:00<00:00, 10652.78it/s]\n"
          ]
        },
        {
          "output_type": "stream",
          "name": "stdout",
          "text": [
            "25/25 [==============================] - 1s 4ms/step\n"
          ]
        }
      ]
    },
    {
      "cell_type": "code",
      "source": [
        "# Obtención de metricas.\n",
        "from sklearn.metrics import classification_report\n",
        "\n",
        "print(classification_report(y_test, predictions))"
      ],
      "metadata": {
        "id": "lX2eF3wl4wvj",
        "colab": {
          "base_uri": "https://localhost:8080/"
        },
        "outputId": "ac372c20-b9e3-4061-8123-0ae68db0f759"
      },
      "execution_count": null,
      "outputs": [
        {
          "output_type": "stream",
          "name": "stdout",
          "text": [
            "              precision    recall  f1-score   support\n",
            "\n",
            "           0       0.62      0.69      0.65       111\n",
            "           1       0.54      0.45      0.49        88\n",
            "\n",
            "    accuracy                           0.59       199\n",
            "   macro avg       0.58      0.57      0.57       199\n",
            "weighted avg       0.58      0.59      0.58       199\n",
            "\n"
          ]
        }
      ]
    },
    {
      "cell_type": "code",
      "source": [
        "# Representacion gráfica del ajuste del modelo (probabilidades y valores reales).\n",
        "import matplotlib.pyplot as plt\n",
        "\n",
        "docs_len = 100\n",
        "indexes = [*range(len(y_test))][:docs_len]\n",
        "\n",
        "fig, ax = plt.subplots(figsize=(20,6))\n",
        "ax.scatter(indexes, y_test[:docs_len], label='Real', color='green', alpha=1.0)\n",
        "ax.scatter(indexes, probabilities[:,1][:docs_len], label='Predicción', color='orange', alpha=0.5)\n",
        "ax.legend()\n",
        "plt.show()"
      ],
      "metadata": {
        "colab": {
          "base_uri": "https://localhost:8080/",
          "height": 522
        },
        "id": "LvQqsiTN-uCn",
        "outputId": "d988299a-f179-4ef0-f8ff-c183367f0fee"
      },
      "execution_count": null,
      "outputs": [
        {
          "output_type": "display_data",
          "data": {
            "text/plain": [
              "<Figure size 2000x600 with 1 Axes>"
            ],
            "image/png": "[encoded data removed]"
          },
          "metadata": {}
        }
      ]
    },
    {
      "cell_type": "code",
      "source": [
        "# Representación gráfica de la curva ROC-AUC.\n",
        "from sklearn.metrics import roc_curve, roc_auc_score\n",
        "import matplotlib.pyplot as plt\n",
        "\n",
        "# Calcula la curva ROC.\n",
        "fpr, tpr, thresholds = roc_curve(y_test, probabilities[:,1])\n",
        "\n",
        "# Calcula el valor AUC.\n",
        "auc = roc_auc_score(y_test, probabilities[:,1])\n",
        "\n",
        "# Grafica la curva ROC.\n",
        "fig, ax = plt.subplots(figsize=(10,6))\n",
        "plt.plot(fpr, tpr, label='Curva ROC (AUC = %0.2f)' % auc, color=\"green\")\n",
        "plt.plot([0, 1], [0, 1], 'k--')\n",
        "plt.xlabel('Tasa de Falsos Positivos (1 - Especificidad)')\n",
        "plt.ylabel('Tasa de Verdaderos Positivos (Sensibilidad)')\n",
        "plt.title('Curva ROC')\n",
        "plt.legend(loc=\"lower right\")\n",
        "plt.show()"
      ],
      "metadata": {
        "colab": {
          "base_uri": "https://localhost:8080/",
          "height": 564
        },
        "id": "E_gsByfRAXXS",
        "outputId": "66132173-d0ad-4567-dee4-0febe101ee69"
      },
      "execution_count": null,
      "outputs": [
        {
          "output_type": "display_data",
          "data": {
            "text/plain": [
              "<Figure size 1000x600 with 1 Axes>"
            ],
            "image/png": "[encoded data removed]"
          },
          "metadata": {}
        }
      ]
    },
    {
      "cell_type": "code",
      "source": [
        "# Persistencia del modelo.\n",
        "from joblib import dump, load\n",
        "\n",
        "dump(model, 'rnn_1.0.joblib')"
      ],
      "metadata": {
        "colab": {
          "base_uri": "https://localhost:8080/"
        },
        "id": "2_iuv7em8n1o",
        "outputId": "babde240-e35e-4988-d916-10083b6cab31"
      },
      "execution_count": null,
      "outputs": [
        {
          "output_type": "execute_result",
          "data": {
            "text/plain": [
              "['rnn_1.0.joblib']"
            ]
          },
          "metadata": {},
          "execution_count": 30
        }
      ]
    },
    {
      "cell_type": "markdown",
      "source": [
        "## 6. Uso de transformers: Modelo BERT Base\n"
      ],
      "metadata": {
        "id": "U7ZMUaLAqEkd"
      }
    },
    {
      "cell_type": "code",
      "source": [
        "# Instanciación de tokenizer.\n",
        "from transformers import AutoTokenizer\n",
        "tokenizer = AutoTokenizer.from_pretrained('bert-base-uncased', do_lower_case=True)"
      ],
      "metadata": {
        "id": "9w3N1uP0CFCj",
        "colab": {
          "base_uri": "https://localhost:8080/",
          "height": 145,
          "referenced_widgets": [
            "49255379eb6243cf9c139865380838c5",
            "c6b643fbb68b49a7a667ee8900e563a4",
            "f082b02971c84f979428c1eac7ef15bc",
            "f42a08cf92974deb9d7ee26ce93b1012",
            "85e7e24cbc2643c09dd0419451980eb2",
            "f94f7e4139994cedbea15899ad6bf0f2",
            "e904acc5c81a4d4ba8eab4f86c9e4369",
            "e35bfd4ceaa3443f94cbc06320c4de62",
            "c5273664e6ec41fa93212232491b6b1a",
            "b41e96786f3a4f72bdf68da7a2f28c59",
            "35bacbebe6dd41be9667d60dc3eeda0e",
            "708b4d9639294cdaa92d4c3f1de94be9",
            "fe744c16734942d983c168cff76c29b7",
            "c51fcaf313f643518bd565dd62b3c395",
            "d776b5f1ffda4a7a9d7007ce1641ff13",
            "5e266772a32e4cf1a5113ef34b43ab0c",
            "65f26d45e6fb425a9c5f7c55610b0dfb",
            "e9463b78ff234c83a7da539b000b6861",
            "370a70c984994b6d99df931459073be4",
            "84f63a59a9284dcba05d5135bd8fca60",
            "c1e2d80650304728b7cff3e17667026e",
            "496b7fda9717432baaeae0473abc731f",
            "f43568d72cde4db58ea8daab842425d6",
            "8d0e3a6f63754b33b02c8ef2f0c90713",
            "ce1ac2f4c32f4105b9c30a7962f6818c",
            "d837dd08604b42258525aab276112b17",
            "b6113262d1eb4db49962f1dec51e8c43",
            "7a02005ec61f40abae0ba01b47ed443a",
            "854e74fdc7be4e59b9041cf2771e2118",
            "bf98fd1259454a869340a4626c6045af",
            "b74076201c1948198eb97b39b033fad6",
            "f9670b782b274ed2b576d42ce63c97fb",
            "006a2651b1ed4f3b9f3178e0246d4a0e",
            "7c3935cc5f224d3c9c329a6a029b5345",
            "91d16c953e5242fd89934475d14b86fe",
            "6ba79b056c354ea390bb71d3a26d7221",
            "3a45b71d16ec4feebfb341d085d25b04",
            "b1d445b684aa4ec996611bd5bd25366c",
            "724d7596804e457b93f8be0a520c2319",
            "ef0504a8391f4845af4f663fe51720e9",
            "cef4c96d1a514885b4707d6127da37e6",
            "2ab580a12bfe43fea563cc1fc427903d",
            "d6035f4f3fae4f9fb61c484779a44289",
            "3e3cd1e7f4d74b85a2dd209200152e1c"
          ]
        },
        "outputId": "fc3e19b3-f401-45a9-dd44-9ce4298a6e6f"
      },
      "execution_count": null,
      "outputs": [
        {
          "output_type": "display_data",
          "data": {
            "text/plain": [
              "tokenizer_config.json:   0%|          | 0.00/28.0 [00:00<?, ?B/s]"
            ],
            "application/vnd.jupyter.widget-view+json": {
              "version_major": 2,
              "version_minor": 0,
              "model_id": "49255379eb6243cf9c139865380838c5"
            }
          },
          "metadata": {}
        },
        {
          "output_type": "display_data",
          "data": {
            "text/plain": [
              "config.json:   0%|          | 0.00/570 [00:00<?, ?B/s]"
            ],
            "application/vnd.jupyter.widget-view+json": {
              "version_major": 2,
              "version_minor": 0,
              "model_id": "708b4d9639294cdaa92d4c3f1de94be9"
            }
          },
          "metadata": {}
        },
        {
          "output_type": "display_data",
          "data": {
            "text/plain": [
              "vocab.txt:   0%|          | 0.00/232k [00:00<?, ?B/s]"
            ],
            "application/vnd.jupyter.widget-view+json": {
              "version_major": 2,
              "version_minor": 0,
              "model_id": "f43568d72cde4db58ea8daab842425d6"
            }
          },
          "metadata": {}
        },
        {
          "output_type": "display_data",
          "data": {
            "text/plain": [
              "tokenizer.json:   0%|          | 0.00/466k [00:00<?, ?B/s]"
            ],
            "application/vnd.jupyter.widget-view+json": {
              "version_major": 2,
              "version_minor": 0,
              "model_id": "7c3935cc5f224d3c9c329a6a029b5345"
            }
          },
          "metadata": {}
        }
      ]
    },
    {
      "cell_type": "code",
      "source": [
        "# Aplicación del tokenizer.\n",
        "def tokenization(example):\n",
        "    return tokenizer(example[\"text\"], padding='max_length', truncation=True, return_tensors=\"pt\")\n",
        "\n",
        "train_test_tokenized = train_test.map(tokenization, batched=True, batch_size=16)"
      ],
      "metadata": {
        "colab": {
          "base_uri": "https://localhost:8080/",
          "height": 81,
          "referenced_widgets": [
            "3a2c261dfe4c44ee916b910261076925",
            "9efc5b49614840b8b55f0115edbe551b",
            "1ceb4552d74248c5aab587e82457cdc0",
            "11c81d33b3714a33b016b7d7e59aba99",
            "ec82af08102549498bdf8d709f884fa0",
            "78cc0b53e6ca483d90145daa646e205c",
            "ddd222a75f204ef587190c6c0e70324e",
            "e4b5c909304441c994623e6e0b240cf8",
            "752653ade1944188a966300037a0f35c",
            "13c92ed5a64b4b478d6e92e720749bbf",
            "9ff240e0deeb488dbd0ffb0473e761c6",
            "2bdd43687dbb480687d94d610e29aead",
            "ab625dd958064d2aaedac3b73f2d64b0",
            "31f7f3f398f44cc792d25f4c8800d7c3",
            "566a4255e8b340f2bb746904b1176f86",
            "e282d2674bb64ff49e8179939d0e0f7c",
            "fee76ad14d8f489486c1b7ee9a833461",
            "8e0835b747774ad1bb7a40f2ee66fdb7",
            "981d99e65a7941bbba0d3b156c2b66b4",
            "8ff12770d73242b9b6db46efc1ae4a77",
            "f3f58f30c06443f7887acd711c53be3e",
            "f250f5721f3144edba80f8947f13b10e"
          ]
        },
        "id": "e97eSA0qIZPC",
        "outputId": "752e7a47-7e35-4504-d844-c5385c1ebf9e"
      },
      "execution_count": null,
      "outputs": [
        {
          "output_type": "display_data",
          "data": {
            "text/plain": [
              "Map:   0%|          | 0/461 [00:00<?, ? examples/s]"
            ],
            "application/vnd.jupyter.widget-view+json": {
              "version_major": 2,
              "version_minor": 0,
              "model_id": "3a2c261dfe4c44ee916b910261076925"
            }
          },
          "metadata": {}
        },
        {
          "output_type": "display_data",
          "data": {
            "text/plain": [
              "Map:   0%|          | 0/199 [00:00<?, ? examples/s]"
            ],
            "application/vnd.jupyter.widget-view+json": {
              "version_major": 2,
              "version_minor": 0,
              "model_id": "2bdd43687dbb480687d94d610e29aead"
            }
          },
          "metadata": {}
        }
      ]
    },
    {
      "cell_type": "code",
      "source": [
        "# Diseño del modelo.\n",
        "from transformers import AutoModelForSequenceClassification\n",
        "\n",
        "num_labels=len([int(i) for i in labels['memorable'].unique()])\n",
        "model = AutoModelForSequenceClassification.from_pretrained('bert-base-uncased',\n",
        "                                                           num_labels=num_labels)"
      ],
      "metadata": {
        "colab": {
          "base_uri": "https://localhost:8080/",
          "height": 84,
          "referenced_widgets": [
            "59e83fa92f4d46a59309b5328f0fa8b8",
            "8888f6c73d164eacaa89c5ce31f3e193",
            "67ef6ab4908d447aa667e23b9617a007",
            "c37234f7c4f343a79d29432206b641fd",
            "0f98e85f38694461b9f7fc600ddcdcd4",
            "7459e359e59243f5ab462b8e07fc2b2e",
            "7ee9ee61c732474bbcf6acc8b7467fd9",
            "98320028540249a68eac369dd5d8ad1d",
            "5182c04a6f364d62b83acac6056c34a1",
            "541518e420414f4b8ab0b057d5a23ff9",
            "b2b2a8b76a8c49659bcc70b3459124d6"
          ]
        },
        "id": "eRFMUrAjIZHe",
        "outputId": "0a391aea-835c-485f-a053-fbe6a691da54"
      },
      "execution_count": null,
      "outputs": [
        {
          "output_type": "display_data",
          "data": {
            "text/plain": [
              "model.safetensors:   0%|          | 0.00/440M [00:00<?, ?B/s]"
            ],
            "application/vnd.jupyter.widget-view+json": {
              "version_major": 2,
              "version_minor": 0,
              "model_id": "59e83fa92f4d46a59309b5328f0fa8b8"
            }
          },
          "metadata": {}
        },
        {
          "output_type": "stream",
          "name": "stderr",
          "text": [
            "Some weights of BertForSequenceClassification were not initialized from the model checkpoint at bert-base-uncased and are newly initialized: ['classifier.bias', 'classifier.weight']\n",
            "You should probably TRAIN this model on a down-stream task to be able to use it for predictions and inference.\n"
          ]
        }
      ]
    },
    {
      "cell_type": "code",
      "source": [
        "# Summary del modelo.\n",
        "print(model)"
      ],
      "metadata": {
        "colab": {
          "base_uri": "https://localhost:8080/"
        },
        "id": "wfkL7Qrbqwgd",
        "outputId": "5bfdb442-33eb-4b91-f0bc-03c380da03af"
      },
      "execution_count": null,
      "outputs": [
        {
          "output_type": "stream",
          "name": "stdout",
          "text": [
            "BertForSequenceClassification(\n",
            "  (bert): BertModel(\n",
            "    (embeddings): BertEmbeddings(\n",
            "      (word_embeddings): Embedding(30522, 768, padding_idx=0)\n",
            "      (position_embeddings): Embedding(512, 768)\n",
            "      (token_type_embeddings): Embedding(2, 768)\n",
            "      (LayerNorm): LayerNorm((768,), eps=1e-12, elementwise_affine=True)\n",
            "      (dropout): Dropout(p=0.1, inplace=False)\n",
            "    )\n",
            "    (encoder): BertEncoder(\n",
            "      (layer): ModuleList(\n",
            "        (0-11): 12 x BertLayer(\n",
            "          (attention): BertAttention(\n",
            "            (self): BertSelfAttention(\n",
            "              (query): Linear(in_features=768, out_features=768, bias=True)\n",
            "              (key): Linear(in_features=768, out_features=768, bias=True)\n",
            "              (value): Linear(in_features=768, out_features=768, bias=True)\n",
            "              (dropout): Dropout(p=0.1, inplace=False)\n",
            "            )\n",
            "            (output): BertSelfOutput(\n",
            "              (dense): Linear(in_features=768, out_features=768, bias=True)\n",
            "              (LayerNorm): LayerNorm((768,), eps=1e-12, elementwise_affine=True)\n",
            "              (dropout): Dropout(p=0.1, inplace=False)\n",
            "            )\n",
            "          )\n",
            "          (intermediate): BertIntermediate(\n",
            "            (dense): Linear(in_features=768, out_features=3072, bias=True)\n",
            "            (intermediate_act_fn): GELUActivation()\n",
            "          )\n",
            "          (output): BertOutput(\n",
            "            (dense): Linear(in_features=3072, out_features=768, bias=True)\n",
            "            (LayerNorm): LayerNorm((768,), eps=1e-12, elementwise_affine=True)\n",
            "            (dropout): Dropout(p=0.1, inplace=False)\n",
            "          )\n",
            "        )\n",
            "      )\n",
            "    )\n",
            "    (pooler): BertPooler(\n",
            "      (dense): Linear(in_features=768, out_features=768, bias=True)\n",
            "      (activation): Tanh()\n",
            "    )\n",
            "  )\n",
            "  (dropout): Dropout(p=0.1, inplace=False)\n",
            "  (classifier): Linear(in_features=768, out_features=2, bias=True)\n",
            ")\n"
          ]
        }
      ]
    },
    {
      "cell_type": "code",
      "source": [
        "# Configuración del Modelo BERT.\n",
        "from transformers import Trainer, TrainingArguments, DataCollatorForLanguageModeling\n",
        "\n",
        "training_args = TrainingArguments(\n",
        "    output_dir='./results',          # Directorio de trabajo del Trainer\n",
        "    num_train_epochs=50,              # Numero total de epochs sobre el que entrenaremos\n",
        "    warmup_steps=500,                # Numero de pasos que se usaran para determinar la politica de Learning Rate\n",
        "    weight_decay=0.1,               # Weight decay\n",
        "    logging_dir='./logs',            # Directorio de logs\n",
        "    per_device_train_batch_size=16,\n",
        "    per_device_eval_batch_size=16\n",
        ")"
      ],
      "metadata": {
        "id": "nfhQXH20JDEC"
      },
      "execution_count": null,
      "outputs": []
    },
    {
      "cell_type": "code",
      "source": [
        "# Entrenamiento del modelo BERT.\n",
        "trainer = Trainer(\n",
        "    model=model,                         # modelo sobre el que haremos fine tunning\n",
        "    args=training_args,                  # parametros del entrenamiento\n",
        "    train_dataset=train_test_tokenized['train'],   # set de datos de entrenamiento\n",
        "    eval_dataset=train_test_tokenized['test'],     # set de datos de evaluación\n",
        ")\n",
        "\n",
        "history = trainer.train()"
      ],
      "metadata": {
        "colab": {
          "base_uri": "https://localhost:8080/",
          "height": 138
        },
        "id": "MJxd1UZYJC9e",
        "outputId": "d42dbe0f-17a7-4b6c-a71c-6569c8bbbf42"
      },
      "execution_count": null,
      "outputs": [
        {
          "output_type": "display_data",
          "data": {
            "text/plain": [
              "<IPython.core.display.HTML object>"
            ],
            "text/html": [
              "\n",
              "    <div>\n",
              "      \n",
              "      <progress value='1450' max='1450' style='width:300px; height:20px; vertical-align: middle;'></progress>\n",
              "      [1450/1450 36:44, Epoch 50/50]\n",
              "    </div>\n",
              "    <table border=\"1\" class=\"dataframe\">\n",
              "  <thead>\n",
              " <tr style=\"text-align: left;\">\n",
              "      <th>Step</th>\n",
              "      <th>Training Loss</th>\n",
              "    </tr>\n",
              "  </thead>\n",
              "  <tbody>\n",
              "    <tr>\n",
              "      <td>500</td>\n",
              "      <td>0.531800</td>\n",
              "    </tr>\n",
              "    <tr>\n",
              "      <td>1000</td>\n",
              "      <td>0.055800</td>\n",
              "    </tr>\n",
              "  </tbody>\n",
              "</table><p>"
            ]
          },
          "metadata": {}
        }
      ]
    },
    {
      "cell_type": "code",
      "source": [
        "# Metricas del entrenamiento.\n",
        "print(history)"
      ],
      "metadata": {
        "colab": {
          "base_uri": "https://localhost:8080/"
        },
        "id": "nJjn0QCf-y2U",
        "outputId": "06b08e29-7548-4b80-d016-99d83d7cd73f"
      },
      "execution_count": null,
      "outputs": [
        {
          "output_type": "stream",
          "name": "stdout",
          "text": [
            "TrainOutput(global_step=1450, training_loss=0.20332908696141735, metrics={'train_runtime': 2209.2009, 'train_samples_per_second': 10.434, 'train_steps_per_second': 0.656, 'total_flos': 6064709826048000.0, 'train_loss': 0.20332908696141735, 'epoch': 50.0})\n"
          ]
        }
      ]
    },
    {
      "cell_type": "code",
      "source": [
        "# Obtencion de y_pred / y_test.\n",
        "predictions = trainer.predict(test_dataset=train_test_tokenized['test'])\n",
        "y_test = train_test_tokenized['test']['labels']"
      ],
      "metadata": {
        "colab": {
          "base_uri": "https://localhost:8080/",
          "height": 17
        },
        "id": "FioQ1X1WQozN",
        "outputId": "bdb7e879-13fe-4e14-f0cc-c5c7e3541a6e"
      },
      "execution_count": null,
      "outputs": [
        {
          "output_type": "display_data",
          "data": {
            "text/plain": [
              "<IPython.core.display.HTML object>"
            ],
            "text/html": []
          },
          "metadata": {}
        }
      ]
    },
    {
      "cell_type": "code",
      "source": [
        "# Obtención de probabilidades.\n",
        "input = torch.from_numpy(predictions[0])\n",
        "m = torch.nn.Softmax(dim=1) # Función torch para convertir logits en probabilidades.\n",
        "probabilities = m(input)"
      ],
      "metadata": {
        "id": "Oe8xN7AzPelj"
      },
      "execution_count": null,
      "outputs": []
    },
    {
      "cell_type": "markdown",
      "source": [
        "<img src=\"data:image/png;base64,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\">"
      ],
      "metadata": {
        "id": "tOvwm9tgh5aW"
      }
    },
    {
      "cell_type": "code",
      "source": [
        "# Obtención de predicciones.\n",
        "y_pred = np.argmax(probabilities, axis=1)\n",
        "\n",
        "# probabilities = np.apply_along_axis(arr=predictions[0],\n",
        "#                                      func1d = lambda x: np.exp(x) / np.sum(np.exp(x)),\n",
        "#                                      axis = 1)"
      ],
      "metadata": {
        "id": "3WHJSBuQQAxA"
      },
      "execution_count": null,
      "outputs": []
    },
    {
      "cell_type": "code",
      "source": [
        "# Obtención de metricas.\n",
        "from sklearn.metrics import classification_report\n",
        "\n",
        "print(classification_report(y_test, y_pred))"
      ],
      "metadata": {
        "colab": {
          "base_uri": "https://localhost:8080/"
        },
        "id": "hAe87NKi93MT",
        "outputId": "02e9c72b-edfc-4935-a3ef-e37e281c56d7"
      },
      "execution_count": null,
      "outputs": [
        {
          "output_type": "stream",
          "name": "stdout",
          "text": [
            "              precision    recall  f1-score   support\n",
            "\n",
            "           0       0.59      0.60      0.60       111\n",
            "           1       0.49      0.48      0.48        88\n",
            "\n",
            "    accuracy                           0.55       199\n",
            "   macro avg       0.54      0.54      0.54       199\n",
            "weighted avg       0.55      0.55      0.55       199\n",
            "\n"
          ]
        }
      ]
    },
    {
      "cell_type": "code",
      "source": [
        "# Representacion gráfica del ajuste del modelo (probabilidades y valores reales).\n",
        "import matplotlib.pyplot as plt\n",
        "\n",
        "docs_len = 199\n",
        "indexes = [*range(len(y_pred))][:docs_len]\n",
        "\n",
        "fig, ax = plt.subplots(figsize=(20,6))\n",
        "ax.scatter(indexes, y_test[:docs_len], label='Real', color='green', alpha=1.0)\n",
        "ax.scatter(indexes, probabilities[:,1][:docs_len], label='Predicción', color='orange', alpha=0.5)\n",
        "ax.legend()\n",
        "plt.show()"
      ],
      "metadata": {
        "colab": {
          "base_uri": "https://localhost:8080/",
          "height": 486
        },
        "id": "E1VD4gaYST2g",
        "outputId": "c873587e-1c24-4853-baf3-2aafa3d7fbcc"
      },
      "execution_count": null,
      "outputs": [
        {
          "output_type": "display_data",
          "data": {
            "text/plain": [
              "<Figure size 2000x600 with 1 Axes>"
            ],
            "image/png": "[encoded data removed]"
          },
          "metadata": {}
        }
      ]
    },
    {
      "cell_type": "code",
      "source": [
        "# Representación gráfica de la curva ROC-AUC.\n",
        "from sklearn.metrics import roc_curve, roc_auc_score\n",
        "import matplotlib.pyplot as plt\n",
        "\n",
        "# Calcula la curva ROC.\n",
        "fpr, tpr, thresholds = roc_curve(y_test, probabilities[:,1])\n",
        "\n",
        "# Calcula el valor AUC.\n",
        "auc = roc_auc_score(y_test, probabilities[:,1])\n",
        "\n",
        "# Grafica la curva ROC.\n",
        "fig, ax = plt.subplots(figsize=(10,6))\n",
        "plt.plot(fpr, tpr, label='Curva ROC (AUC = %0.2f)' % auc, color=\"green\")\n",
        "plt.plot([0, 1], [0, 1], 'k--')\n",
        "plt.xlabel('Tasa de Falsos Positivos (1 - Especificidad)')\n",
        "plt.ylabel('Tasa de Verdaderos Positivos (Sensibilidad)')\n",
        "plt.title('Curva ROC')\n",
        "plt.legend(loc=\"lower right\")\n",
        "plt.show()"
      ],
      "metadata": {
        "id": "i58XsSz-RTUf",
        "colab": {
          "base_uri": "https://localhost:8080/",
          "height": 564
        },
        "outputId": "f6c460ca-e614-484b-a7d2-81d6b860334b"
      },
      "execution_count": null,
      "outputs": [
        {
          "output_type": "display_data",
          "data": {
            "text/plain": [
              "<Figure size 1000x600 with 1 Axes>"
            ],
            "image/png": "[encoded data removed]"
          },
          "metadata": {}
        }
      ]
    },
    {
      "cell_type": "code",
      "source": [
        "# Limpieza de memoria.\n",
        "import gc\n",
        "\n",
        "# Garbage collector.\n",
        "gc.collect()\n",
        "\n",
        "# Limpieza de memoria cache.\n",
        "torch.cuda.empty_cache()"
      ],
      "metadata": {
        "id": "GRY5NE8kRTOK"
      },
      "execution_count": null,
      "outputs": []
    },
    {
      "cell_type": "markdown",
      "source": [
        "## 7. Uso de BGE Embedding"
      ],
      "metadata": {
        "id": "tKvBGGYcwXp6"
      }
    },
    {
      "cell_type": "code",
      "source": [
        "# Fuente:\n",
        "# https://huggingface.co/BAAI/llm-embedder"
      ],
      "metadata": {
        "id": "LncsA1We_yg4"
      },
      "execution_count": null,
      "outputs": []
    },
    {
      "cell_type": "code",
      "source": [
        "# Instanciación de tokenizer.\n",
        "from transformers import AutoTokenizer\n",
        "tokenizer = AutoTokenizer.from_pretrained('BAAI/llm-embedder', do_lower_case=True)"
      ],
      "metadata": {
        "id": "q2bv1BOf-qeW",
        "colab": {
          "base_uri": "https://localhost:8080/",
          "height": 145,
          "referenced_widgets": [
            "d4c8065eeaf24d4dbc9d079b225252fa",
            "1dc1594cd23f4b2d9aa5fc1a58822e78",
            "4e1db01bbf184b2aa06deaab9690e2c5",
            "00109da86adc4ac8bfe72f7ca29d7dc7",
            "849f591173404b388987cdb9f3050bd7",
            "a319ce8d816e4b31a4d976e91c4211c1",
            "ba23800d2f3d4ffeb360ceae3da5df4e",
            "0adecd327aeb4eb1867b97c995caa19c",
            "0a9d5d5f380c4d10a16b63435bf97b18",
            "2ee39c9ea95e4f1c99f79042b7faa895",
            "d345fe7a9a3d4bd29dd257cde21dae08",
            "37e730eea2474c55b1f764fcd2664fc4",
            "e644b695c7194680a4147b654ca3a81f",
            "5c5e152d076e41679a11b1245264fe3f",
            "0af3221a7890442d84f0dc4c0925ae27",
            "9130957742a84971bb39388b4fc23e07",
            "f05e3b487490479c9b434c95a261bd9e",
            "a8167b2a193148278738061522b50b7d",
            "aced163a431b44169b532e57f0ea25c9",
            "a10f3fa0aa6b48c69c6423c30f05aff9",
            "4064b96943924e1bbd19a7aefff113b4",
            "960cbfe5099944c7aafebf19464fa501",
            "20857f747e1e417c813c871be57cc1f3",
            "db10d3409e9847b396cc0abcd3c21dea",
            "ddd152c2e9c24290931ea7353273dcb7",
            "947fc4297ac94671b4d30fbccd15c067",
            "c6d86908d550447e9aba58c08c83e118",
            "97b97ea6018d4833be4a42e45888aa50",
            "96fa1d9620fd47099da2db6991197958",
            "fc09e5c382844ac9a04459d64720281c",
            "22b21e1bc44746ae8f735c80ae4f4468",
            "d403ac112d1e4d5aa7d1071d86ada0b6",
            "b905ffeafad946e1805f266e3633816f",
            "79b564deeac74de2a80a06fb6c34ffc3",
            "cd4407c3068244f4b5e591ec554aa8eb",
            "8ec5ba3fd3a14b4dbefef71b3ff9e0cd",
            "d8cbbfab827b4175a45d89f1c0451e8e",
            "3d5a4f55a8c8492db69d68df57e27323",
            "5deb37a3bef7407da0ea2d04b24d007d",
            "ff7442e43b7745948bdf0700b8b4e422",
            "45688185dd934ed6836d7ed09a025df6",
            "a9af56628f6d440d9bfd123a0b1cc3f3",
            "5004ffd1f3ca4f3f9f39f4426aa987c1",
            "756fe5809c8540f4a87702f9290e8cb5"
          ]
        },
        "outputId": "746a852c-248a-4978-efed-cf49861bc8d6"
      },
      "execution_count": 15,
      "outputs": [
        {
          "output_type": "display_data",
          "data": {
            "text/plain": [
              "tokenizer_config.json:   0%|          | 0.00/396 [00:00<?, ?B/s]"
            ],
            "application/vnd.jupyter.widget-view+json": {
              "version_major": 2,
              "version_minor": 0,
              "model_id": "d4c8065eeaf24d4dbc9d079b225252fa"
            }
          },
          "metadata": {}
        },
        {
          "output_type": "display_data",
          "data": {
            "text/plain": [
              "vocab.txt:   0%|          | 0.00/232k [00:00<?, ?B/s]"
            ],
            "application/vnd.jupyter.widget-view+json": {
              "version_major": 2,
              "version_minor": 0,
              "model_id": "37e730eea2474c55b1f764fcd2664fc4"
            }
          },
          "metadata": {}
        },
        {
          "output_type": "display_data",
          "data": {
            "text/plain": [
              "tokenizer.json:   0%|          | 0.00/712k [00:00<?, ?B/s]"
            ],
            "application/vnd.jupyter.widget-view+json": {
              "version_major": 2,
              "version_minor": 0,
              "model_id": "20857f747e1e417c813c871be57cc1f3"
            }
          },
          "metadata": {}
        },
        {
          "output_type": "display_data",
          "data": {
            "text/plain": [
              "special_tokens_map.json:   0%|          | 0.00/125 [00:00<?, ?B/s]"
            ],
            "application/vnd.jupyter.widget-view+json": {
              "version_major": 2,
              "version_minor": 0,
              "model_id": "79b564deeac74de2a80a06fb6c34ffc3"
            }
          },
          "metadata": {}
        }
      ]
    },
    {
      "cell_type": "code",
      "source": [
        "# Aplicación del tokenizer.\n",
        "def tokenization(example):\n",
        "    return tokenizer(example[\"text\"], padding='max_length', truncation=True, return_tensors=\"pt\")\n",
        "\n",
        "train_test_tokenized = train_test.map(tokenization, batched=True, batch_size=16)"
      ],
      "metadata": {
        "colab": {
          "base_uri": "https://localhost:8080/",
          "height": 81,
          "referenced_widgets": [
            "95e58581c4944319821720c7701a9adc",
            "56af6a121c564ba8b8bb787c2c46cf7d",
            "9888dc316e8042f58cb80da22231db0e",
            "440c8a0f4aea45de8e7b09e1d1f8bd92",
            "49299e01e9294c7cbdc3f29b6fec156f",
            "50587be736e94aa4844ccd8a071b86c1",
            "3b1a6bc735084c45972c57884e02ab08",
            "bd94354995884e2cbd89124d53945642",
            "023ac30d4a024c55bc482efbf210605d",
            "a7273bc19ee04272bcd05bb0b165e521",
            "2d56a150d1b04aad9f0bd78765abec93",
            "e28986218d9546c1946e9bf500e0390c",
            "a92454f9271942439a8eef3a5ef8d10e",
            "5608cfb954fe4462bd0ba7faa1024cb2",
            "2ed91f8eb6184b9b81daadccd626c59d",
            "7020ac203c9a474a853ac2e3f0f5a9cc",
            "5a8a0bac258d4b9b89ec3780e5cb8702",
            "144af221d660431f966750602f1e7f2f",
            "eb5233a2243e494a8e81f395738187ca",
            "d916606e6a51434ea54b89d54e9eae69",
            "1f10569551064344bf75371cd25113d4",
            "4d91ba81e5cc43eca12fb4a2cc6d72c7"
          ]
        },
        "id": "zTc-gNqt-t5-",
        "outputId": "78cb6d09-7143-417c-d9a6-4c8780ca18c0"
      },
      "execution_count": 16,
      "outputs": [
        {
          "output_type": "display_data",
          "data": {
            "text/plain": [
              "Map:   0%|          | 0/461 [00:00<?, ? examples/s]"
            ],
            "application/vnd.jupyter.widget-view+json": {
              "version_major": 2,
              "version_minor": 0,
              "model_id": "95e58581c4944319821720c7701a9adc"
            }
          },
          "metadata": {}
        },
        {
          "output_type": "display_data",
          "data": {
            "text/plain": [
              "Map:   0%|          | 0/199 [00:00<?, ? examples/s]"
            ],
            "application/vnd.jupyter.widget-view+json": {
              "version_major": 2,
              "version_minor": 0,
              "model_id": "e28986218d9546c1946e9bf500e0390c"
            }
          },
          "metadata": {}
        }
      ]
    },
    {
      "cell_type": "code",
      "source": [
        "# Diseño del modelo.\n",
        "from transformers import AutoModelForSequenceClassification\n",
        "\n",
        "num_labels=len([int(i) for i in labels['memorable'].unique()])\n",
        "model = AutoModelForSequenceClassification.from_pretrained('BAAI/llm-embedder',\n",
        "                                                           num_labels=num_labels)"
      ],
      "metadata": {
        "colab": {
          "base_uri": "https://localhost:8080/",
          "height": 116,
          "referenced_widgets": [
            "e87b2b2214ec4b2f8e17a87557853965",
            "ec4c28a74f2b401dacd7c3da00cead5b",
            "22ce3f6da4a5471c9015ef82e8a15f27",
            "67335fd2d23e4a5593b4839ca65581a6",
            "17de38b45de74d109eeac5cf84c03043",
            "febd8b3c122a4c4186095637dd297706",
            "604de7310fdd4dbeb6c45d9702a68dd4",
            "ed611b3c3fd04ea49c959d25535fcde6",
            "886e3e1620cd49cea1b16d3319de8ec9",
            "c316ddc62a814818aa4ec84028abf655",
            "87604e84fa9946158ce6b67fcc1cb73b",
            "b88905f4e71449858c9ef39e6acf36b5",
            "d363521fce0248c7ace28cd215c2a240",
            "8fa07218b44f4f8e83ac9863044d6b9b",
            "5e5d0f71a0dd4e3c82f436a6043c5846",
            "da77dd1bcfd142b1b82f324655f6771e",
            "17ddebdc29fd4f2b9a2dd1707013b008",
            "e327be95e615484fb8b38a170dbef995",
            "6f147a52e36a4fabbf9c6a827e26d16b",
            "50571e0da309426580b8b05baee27f24",
            "b76826e385dc4bee8f331a119f5da0bc",
            "faf4e36ca89c471fa4183002bf420c12"
          ]
        },
        "id": "cQjZ8Wjn-3NU",
        "outputId": "b67a8beb-53c0-401c-be57-47004982a326"
      },
      "execution_count": 17,
      "outputs": [
        {
          "output_type": "display_data",
          "data": {
            "text/plain": [
              "config.json:   0%|          | 0.00/731 [00:00<?, ?B/s]"
            ],
            "application/vnd.jupyter.widget-view+json": {
              "version_major": 2,
              "version_minor": 0,
              "model_id": "e87b2b2214ec4b2f8e17a87557853965"
            }
          },
          "metadata": {}
        },
        {
          "output_type": "display_data",
          "data": {
            "text/plain": [
              "model.safetensors:   0%|          | 0.00/438M [00:00<?, ?B/s]"
            ],
            "application/vnd.jupyter.widget-view+json": {
              "version_major": 2,
              "version_minor": 0,
              "model_id": "b88905f4e71449858c9ef39e6acf36b5"
            }
          },
          "metadata": {}
        },
        {
          "output_type": "stream",
          "name": "stderr",
          "text": [
            "Some weights of BertForSequenceClassification were not initialized from the model checkpoint at BAAI/llm-embedder and are newly initialized: ['classifier.weight', 'classifier.bias']\n",
            "You should probably TRAIN this model on a down-stream task to be able to use it for predictions and inference.\n"
          ]
        }
      ]
    },
    {
      "cell_type": "code",
      "source": [
        "# Summary del modelo.\n",
        "print(model)"
      ],
      "metadata": {
        "colab": {
          "base_uri": "https://localhost:8080/"
        },
        "id": "i3SyopHH_LGK",
        "outputId": "3cfbf22a-ba47-4ec5-8682-89960f0043de"
      },
      "execution_count": 18,
      "outputs": [
        {
          "output_type": "stream",
          "name": "stdout",
          "text": [
            "BertForSequenceClassification(\n",
            "  (bert): BertModel(\n",
            "    (embeddings): BertEmbeddings(\n",
            "      (word_embeddings): Embedding(30522, 768, padding_idx=0)\n",
            "      (position_embeddings): Embedding(512, 768)\n",
            "      (token_type_embeddings): Embedding(2, 768)\n",
            "      (LayerNorm): LayerNorm((768,), eps=1e-12, elementwise_affine=True)\n",
            "      (dropout): Dropout(p=0.1, inplace=False)\n",
            "    )\n",
            "    (encoder): BertEncoder(\n",
            "      (layer): ModuleList(\n",
            "        (0-11): 12 x BertLayer(\n",
            "          (attention): BertAttention(\n",
            "            (self): BertSelfAttention(\n",
            "              (query): Linear(in_features=768, out_features=768, bias=True)\n",
            "              (key): Linear(in_features=768, out_features=768, bias=True)\n",
            "              (value): Linear(in_features=768, out_features=768, bias=True)\n",
            "              (dropout): Dropout(p=0.1, inplace=False)\n",
            "            )\n",
            "            (output): BertSelfOutput(\n",
            "              (dense): Linear(in_features=768, out_features=768, bias=True)\n",
            "              (LayerNorm): LayerNorm((768,), eps=1e-12, elementwise_affine=True)\n",
            "              (dropout): Dropout(p=0.1, inplace=False)\n",
            "            )\n",
            "          )\n",
            "          (intermediate): BertIntermediate(\n",
            "            (dense): Linear(in_features=768, out_features=3072, bias=True)\n",
            "            (intermediate_act_fn): GELUActivation()\n",
            "          )\n",
            "          (output): BertOutput(\n",
            "            (dense): Linear(in_features=3072, out_features=768, bias=True)\n",
            "            (LayerNorm): LayerNorm((768,), eps=1e-12, elementwise_affine=True)\n",
            "            (dropout): Dropout(p=0.1, inplace=False)\n",
            "          )\n",
            "        )\n",
            "      )\n",
            "    )\n",
            "    (pooler): BertPooler(\n",
            "      (dense): Linear(in_features=768, out_features=768, bias=True)\n",
            "      (activation): Tanh()\n",
            "    )\n",
            "  )\n",
            "  (dropout): Dropout(p=0.1, inplace=False)\n",
            "  (classifier): Linear(in_features=768, out_features=2, bias=True)\n",
            ")\n"
          ]
        }
      ]
    },
    {
      "cell_type": "code",
      "source": [
        "# Configuración del modelo.\n",
        "from transformers import Trainer, TrainingArguments, DataCollatorForLanguageModeling\n",
        "\n",
        "training_args = TrainingArguments(\n",
        "    output_dir='./results',          # Directorio de trabajo del Trainer\n",
        "    num_train_epochs=50,              # Numero total de epochs sobre el que entrenaremos\n",
        "    warmup_steps=500,                # Numero de pasos que se usaran para determinar la politica de Learning Rate\n",
        "    weight_decay=0.1,               # Weight decay\n",
        "    logging_dir='./logs',            # Directorio de logs\n",
        "    per_device_train_batch_size=16,\n",
        "    per_device_eval_batch_size=16\n",
        ")"
      ],
      "metadata": {
        "id": "z_saU6HU_LDl"
      },
      "execution_count": 19,
      "outputs": []
    },
    {
      "cell_type": "code",
      "source": [
        "# Entrenamiento del modelo.\n",
        "trainer = Trainer(\n",
        "    model=model,                         # modelo sobre el que haremos fine tunning\n",
        "    args=training_args,                  # parametros del entrenamiento\n",
        "    train_dataset=train_test_tokenized['train'],   # set de datos de entrenamiento\n",
        "    eval_dataset=train_test_tokenized['test'],     # set de datos de evaluación\n",
        ")\n",
        "\n",
        "history = trainer.train()"
      ],
      "metadata": {
        "colab": {
          "base_uri": "https://localhost:8080/",
          "height": 138
        },
        "id": "QaFKKx0k_LBB",
        "outputId": "78cdcb6a-73ba-47cc-dfba-c620da4670be"
      },
      "execution_count": 20,
      "outputs": [
        {
          "output_type": "display_data",
          "data": {
            "text/plain": [
              "<IPython.core.display.HTML object>"
            ],
            "text/html": [
              "\n",
              "    <div>\n",
              "      \n",
              "      <progress value='1450' max='1450' style='width:300px; height:20px; vertical-align: middle;'></progress>\n",
              "      [1450/1450 40:21, Epoch 50/50]\n",
              "    </div>\n",
              "    <table border=\"1\" class=\"dataframe\">\n",
              "  <thead>\n",
              " <tr style=\"text-align: left;\">\n",
              "      <th>Step</th>\n",
              "      <th>Training Loss</th>\n",
              "    </tr>\n",
              "  </thead>\n",
              "  <tbody>\n",
              "    <tr>\n",
              "      <td>500</td>\n",
              "      <td>0.410900</td>\n",
              "    </tr>\n",
              "    <tr>\n",
              "      <td>1000</td>\n",
              "      <td>0.039200</td>\n",
              "    </tr>\n",
              "  </tbody>\n",
              "</table><p>"
            ]
          },
          "metadata": {}
        }
      ]
    },
    {
      "cell_type": "code",
      "source": [
        "# Metricas del entrenamiento.\n",
        "print(history)"
      ],
      "metadata": {
        "colab": {
          "base_uri": "https://localhost:8080/"
        },
        "id": "8uBjM0DL-3Kf",
        "outputId": "0b3bb67f-cb35-4dd9-e2d4-998a87347403"
      },
      "execution_count": 21,
      "outputs": [
        {
          "output_type": "stream",
          "name": "stdout",
          "text": [
            "TrainOutput(global_step=1450, training_loss=0.15522482506673912, metrics={'train_runtime': 2426.7531, 'train_samples_per_second': 9.498, 'train_steps_per_second': 0.598, 'total_flos': 6064709826048000.0, 'train_loss': 0.15522482506673912, 'epoch': 50.0})\n"
          ]
        }
      ]
    },
    {
      "cell_type": "code",
      "source": [
        "# Obtencion de y_pred / y_test.\n",
        "predictions = trainer.predict(test_dataset=train_test_tokenized['test'])\n",
        "y_test = train_test_tokenized['test']['labels']"
      ],
      "metadata": {
        "colab": {
          "base_uri": "https://localhost:8080/",
          "height": 17
        },
        "id": "l91qZuSY_pdf",
        "outputId": "119175bc-93fd-4de4-fbea-a1e325af6311"
      },
      "execution_count": 23,
      "outputs": [
        {
          "output_type": "display_data",
          "data": {
            "text/plain": [
              "<IPython.core.display.HTML object>"
            ],
            "text/html": []
          },
          "metadata": {}
        }
      ]
    },
    {
      "cell_type": "code",
      "source": [
        "# Obtención de probabilidades.\n",
        "input = torch.from_numpy(predictions[0])\n",
        "m = torch.nn.Softmax(dim=1) # Función torch para convertir logits en probabilidades.\n",
        "probabilities = m(input)"
      ],
      "metadata": {
        "id": "yLgITtls_paZ"
      },
      "execution_count": 24,
      "outputs": []
    },
    {
      "cell_type": "code",
      "source": [
        "# Obtención de predicciones.\n",
        "y_pred = np.argmax(probabilities, axis=1)"
      ],
      "metadata": {
        "id": "ZBAHpOGz_pXP"
      },
      "execution_count": 25,
      "outputs": []
    },
    {
      "cell_type": "code",
      "source": [
        "# Obtención de metricas.\n",
        "from sklearn.metrics import classification_report\n",
        "\n",
        "print(classification_report(y_test, y_pred))"
      ],
      "metadata": {
        "colab": {
          "base_uri": "https://localhost:8080/"
        },
        "id": "bvAl6prRAN58",
        "outputId": "7af8b51c-a69b-49ba-fe40-675137c73d59"
      },
      "execution_count": 26,
      "outputs": [
        {
          "output_type": "stream",
          "name": "stdout",
          "text": [
            "              precision    recall  f1-score   support\n",
            "\n",
            "           0       0.63      0.68      0.66       111\n",
            "           1       0.55      0.49      0.52        88\n",
            "\n",
            "    accuracy                           0.60       199\n",
            "   macro avg       0.59      0.59      0.59       199\n",
            "weighted avg       0.59      0.60      0.59       199\n",
            "\n"
          ]
        }
      ]
    },
    {
      "cell_type": "code",
      "source": [
        "# Representacion gráfica del ajuste del modelo (probabilidades y valores reales).\n",
        "import matplotlib.pyplot as plt\n",
        "\n",
        "docs_len = 199\n",
        "indexes = [*range(len(y_pred))][:docs_len]\n",
        "\n",
        "fig, ax = plt.subplots(figsize=(20,6))\n",
        "ax.scatter(indexes, y_test[:docs_len], label='Real', color='green', alpha=1.0)\n",
        "ax.scatter(indexes, probabilities[:,1][:docs_len], label='Predicción', color='orange', alpha=0.5)\n",
        "ax.legend()\n",
        "plt.show()"
      ],
      "metadata": {
        "colab": {
          "base_uri": "https://localhost:8080/",
          "height": 522
        },
        "id": "A5nQQnT_AN3F",
        "outputId": "0d4788c5-f62c-46df-9a34-85a40170d073"
      },
      "execution_count": 27,
      "outputs": [
        {
          "output_type": "display_data",
          "data": {
            "text/plain": [
              "<Figure size 2000x600 with 1 Axes>"
            ],
            "image/png": "[encoded data removed]"
          },
          "metadata": {}
        }
      ]
    },
    {
      "cell_type": "code",
      "source": [
        "# Representación gráfica de la curva ROC-AUC.\n",
        "from sklearn.metrics import roc_curve, roc_auc_score\n",
        "import matplotlib.pyplot as plt\n",
        "\n",
        "# Calcula la curva ROC.\n",
        "fpr, tpr, thresholds = roc_curve(y_test, probabilities[:,1])\n",
        "\n",
        "# Calcula el valor AUC.\n",
        "auc = roc_auc_score(y_test, probabilities[:,1])\n",
        "\n",
        "# Grafica la curva ROC.\n",
        "fig, ax = plt.subplots(figsize=(10,6))\n",
        "plt.plot(fpr, tpr, label='Curva ROC (AUC = %0.2f)' % auc, color=\"green\")\n",
        "plt.plot([0, 1], [0, 1], 'k--')\n",
        "plt.xlabel('Tasa de Falsos Positivos (1 - Especificidad)')\n",
        "plt.ylabel('Tasa de Verdaderos Positivos (Sensibilidad)')\n",
        "plt.title('Curva ROC')\n",
        "plt.legend(loc=\"lower right\")\n",
        "plt.show()"
      ],
      "metadata": {
        "colab": {
          "base_uri": "https://localhost:8080/",
          "height": 564
        },
        "id": "VBb84rP2AN0J",
        "outputId": "ae042fc2-71c1-492d-bf5b-c617a8a4a31f"
      },
      "execution_count": 28,
      "outputs": [
        {
          "output_type": "display_data",
          "data": {
            "text/plain": [
              "<Figure size 1000x600 with 1 Axes>"
            ],
            "image/png": "[encoded data removed]"
          },
          "metadata": {}
        }
      ]
    },
    {
      "cell_type": "code",
      "source": [
        "# Limpieza de memoria.\n",
        "import gc\n",
        "\n",
        "# Garbage collector.\n",
        "gc.collect()\n",
        "\n",
        "# Limpieza de memoria cache.\n",
        "torch.cuda.empty_cache()"
      ],
      "metadata": {
        "id": "Ne9y3WgEANxE"
      },
      "execution_count": 29,
      "outputs": []
    },
    {
      "cell_type": "markdown",
      "source": [
        "## 8. Conclusiones"
      ],
      "metadata": {
        "id": "1wZ8eC0V_ArT"
      }
    },
    {
      "cell_type": "markdown",
      "source": [
        "De la ejecución de los tres modelos seleccionados, se obtuvo una mejor perfomance, medida en términos de accuracy y area bajo la curva, a partir del tokenizado y modelado a través de BGE Embedding.\n",
        "\n",
        "De las pruebas realizadas, se observa que el modelo con arquitectura BERT arroja mejores resultados con un número de épocas más cercano a 50. No obstante ello, como pruebas futuras a realizar, se podrían aplicar otras capas o medidas de regularización para evitar sobreajuste del modelo."
      ],
      "metadata": {
        "id": "LCICew1A_DGH"
      }
    }
  ],
  "metadata": {
    "colab": {
      "provenance": [],
      "gpuType": "T4",
      "collapsed_sections": [
        "IXdA6Yg761jz",
        "dxH2xOIQp_Xr",
        "Ucs_gunq61ku",
        "YnSAndu19qjp",
        "U7ZMUaLAqEkd"
      ],
      "include_colab_link": true
    },
    "kernelspec": {
      "display_name": "Python 3",
      "name": "python3"
    },
    "language_info": {
      "codemirror_mode": {
        "name": "ipython",
        "version": 3
      },
      "file_extension": ".py",
      "mimetype": "text/x-python",
      "name": "python",
      "nbconvert_exporter": "python",
      "pygments_lexer": "ipython3",
      "version": "3.10.4"
    },
    "vscode": {
      "interpreter": {
        "hash": "3ad933181bd8a04b432d3370b9dc3b0662ad032c4dfaa4e4f1596c548f763858"
      }
    },
    "accelerator": "GPU",
    "widgets": {
      "application/vnd.jupyter.widget-state+json": {
        "49255379eb6243cf9c139865380838c5": {
          "model_module": "@jupyter-widgets/controls",
          "model_name": "HBoxModel",
          "model_module_version": "1.5.0",
          "state": {
            "_dom_classes": [],
            "_model_module": "@jupyter-widgets/controls",
            "_model_module_version": "1.5.0",
            "_model_name": "HBoxModel",
            "_view_count": null,
            "_view_module": "@jupyter-widgets/controls",
            "_view_module_version": "1.5.0",
            "_view_name": "HBoxView",
            "box_style": "",
            "children": [
              "IPY_MODEL_c6b643fbb68b49a7a667ee8900e563a4",
              "IPY_MODEL_f082b02971c84f979428c1eac7ef15bc",
              "IPY_MODEL_f42a08cf92974deb9d7ee26ce93b1012"
            ],
            "layout": "IPY_MODEL_85e7e24cbc2643c09dd0419451980eb2"
          }
        },
        "c6b643fbb68b49a7a667ee8900e563a4": {
          "model_module": "@jupyter-widgets/controls",
          "model_name": "HTMLModel",
          "model_module_version": "1.5.0",
          "state": {
            "_dom_classes": [],
            "_model_module": "@jupyter-widgets/controls",
            "_model_module_version": "1.5.0",
            "_model_name": "HTMLModel",
            "_view_count": null,
            "_view_module": "@jupyter-widgets/controls",
            "_view_module_version": "1.5.0",
            "_view_name": "HTMLView",
            "description": "",
            "description_tooltip": null,
            "layout": "IPY_MODEL_f94f7e4139994cedbea15899ad6bf0f2",
            "placeholder": "​",
            "style": "IPY_MODEL_e904acc5c81a4d4ba8eab4f86c9e4369",
            "value": "tokenizer_config.json: 100%"
          }
        },
        "f082b02971c84f979428c1eac7ef15bc": {
          "model_module": "@jupyter-widgets/controls",
          "model_name": "FloatProgressModel",
          "model_module_version": "1.5.0",
          "state": {
            "_dom_classes": [],
            "_model_module": "@jupyter-widgets/controls",
            "_model_module_version": "1.5.0",
            "_model_name": "FloatProgressModel",
            "_view_count": null,
            "_view_module": "@jupyter-widgets/controls",
            "_view_module_version": "1.5.0",
            "_view_name": "ProgressView",
            "bar_style": "success",
            "description": "",
            "description_tooltip": null,
            "layout": "IPY_MODEL_e35bfd4ceaa3443f94cbc06320c4de62",
            "max": 28,
            "min": 0,
            "orientation": "horizontal",
            "style": "IPY_MODEL_c5273664e6ec41fa93212232491b6b1a",
            "value": 28
          }
        },
        "f42a08cf92974deb9d7ee26ce93b1012": {
          "model_module": "@jupyter-widgets/controls",
          "model_name": "HTMLModel",
          "model_module_version": "1.5.0",
          "state": {
            "_dom_classes": [],
            "_model_module": "@jupyter-widgets/controls",
            "_model_module_version": "1.5.0",
            "_model_name": "HTMLModel",
            "_view_count": null,
            "_view_module": "@jupyter-widgets/controls",
            "_view_module_version": "1.5.0",
            "_view_name": "HTMLView",
            "description": "",
            "description_tooltip": null,
            "layout": "IPY_MODEL_b41e96786f3a4f72bdf68da7a2f28c59",
            "placeholder": "​",
            "style": "IPY_MODEL_35bacbebe6dd41be9667d60dc3eeda0e",
            "value": " 28.0/28.0 [00:00&lt;00:00, 954B/s]"
          }
        },
        "85e7e24cbc2643c09dd0419451980eb2": {
          "model_module": "@jupyter-widgets/base",
          "model_name": "LayoutModel",
          "model_module_version": "1.2.0",
          "state": {
            "_model_module": "@jupyter-widgets/base",
            "_model_module_version": "1.2.0",
            "_model_name": "LayoutModel",
            "_view_count": null,
            "_view_module": "@jupyter-widgets/base",
            "_view_module_version": "1.2.0",
            "_view_name": "LayoutView",
            "align_content": null,
            "align_items": null,
            "align_self": null,
            "border": null,
            "bottom": null,
            "display": null,
            "flex": null,
            "flex_flow": null,
            "grid_area": null,
            "grid_auto_columns": null,
            "grid_auto_flow": null,
            "grid_auto_rows": null,
            "grid_column": null,
            "grid_gap": null,
            "grid_row": null,
            "grid_template_areas": null,
            "grid_template_columns": null,
            "grid_template_rows": null,
            "height": null,
            "justify_content": null,
            "justify_items": null,
            "left": null,
            "margin": null,
            "max_height": null,
            "max_width": null,
            "min_height": null,
            "min_width": null,
            "object_fit": null,
            "object_position": null,
            "order": null,
            "overflow": null,
            "overflow_x": null,
            "overflow_y": null,
            "padding": null,
            "right": null,
            "top": null,
            "visibility": null,
            "width": null
          }
        },
        "f94f7e4139994cedbea15899ad6bf0f2": {
          "model_module": "@jupyter-widgets/base",
          "model_name": "LayoutModel",
          "model_module_version": "1.2.0",
          "state": {
            "_model_module": "@jupyter-widgets/base",
            "_model_module_version": "1.2.0",
            "_model_name": "LayoutModel",
            "_view_count": null,
            "_view_module": "@jupyter-widgets/base",
            "_view_module_version": "1.2.0",
            "_view_name": "LayoutView",
            "align_content": null,
            "align_items": null,
            "align_self": null,
            "border": null,
            "bottom": null,
            "display": null,
            "flex": null,
            "flex_flow": null,
            "grid_area": null,
            "grid_auto_columns": null,
            "grid_auto_flow": null,
            "grid_auto_rows": null,
            "grid_column": null,
            "grid_gap": null,
            "grid_row": null,
            "grid_template_areas": null,
            "grid_template_columns": null,
            "grid_template_rows": null,
            "height": null,
            "justify_content": null,
            "justify_items": null,
            "left": null,
            "margin": null,
            "max_height": null,
            "max_width": null,
            "min_height": null,
            "min_width": null,
            "object_fit": null,
            "object_position": null,
            "order": null,
            "overflow": null,
            "overflow_x": null,
            "overflow_y": null,
            "padding": null,
            "right": null,
            "top": null,
            "visibility": null,
            "width": null
          }
        },
        "e904acc5c81a4d4ba8eab4f86c9e4369": {
          "model_module": "@jupyter-widgets/controls",
          "model_name": "DescriptionStyleModel",
          "model_module_version": "1.5.0",
          "state": {
            "_model_module": "@jupyter-widgets/controls",
            "_model_module_version": "1.5.0",
            "_model_name": "DescriptionStyleModel",
            "_view_count": null,
            "_view_module": "@jupyter-widgets/base",
            "_view_module_version": "1.2.0",
            "_view_name": "StyleView",
            "description_width": ""
          }
        },
        "e35bfd4ceaa3443f94cbc06320c4de62": {
          "model_module": "@jupyter-widgets/base",
          "model_name": "LayoutModel",
          "model_module_version": "1.2.0",
          "state": {
            "_model_module": "@jupyter-widgets/base",
            "_model_module_version": "1.2.0",
            "_model_name": "LayoutModel",
            "_view_count": null,
            "_view_module": "@jupyter-widgets/base",
            "_view_module_version": "1.2.0",
            "_view_name": "LayoutView",
            "align_content": null,
            "align_items": null,
            "align_self": null,
            "border": null,
            "bottom": null,
            "display": null,
            "flex": null,
            "flex_flow": null,
            "grid_area": null,
            "grid_auto_columns": null,
            "grid_auto_flow": null,
            "grid_auto_rows": null,
            "grid_column": null,
            "grid_gap": null,
            "grid_row": null,
            "grid_template_areas": null,
            "grid_template_columns": null,
            "grid_template_rows": null,
            "height": null,
            "justify_content": null,
            "justify_items": null,
            "left": null,
            "margin": null,
            "max_height": null,
            "max_width": null,
            "min_height": null,
            "min_width": null,
            "object_fit": null,
            "object_position": null,
            "order": null,
            "overflow": null,
            "overflow_x": null,
            "overflow_y": null,
            "padding": null,
            "right": null,
            "top": null,
            "visibility": null,
            "width": null
          }
        },
        "c5273664e6ec41fa93212232491b6b1a": {
          "model_module": "@jupyter-widgets/controls",
          "model_name": "ProgressStyleModel",
          "model_module_version": "1.5.0",
          "state": {
            "_model_module": "@jupyter-widgets/controls",
            "_model_module_version": "1.5.0",
            "_model_name": "ProgressStyleModel",
            "_view_count": null,
            "_view_module": "@jupyter-widgets/base",
            "_view_module_version": "1.2.0",
            "_view_name": "StyleView",
            "bar_color": null,
            "description_width": ""
          }
        },
        "b41e96786f3a4f72bdf68da7a2f28c59": {
          "model_module": "@jupyter-widgets/base",
          "model_name": "LayoutModel",
          "model_module_version": "1.2.0",
          "state": {
            "_model_module": "@jupyter-widgets/base",
            "_model_module_version": "1.2.0",
            "_model_name": "LayoutModel",
            "_view_count": null,
            "_view_module": "@jupyter-widgets/base",
            "_view_module_version": "1.2.0",
            "_view_name": "LayoutView",
            "align_content": null,
            "align_items": null,
            "align_self": null,
            "border": null,
            "bottom": null,
            "display": null,
            "flex": null,
            "flex_flow": null,
            "grid_area": null,
            "grid_auto_columns": null,
            "grid_auto_flow": null,
            "grid_auto_rows": null,
            "grid_column": null,
            "grid_gap": null,
            "grid_row": null,
            "grid_template_areas": null,
            "grid_template_columns": null,
            "grid_template_rows": null,
            "height": null,
            "justify_content": null,
            "justify_items": null,
            "left": null,
            "margin": null,
            "max_height": null,
            "max_width": null,
            "min_height": null,
            "min_width": null,
            "object_fit": null,
            "object_position": null,
            "order": null,
            "overflow": null,
            "overflow_x": null,
            "overflow_y": null,
            "padding": null,
            "right": null,
            "top": null,
            "visibility": null,
            "width": null
          }
        },
        "35bacbebe6dd41be9667d60dc3eeda0e": {
          "model_module": "@jupyter-widgets/controls",
          "model_name": "DescriptionStyleModel",
          "model_module_version": "1.5.0",
          "state": {
            "_model_module": "@jupyter-widgets/controls",
            "_model_module_version": "1.5.0",
            "_model_name": "DescriptionStyleModel",
            "_view_count": null,
            "_view_module": "@jupyter-widgets/base",
            "_view_module_version": "1.2.0",
            "_view_name": "StyleView",
            "description_width": ""
          }
        },
        "708b4d9639294cdaa92d4c3f1de94be9": {
          "model_module": "@jupyter-widgets/controls",
          "model_name": "HBoxModel",
          "model_module_version": "1.5.0",
          "state": {
            "_dom_classes": [],
            "_model_module": "@jupyter-widgets/controls",
            "_model_module_version": "1.5.0",
            "_model_name": "HBoxModel",
            "_view_count": null,
            "_view_module": "@jupyter-widgets/controls",
            "_view_module_version": "1.5.0",
            "_view_name": "HBoxView",
            "box_style": "",
            "children": [
              "IPY_MODEL_fe744c16734942d983c168cff76c29b7",
              "IPY_MODEL_c51fcaf313f643518bd565dd62b3c395",
              "IPY_MODEL_d776b5f1ffda4a7a9d7007ce1641ff13"
            ],
            "layout": "IPY_MODEL_5e266772a32e4cf1a5113ef34b43ab0c"
          }
        },
        "fe744c16734942d983c168cff76c29b7": {
          "model_module": "@jupyter-widgets/controls",
          "model_name": "HTMLModel",
          "model_module_version": "1.5.0",
          "state": {
            "_dom_classes": [],
            "_model_module": "@jupyter-widgets/controls",
            "_model_module_version": "1.5.0",
            "_model_name": "HTMLModel",
            "_view_count": null,
            "_view_module": "@jupyter-widgets/controls",
            "_view_module_version": "1.5.0",
            "_view_name": "HTMLView",
            "description": "",
            "description_tooltip": null,
            "layout": "IPY_MODEL_65f26d45e6fb425a9c5f7c55610b0dfb",
            "placeholder": "​",
            "style": "IPY_MODEL_e9463b78ff234c83a7da539b000b6861",
            "value": "config.json: 100%"
          }
        },
        "c51fcaf313f643518bd565dd62b3c395": {
          "model_module": "@jupyter-widgets/controls",
          "model_name": "FloatProgressModel",
          "model_module_version": "1.5.0",
          "state": {
            "_dom_classes": [],
            "_model_module": "@jupyter-widgets/controls",
            "_model_module_version": "1.5.0",
            "_model_name": "FloatProgressModel",
            "_view_count": null,
            "_view_module": "@jupyter-widgets/controls",
            "_view_module_version": "1.5.0",
            "_view_name": "ProgressView",
            "bar_style": "success",
            "description": "",
            "description_tooltip": null,
            "layout": "IPY_MODEL_370a70c984994b6d99df931459073be4",
            "max": 570,
            "min": 0,
            "orientation": "horizontal",
            "style": "IPY_MODEL_84f63a59a9284dcba05d5135bd8fca60",
            "value": 570
          }
        },
        "d776b5f1ffda4a7a9d7007ce1641ff13": {
          "model_module": "@jupyter-widgets/controls",
          "model_name": "HTMLModel",
          "model_module_version": "1.5.0",
          "state": {
            "_dom_classes": [],
            "_model_module": "@jupyter-widgets/controls",
            "_model_module_version": "1.5.0",
            "_model_name": "HTMLModel",
            "_view_count": null,
            "_view_module": "@jupyter-widgets/controls",
            "_view_module_version": "1.5.0",
            "_view_name": "HTMLView",
            "description": "",
            "description_tooltip": null,
            "layout": "IPY_MODEL_c1e2d80650304728b7cff3e17667026e",
            "placeholder": "​",
            "style": "IPY_MODEL_496b7fda9717432baaeae0473abc731f",
            "value": " 570/570 [00:00&lt;00:00, 12.1kB/s]"
          }
        },
        "5e266772a32e4cf1a5113ef34b43ab0c": {
          "model_module": "@jupyter-widgets/base",
          "model_name": "LayoutModel",
          "model_module_version": "1.2.0",
          "state": {
            "_model_module": "@jupyter-widgets/base",
            "_model_module_version": "1.2.0",
            "_model_name": "LayoutModel",
            "_view_count": null,
            "_view_module": "@jupyter-widgets/base",
            "_view_module_version": "1.2.0",
            "_view_name": "LayoutView",
            "align_content": null,
            "align_items": null,
            "align_self": null,
            "border": null,
            "bottom": null,
            "display": null,
            "flex": null,
            "flex_flow": null,
            "grid_area": null,
            "grid_auto_columns": null,
            "grid_auto_flow": null,
            "grid_auto_rows": null,
            "grid_column": null,
            "grid_gap": null,
            "grid_row": null,
            "grid_template_areas": null,
            "grid_template_columns": null,
            "grid_template_rows": null,
            "height": null,
            "justify_content": null,
            "justify_items": null,
            "left": null,
            "margin": null,
            "max_height": null,
            "max_width": null,
            "min_height": null,
            "min_width": null,
            "object_fit": null,
            "object_position": null,
            "order": null,
            "overflow": null,
            "overflow_x": null,
            "overflow_y": null,
            "padding": null,
            "right": null,
            "top": null,
            "visibility": null,
            "width": null
          }
        },
        "65f26d45e6fb425a9c5f7c55610b0dfb": {
          "model_module": "@jupyter-widgets/base",
          "model_name": "LayoutModel",
          "model_module_version": "1.2.0",
          "state": {
            "_model_module": "@jupyter-widgets/base",
            "_model_module_version": "1.2.0",
            "_model_name": "LayoutModel",
            "_view_count": null,
            "_view_module": "@jupyter-widgets/base",
            "_view_module_version": "1.2.0",
            "_view_name": "LayoutView",
            "align_content": null,
            "align_items": null,
            "align_self": null,
            "border": null,
            "bottom": null,
            "display": null,
            "flex": null,
            "flex_flow": null,
            "grid_area": null,
            "grid_auto_columns": null,
            "grid_auto_flow": null,
            "grid_auto_rows": null,
            "grid_column": null,
            "grid_gap": null,
            "grid_row": null,
            "grid_template_areas": null,
            "grid_template_columns": null,
            "grid_template_rows": null,
            "height": null,
            "justify_content": null,
            "justify_items": null,
            "left": null,
            "margin": null,
            "max_height": null,
            "max_width": null,
            "min_height": null,
            "min_width": null,
            "object_fit": null,
            "object_position": null,
            "order": null,
            "overflow": null,
            "overflow_x": null,
            "overflow_y": null,
            "padding": null,
            "right": null,
            "top": null,
            "visibility": null,
            "width": null
          }
        },
        "e9463b78ff234c83a7da539b000b6861": {
          "model_module": "@jupyter-widgets/controls",
          "model_name": "DescriptionStyleModel",
          "model_module_version": "1.5.0",
          "state": {
            "_model_module": "@jupyter-widgets/controls",
            "_model_module_version": "1.5.0",
            "_model_name": "DescriptionStyleModel",
            "_view_count": null,
            "_view_module": "@jupyter-widgets/base",
            "_view_module_version": "1.2.0",
            "_view_name": "StyleView",
            "description_width": ""
          }
        },
        "370a70c984994b6d99df931459073be4": {
          "model_module": "@jupyter-widgets/base",
          "model_name": "LayoutModel",
          "model_module_version": "1.2.0",
          "state": {
            "_model_module": "@jupyter-widgets/base",
            "_model_module_version": "1.2.0",
            "_model_name": "LayoutModel",
            "_view_count": null,
            "_view_module": "@jupyter-widgets/base",
            "_view_module_version": "1.2.0",
            "_view_name": "LayoutView",
            "align_content": null,
            "align_items": null,
            "align_self": null,
            "border": null,
            "bottom": null,
            "display": null,
            "flex": null,
            "flex_flow": null,
            "grid_area": null,
            "grid_auto_columns": null,
            "grid_auto_flow": null,
            "grid_auto_rows": null,
            "grid_column": null,
            "grid_gap": null,
            "grid_row": null,
            "grid_template_areas": null,
            "grid_template_columns": null,
            "grid_template_rows": null,
            "height": null,
            "justify_content": null,
            "justify_items": null,
            "left": null,
            "margin": null,
            "max_height": null,
            "max_width": null,
            "min_height": null,
            "min_width": null,
            "object_fit": null,
            "object_position": null,
            "order": null,
            "overflow": null,
            "overflow_x": null,
            "overflow_y": null,
            "padding": null,
            "right": null,
            "top": null,
            "visibility": null,
            "width": null
          }
        },
        "84f63a59a9284dcba05d5135bd8fca60": {
          "model_module": "@jupyter-widgets/controls",
          "model_name": "ProgressStyleModel",
          "model_module_version": "1.5.0",
          "state": {
            "_model_module": "@jupyter-widgets/controls",
            "_model_module_version": "1.5.0",
            "_model_name": "ProgressStyleModel",
            "_view_count": null,
            "_view_module": "@jupyter-widgets/base",
            "_view_module_version": "1.2.0",
            "_view_name": "StyleView",
            "bar_color": null,
            "description_width": ""
          }
        },
        "c1e2d80650304728b7cff3e17667026e": {
          "model_module": "@jupyter-widgets/base",
          "model_name": "LayoutModel",
          "model_module_version": "1.2.0",
          "state": {
            "_model_module": "@jupyter-widgets/base",
            "_model_module_version": "1.2.0",
            "_model_name": "LayoutModel",
            "_view_count": null,
            "_view_module": "@jupyter-widgets/base",
            "_view_module_version": "1.2.0",
            "_view_name": "LayoutView",
            "align_content": null,
            "align_items": null,
            "align_self": null,
            "border": null,
            "bottom": null,
            "display": null,
            "flex": null,
            "flex_flow": null,
            "grid_area": null,
            "grid_auto_columns": null,
            "grid_auto_flow": null,
            "grid_auto_rows": null,
            "grid_column": null,
            "grid_gap": null,
            "grid_row": null,
            "grid_template_areas": null,
            "grid_template_columns": null,
            "grid_template_rows": null,
            "height": null,
            "justify_content": null,
            "justify_items": null,
            "left": null,
            "margin": null,
            "max_height": null,
            "max_width": null,
            "min_height": null,
            "min_width": null,
            "object_fit": null,
            "object_position": null,
            "order": null,
            "overflow": null,
            "overflow_x": null,
            "overflow_y": null,
            "padding": null,
            "right": null,
            "top": null,
            "visibility": null,
            "width": null
          }
        },
        "496b7fda9717432baaeae0473abc731f": {
          "model_module": "@jupyter-widgets/controls",
          "model_name": "DescriptionStyleModel",
          "model_module_version": "1.5.0",
          "state": {
            "_model_module": "@jupyter-widgets/controls",
            "_model_module_version": "1.5.0",
            "_model_name": "DescriptionStyleModel",
            "_view_count": null,
            "_view_module": "@jupyter-widgets/base",
            "_view_module_version": "1.2.0",
            "_view_name": "StyleView",
            "description_width": ""
          }
        },
        "f43568d72cde4db58ea8daab842425d6": {
          "model_module": "@jupyter-widgets/controls",
          "model_name": "HBoxModel",
          "model_module_version": "1.5.0",
          "state": {
            "_dom_classes": [],
            "_model_module": "@jupyter-widgets/controls",
            "_model_module_version": "1.5.0",
            "_model_name": "HBoxModel",
            "_view_count": null,
            "_view_module": "@jupyter-widgets/controls",
            "_view_module_version": "1.5.0",
            "_view_name": "HBoxView",
            "box_style": "",
            "children": [
              "IPY_MODEL_8d0e3a6f63754b33b02c8ef2f0c90713",
              "IPY_MODEL_ce1ac2f4c32f4105b9c30a7962f6818c",
              "IPY_MODEL_d837dd08604b42258525aab276112b17"
            ],
            "layout": "IPY_MODEL_b6113262d1eb4db49962f1dec51e8c43"
          }
        },
        "8d0e3a6f63754b33b02c8ef2f0c90713": {
          "model_module": "@jupyter-widgets/controls",
          "model_name": "HTMLModel",
          "model_module_version": "1.5.0",
          "state": {
            "_dom_classes": [],
            "_model_module": "@jupyter-widgets/controls",
            "_model_module_version": "1.5.0",
            "_model_name": "HTMLModel",
            "_view_count": null,
            "_view_module": "@jupyter-widgets/controls",
            "_view_module_version": "1.5.0",
            "_view_name": "HTMLView",
            "description": "",
            "description_tooltip": null,
            "layout": "IPY_MODEL_7a02005ec61f40abae0ba01b47ed443a",
            "placeholder": "​",
            "style": "IPY_MODEL_854e74fdc7be4e59b9041cf2771e2118",
            "value": "vocab.txt: 100%"
          }
        },
        "ce1ac2f4c32f4105b9c30a7962f6818c": {
          "model_module": "@jupyter-widgets/controls",
          "model_name": "FloatProgressModel",
          "model_module_version": "1.5.0",
          "state": {
            "_dom_classes": [],
            "_model_module": "@jupyter-widgets/controls",
            "_model_module_version": "1.5.0",
            "_model_name": "FloatProgressModel",
            "_view_count": null,
            "_view_module": "@jupyter-widgets/controls",
            "_view_module_version": "1.5.0",
            "_view_name": "ProgressView",
            "bar_style": "success",
            "description": "",
            "description_tooltip": null,
            "layout": "IPY_MODEL_bf98fd1259454a869340a4626c6045af",
            "max": 231508,
            "min": 0,
            "orientation": "horizontal",
            "style": "IPY_MODEL_b74076201c1948198eb97b39b033fad6",
            "value": 231508
          }
        },
        "d837dd08604b42258525aab276112b17": {
          "model_module": "@jupyter-widgets/controls",
          "model_name": "HTMLModel",
          "model_module_version": "1.5.0",
          "state": {
            "_dom_classes": [],
            "_model_module": "@jupyter-widgets/controls",
            "_model_module_version": "1.5.0",
            "_model_name": "HTMLModel",
            "_view_count": null,
            "_view_module": "@jupyter-widgets/controls",
            "_view_module_version": "1.5.0",
            "_view_name": "HTMLView",
            "description": "",
            "description_tooltip": null,
            "layout": "IPY_MODEL_f9670b782b274ed2b576d42ce63c97fb",
            "placeholder": "​",
            "style": "IPY_MODEL_006a2651b1ed4f3b9f3178e0246d4a0e",
            "value": " 232k/232k [00:00&lt;00:00, 1.84MB/s]"
          }
        },
        "b6113262d1eb4db49962f1dec51e8c43": {
          "model_module": "@jupyter-widgets/base",
          "model_name": "LayoutModel",
          "model_module_version": "1.2.0",
          "state": {
            "_model_module": "@jupyter-widgets/base",
            "_model_module_version": "1.2.0",
            "_model_name": "LayoutModel",
            "_view_count": null,
            "_view_module": "@jupyter-widgets/base",
            "_view_module_version": "1.2.0",
            "_view_name": "LayoutView",
            "align_content": null,
            "align_items": null,
            "align_self": null,
            "border": null,
            "bottom": null,
            "display": null,
            "flex": null,
            "flex_flow": null,
            "grid_area": null,
            "grid_auto_columns": null,
            "grid_auto_flow": null,
            "grid_auto_rows": null,
            "grid_column": null,
            "grid_gap": null,
            "grid_row": null,
            "grid_template_areas": null,
            "grid_template_columns": null,
            "grid_template_rows": null,
            "height": null,
            "justify_content": null,
            "justify_items": null,
            "left": null,
            "margin": null,
            "max_height": null,
            "max_width": null,
            "min_height": null,
            "min_width": null,
            "object_fit": null,
            "object_position": null,
            "order": null,
            "overflow": null,
            "overflow_x": null,
            "overflow_y": null,
            "padding": null,
            "right": null,
            "top": null,
            "visibility": null,
            "width": null
          }
        },
        "7a02005ec61f40abae0ba01b47ed443a": {
          "model_module": "@jupyter-widgets/base",
          "model_name": "LayoutModel",
          "model_module_version": "1.2.0",
          "state": {
            "_model_module": "@jupyter-widgets/base",
            "_model_module_version": "1.2.0",
            "_model_name": "LayoutModel",
            "_view_count": null,
            "_view_module": "@jupyter-widgets/base",
            "_view_module_version": "1.2.0",
            "_view_name": "LayoutView",
            "align_content": null,
            "align_items": null,
            "align_self": null,
            "border": null,
            "bottom": null,
            "display": null,
            "flex": null,
            "flex_flow": null,
            "grid_area": null,
            "grid_auto_columns": null,
            "grid_auto_flow": null,
            "grid_auto_rows": null,
            "grid_column": null,
            "grid_gap": null,
            "grid_row": null,
            "grid_template_areas": null,
            "grid_template_columns": null,
            "grid_template_rows": null,
            "height": null,
            "justify_content": null,
            "justify_items": null,
            "left": null,
            "margin": null,
            "max_height": null,
            "max_width": null,
            "min_height": null,
            "min_width": null,
            "object_fit": null,
            "object_position": null,
            "order": null,
            "overflow": null,
            "overflow_x": null,
            "overflow_y": null,
            "padding": null,
            "right": null,
            "top": null,
            "visibility": null,
            "width": null
          }
        },
        "854e74fdc7be4e59b9041cf2771e2118": {
          "model_module": "@jupyter-widgets/controls",
          "model_name": "DescriptionStyleModel",
          "model_module_version": "1.5.0",
          "state": {
            "_model_module": "@jupyter-widgets/controls",
            "_model_module_version": "1.5.0",
            "_model_name": "DescriptionStyleModel",
            "_view_count": null,
            "_view_module": "@jupyter-widgets/base",
            "_view_module_version": "1.2.0",
            "_view_name": "StyleView",
            "description_width": ""
          }
        },
        "bf98fd1259454a869340a4626c6045af": {
          "model_module": "@jupyter-widgets/base",
          "model_name": "LayoutModel",
          "model_module_version": "1.2.0",
          "state": {
            "_model_module": "@jupyter-widgets/base",
            "_model_module_version": "1.2.0",
            "_model_name": "LayoutModel",
            "_view_count": null,
            "_view_module": "@jupyter-widgets/base",
            "_view_module_version": "1.2.0",
            "_view_name": "LayoutView",
            "align_content": null,
            "align_items": null,
            "align_self": null,
            "border": null,
            "bottom": null,
            "display": null,
            "flex": null,
            "flex_flow": null,
            "grid_area": null,
            "grid_auto_columns": null,
            "grid_auto_flow": null,
            "grid_auto_rows": null,
            "grid_column": null,
            "grid_gap": null,
            "grid_row": null,
            "grid_template_areas": null,
            "grid_template_columns": null,
            "grid_template_rows": null,
            "height": null,
            "justify_content": null,
            "justify_items": null,
            "left": null,
            "margin": null,
            "max_height": null,
            "max_width": null,
            "min_height": null,
            "min_width": null,
            "object_fit": null,
            "object_position": null,
            "order": null,
            "overflow": null,
            "overflow_x": null,
            "overflow_y": null,
            "padding": null,
            "right": null,
            "top": null,
            "visibility": null,
            "width": null
          }
        },
        "b74076201c1948198eb97b39b033fad6": {
          "model_module": "@jupyter-widgets/controls",
          "model_name": "ProgressStyleModel",
          "model_module_version": "1.5.0",
          "state": {
            "_model_module": "@jupyter-widgets/controls",
            "_model_module_version": "1.5.0",
            "_model_name": "ProgressStyleModel",
            "_view_count": null,
            "_view_module": "@jupyter-widgets/base",
            "_view_module_version": "1.2.0",
            "_view_name": "StyleView",
            "bar_color": null,
            "description_width": ""
          }
        },
        "f9670b782b274ed2b576d42ce63c97fb": {
          "model_module": "@jupyter-widgets/base",
          "model_name": "LayoutModel",
          "model_module_version": "1.2.0",
          "state": {
            "_model_module": "@jupyter-widgets/base",
            "_model_module_version": "1.2.0",
            "_model_name": "LayoutModel",
            "_view_count": null,
            "_view_module": "@jupyter-widgets/base",
            "_view_module_version": "1.2.0",
            "_view_name": "LayoutView",
            "align_content": null,
            "align_items": null,
            "align_self": null,
            "border": null,
            "bottom": null,
            "display": null,
            "flex": null,
            "flex_flow": null,
            "grid_area": null,
            "grid_auto_columns": null,
            "grid_auto_flow": null,
            "grid_auto_rows": null,
            "grid_column": null,
            "grid_gap": null,
            "grid_row": null,
            "grid_template_areas": null,
            "grid_template_columns": null,
            "grid_template_rows": null,
            "height": null,
            "justify_content": null,
            "justify_items": null,
            "left": null,
            "margin": null,
            "max_height": null,
            "max_width": null,
            "min_height": null,
            "min_width": null,
            "object_fit": null,
            "object_position": null,
            "order": null,
            "overflow": null,
            "overflow_x": null,
            "overflow_y": null,
            "padding": null,
            "right": null,
            "top": null,
            "visibility": null,
            "width": null
          }
        },
        "006a2651b1ed4f3b9f3178e0246d4a0e": {
          "model_module": "@jupyter-widgets/controls",
          "model_name": "DescriptionStyleModel",
          "model_module_version": "1.5.0",
          "state": {
            "_model_module": "@jupyter-widgets/controls",
            "_model_module_version": "1.5.0",
            "_model_name": "DescriptionStyleModel",
            "_view_count": null,
            "_view_module": "@jupyter-widgets/base",
            "_view_module_version": "1.2.0",
            "_view_name": "StyleView",
            "description_width": ""
          }
        },
        "7c3935cc5f224d3c9c329a6a029b5345": {
          "model_module": "@jupyter-widgets/controls",
          "model_name": "HBoxModel",
          "model_module_version": "1.5.0",
          "state": {
            "_dom_classes": [],
            "_model_module": "@jupyter-widgets/controls",
            "_model_module_version": "1.5.0",
            "_model_name": "HBoxModel",
            "_view_count": null,
            "_view_module": "@jupyter-widgets/controls",
            "_view_module_version": "1.5.0",
            "_view_name": "HBoxView",
            "box_style": "",
            "children": [
              "IPY_MODEL_91d16c953e5242fd89934475d14b86fe",
              "IPY_MODEL_6ba79b056c354ea390bb71d3a26d7221",
              "IPY_MODEL_3a45b71d16ec4feebfb341d085d25b04"
            ],
            "layout": "IPY_MODEL_b1d445b684aa4ec996611bd5bd25366c"
          }
        },
        "91d16c953e5242fd89934475d14b86fe": {
          "model_module": "@jupyter-widgets/controls",
          "model_name": "HTMLModel",
          "model_module_version": "1.5.0",
          "state": {
            "_dom_classes": [],
            "_model_module": "@jupyter-widgets/controls",
            "_model_module_version": "1.5.0",
            "_model_name": "HTMLModel",
            "_view_count": null,
            "_view_module": "@jupyter-widgets/controls",
            "_view_module_version": "1.5.0",
            "_view_name": "HTMLView",
            "description": "",
            "description_tooltip": null,
            "layout": "IPY_MODEL_724d7596804e457b93f8be0a520c2319",
            "placeholder": "​",
            "style": "IPY_MODEL_ef0504a8391f4845af4f663fe51720e9",
            "value": "tokenizer.json: 100%"
          }
        },
        "6ba79b056c354ea390bb71d3a26d7221": {
          "model_module": "@jupyter-widgets/controls",
          "model_name": "FloatProgressModel",
          "model_module_version": "1.5.0",
          "state": {
            "_dom_classes": [],
            "_model_module": "@jupyter-widgets/controls",
            "_model_module_version": "1.5.0",
            "_model_name": "FloatProgressModel",
            "_view_count": null,
            "_view_module": "@jupyter-widgets/controls",
            "_view_module_version": "1.5.0",
            "_view_name": "ProgressView",
            "bar_style": "success",
            "description": "",
            "description_tooltip": null,
            "layout": "IPY_MODEL_cef4c96d1a514885b4707d6127da37e6",
            "max": 466062,
            "min": 0,
            "orientation": "horizontal",
            "style": "IPY_MODEL_2ab580a12bfe43fea563cc1fc427903d",
            "value": 466062
          }
        },
        "3a45b71d16ec4feebfb341d085d25b04": {
          "model_module": "@jupyter-widgets/controls",
          "model_name": "HTMLModel",
          "model_module_version": "1.5.0",
          "state": {
            "_dom_classes": [],
            "_model_module": "@jupyter-widgets/controls",
            "_model_module_version": "1.5.0",
            "_model_name": "HTMLModel",
            "_view_count": null,
            "_view_module": "@jupyter-widgets/controls",
            "_view_module_version": "1.5.0",
            "_view_name": "HTMLView",
            "description": "",
            "description_tooltip": null,
            "layout": "IPY_MODEL_d6035f4f3fae4f9fb61c484779a44289",
            "placeholder": "​",
            "style": "IPY_MODEL_3e3cd1e7f4d74b85a2dd209200152e1c",
            "value": " 466k/466k [00:00&lt;00:00, 1.09MB/s]"
          }
        },
        "b1d445b684aa4ec996611bd5bd25366c": {
          "model_module": "@jupyter-widgets/base",
          "model_name": "LayoutModel",
          "model_module_version": "1.2.0",
          "state": {
            "_model_module": "@jupyter-widgets/base",
            "_model_module_version": "1.2.0",
            "_model_name": "LayoutModel",
            "_view_count": null,
            "_view_module": "@jupyter-widgets/base",
            "_view_module_version": "1.2.0",
            "_view_name": "LayoutView",
            "align_content": null,
            "align_items": null,
            "align_self": null,
            "border": null,
            "bottom": null,
            "display": null,
            "flex": null,
            "flex_flow": null,
            "grid_area": null,
            "grid_auto_columns": null,
            "grid_auto_flow": null,
            "grid_auto_rows": null,
            "grid_column": null,
            "grid_gap": null,
            "grid_row": null,
            "grid_template_areas": null,
            "grid_template_columns": null,
            "grid_template_rows": null,
            "height": null,
            "justify_content": null,
            "justify_items": null,
            "left": null,
            "margin": null,
            "max_height": null,
            "max_width": null,
            "min_height": null,
            "min_width": null,
            "object_fit": null,
            "object_position": null,
            "order": null,
            "overflow": null,
            "overflow_x": null,
            "overflow_y": null,
            "padding": null,
            "right": null,
            "top": null,
            "visibility": null,
            "width": null
          }
        },
        "724d7596804e457b93f8be0a520c2319": {
          "model_module": "@jupyter-widgets/base",
          "model_name": "LayoutModel",
          "model_module_version": "1.2.0",
          "state": {
            "_model_module": "@jupyter-widgets/base",
            "_model_module_version": "1.2.0",
            "_model_name": "LayoutModel",
            "_view_count": null,
            "_view_module": "@jupyter-widgets/base",
            "_view_module_version": "1.2.0",
            "_view_name": "LayoutView",
            "align_content": null,
            "align_items": null,
            "align_self": null,
            "border": null,
            "bottom": null,
            "display": null,
            "flex": null,
            "flex_flow": null,
            "grid_area": null,
            "grid_auto_columns": null,
            "grid_auto_flow": null,
            "grid_auto_rows": null,
            "grid_column": null,
            "grid_gap": null,
            "grid_row": null,
            "grid_template_areas": null,
            "grid_template_columns": null,
            "grid_template_rows": null,
            "height": null,
            "justify_content": null,
            "justify_items": null,
            "left": null,
            "margin": null,
            "max_height": null,
            "max_width": null,
            "min_height": null,
            "min_width": null,
            "object_fit": null,
            "object_position": null,
            "order": null,
            "overflow": null,
            "overflow_x": null,
            "overflow_y": null,
            "padding": null,
            "right": null,
            "top": null,
            "visibility": null,
            "width": null
          }
        },
        "ef0504a8391f4845af4f663fe51720e9": {
          "model_module": "@jupyter-widgets/controls",
          "model_name": "DescriptionStyleModel",
          "model_module_version": "1.5.0",
          "state": {
            "_model_module": "@jupyter-widgets/controls",
            "_model_module_version": "1.5.0",
            "_model_name": "DescriptionStyleModel",
            "_view_count": null,
            "_view_module": "@jupyter-widgets/base",
            "_view_module_version": "1.2.0",
            "_view_name": "StyleView",
            "description_width": ""
          }
        },
        "cef4c96d1a514885b4707d6127da37e6": {
          "model_module": "@jupyter-widgets/base",
          "model_name": "LayoutModel",
          "model_module_version": "1.2.0",
          "state": {
            "_model_module": "@jupyter-widgets/base",
            "_model_module_version": "1.2.0",
            "_model_name": "LayoutModel",
            "_view_count": null,
            "_view_module": "@jupyter-widgets/base",
            "_view_module_version": "1.2.0",
            "_view_name": "LayoutView",
            "align_content": null,
            "align_items": null,
            "align_self": null,
            "border": null,
            "bottom": null,
            "display": null,
            "flex": null,
            "flex_flow": null,
            "grid_area": null,
            "grid_auto_columns": null,
            "grid_auto_flow": null,
            "grid_auto_rows": null,
            "grid_column": null,
            "grid_gap": null,
            "grid_row": null,
            "grid_template_areas": null,
            "grid_template_columns": null,
            "grid_template_rows": null,
            "height": null,
            "justify_content": null,
            "justify_items": null,
            "left": null,
            "margin": null,
            "max_height": null,
            "max_width": null,
            "min_height": null,
            "min_width": null,
            "object_fit": null,
            "object_position": null,
            "order": null,
            "overflow": null,
            "overflow_x": null,
            "overflow_y": null,
            "padding": null,
            "right": null,
            "top": null,
            "visibility": null,
            "width": null
          }
        },
        "2ab580a12bfe43fea563cc1fc427903d": {
          "model_module": "@jupyter-widgets/controls",
          "model_name": "ProgressStyleModel",
          "model_module_version": "1.5.0",
          "state": {
            "_model_module": "@jupyter-widgets/controls",
            "_model_module_version": "1.5.0",
            "_model_name": "ProgressStyleModel",
            "_view_count": null,
            "_view_module": "@jupyter-widgets/base",
            "_view_module_version": "1.2.0",
            "_view_name": "StyleView",
            "bar_color": null,
            "description_width": ""
          }
        },
        "d6035f4f3fae4f9fb61c484779a44289": {
          "model_module": "@jupyter-widgets/base",
          "model_name": "LayoutModel",
          "model_module_version": "1.2.0",
          "state": {
            "_model_module": "@jupyter-widgets/base",
            "_model_module_version": "1.2.0",
            "_model_name": "LayoutModel",
            "_view_count": null,
            "_view_module": "@jupyter-widgets/base",
            "_view_module_version": "1.2.0",
            "_view_name": "LayoutView",
            "align_content": null,
            "align_items": null,
            "align_self": null,
            "border": null,
            "bottom": null,
            "display": null,
            "flex": null,
            "flex_flow": null,
            "grid_area": null,
            "grid_auto_columns": null,
            "grid_auto_flow": null,
            "grid_auto_rows": null,
            "grid_column": null,
            "grid_gap": null,
            "grid_row": null,
            "grid_template_areas": null,
            "grid_template_columns": null,
            "grid_template_rows": null,
            "height": null,
            "justify_content": null,
            "justify_items": null,
            "left": null,
            "margin": null,
            "max_height": null,
            "max_width": null,
            "min_height": null,
            "min_width": null,
            "object_fit": null,
            "object_position": null,
            "order": null,
            "overflow": null,
            "overflow_x": null,
            "overflow_y": null,
            "padding": null,
            "right": null,
            "top": null,
            "visibility": null,
            "width": null
          }
        },
        "3e3cd1e7f4d74b85a2dd209200152e1c": {
          "model_module": "@jupyter-widgets/controls",
          "model_name": "DescriptionStyleModel",
          "model_module_version": "1.5.0",
          "state": {
            "_model_module": "@jupyter-widgets/controls",
            "_model_module_version": "1.5.0",
            "_model_name": "DescriptionStyleModel",
            "_view_count": null,
            "_view_module": "@jupyter-widgets/base",
            "_view_module_version": "1.2.0",
            "_view_name": "StyleView",
            "description_width": ""
          }
        },
        "3a2c261dfe4c44ee916b910261076925": {
          "model_module": "@jupyter-widgets/controls",
          "model_name": "HBoxModel",
          "model_module_version": "1.5.0",
          "state": {
            "_dom_classes": [],
            "_model_module": "@jupyter-widgets/controls",
            "_model_module_version": "1.5.0",
            "_model_name": "HBoxModel",
            "_view_count": null,
            "_view_module": "@jupyter-widgets/controls",
            "_view_module_version": "1.5.0",
            "_view_name": "HBoxView",
            "box_style": "",
            "children": [
              "IPY_MODEL_9efc5b49614840b8b55f0115edbe551b",
              "IPY_MODEL_1ceb4552d74248c5aab587e82457cdc0",
              "IPY_MODEL_11c81d33b3714a33b016b7d7e59aba99"
            ],
            "layout": "IPY_MODEL_ec82af08102549498bdf8d709f884fa0"
          }
        },
        "9efc5b49614840b8b55f0115edbe551b": {
          "model_module": "@jupyter-widgets/controls",
          "model_name": "HTMLModel",
          "model_module_version": "1.5.0",
          "state": {
            "_dom_classes": [],
            "_model_module": "@jupyter-widgets/controls",
            "_model_module_version": "1.5.0",
            "_model_name": "HTMLModel",
            "_view_count": null,
            "_view_module": "@jupyter-widgets/controls",
            "_view_module_version": "1.5.0",
            "_view_name": "HTMLView",
            "description": "",
            "description_tooltip": null,
            "layout": "IPY_MODEL_78cc0b53e6ca483d90145daa646e205c",
            "placeholder": "​",
            "style": "IPY_MODEL_ddd222a75f204ef587190c6c0e70324e",
            "value": "Map: 100%"
          }
        },
        "1ceb4552d74248c5aab587e82457cdc0": {
          "model_module": "@jupyter-widgets/controls",
          "model_name": "FloatProgressModel",
          "model_module_version": "1.5.0",
          "state": {
            "_dom_classes": [],
            "_model_module": "@jupyter-widgets/controls",
            "_model_module_version": "1.5.0",
            "_model_name": "FloatProgressModel",
            "_view_count": null,
            "_view_module": "@jupyter-widgets/controls",
            "_view_module_version": "1.5.0",
            "_view_name": "ProgressView",
            "bar_style": "success",
            "description": "",
            "description_tooltip": null,
            "layout": "IPY_MODEL_e4b5c909304441c994623e6e0b240cf8",
            "max": 461,
            "min": 0,
            "orientation": "horizontal",
            "style": "IPY_MODEL_752653ade1944188a966300037a0f35c",
            "value": 461
          }
        },
        "11c81d33b3714a33b016b7d7e59aba99": {
          "model_module": "@jupyter-widgets/controls",
          "model_name": "HTMLModel",
          "model_module_version": "1.5.0",
          "state": {
            "_dom_classes": [],
            "_model_module": "@jupyter-widgets/controls",
            "_model_module_version": "1.5.0",
            "_model_name": "HTMLModel",
            "_view_count": null,
            "_view_module": "@jupyter-widgets/controls",
            "_view_module_version": "1.5.0",
            "_view_name": "HTMLView",
            "description": "",
            "description_tooltip": null,
            "layout": "IPY_MODEL_13c92ed5a64b4b478d6e92e720749bbf",
            "placeholder": "​",
            "style": "IPY_MODEL_9ff240e0deeb488dbd0ffb0473e761c6",
            "value": " 461/461 [00:03&lt;00:00, 131.94 examples/s]"
          }
        },
        "ec82af08102549498bdf8d709f884fa0": {
          "model_module": "@jupyter-widgets/base",
          "model_name": "LayoutModel",
          "model_module_version": "1.2.0",
          "state": {
            "_model_module": "@jupyter-widgets/base",
            "_model_module_version": "1.2.0",
            "_model_name": "LayoutModel",
            "_view_count": null,
            "_view_module": "@jupyter-widgets/base",
            "_view_module_version": "1.2.0",
            "_view_name": "LayoutView",
            "align_content": null,
            "align_items": null,
            "align_self": null,
            "border": null,
            "bottom": null,
            "display": null,
            "flex": null,
            "flex_flow": null,
            "grid_area": null,
            "grid_auto_columns": null,
            "grid_auto_flow": null,
            "grid_auto_rows": null,
            "grid_column": null,
            "grid_gap": null,
            "grid_row": null,
            "grid_template_areas": null,
            "grid_template_columns": null,
            "grid_template_rows": null,
            "height": null,
            "justify_content": null,
            "justify_items": null,
            "left": null,
            "margin": null,
            "max_height": null,
            "max_width": null,
            "min_height": null,
            "min_width": null,
            "object_fit": null,
            "object_position": null,
            "order": null,
            "overflow": null,
            "overflow_x": null,
            "overflow_y": null,
            "padding": null,
            "right": null,
            "top": null,
            "visibility": null,
            "width": null
          }
        },
        "78cc0b53e6ca483d90145daa646e205c": {
          "model_module": "@jupyter-widgets/base",
          "model_name": "LayoutModel",
          "model_module_version": "1.2.0",
          "state": {
            "_model_module": "@jupyter-widgets/base",
            "_model_module_version": "1.2.0",
            "_model_name": "LayoutModel",
            "_view_count": null,
            "_view_module": "@jupyter-widgets/base",
            "_view_module_version": "1.2.0",
            "_view_name": "LayoutView",
            "align_content": null,
            "align_items": null,
            "align_self": null,
            "border": null,
            "bottom": null,
            "display": null,
            "flex": null,
            "flex_flow": null,
            "grid_area": null,
            "grid_auto_columns": null,
            "grid_auto_flow": null,
            "grid_auto_rows": null,
            "grid_column": null,
            "grid_gap": null,
            "grid_row": null,
            "grid_template_areas": null,
            "grid_template_columns": null,
            "grid_template_rows": null,
            "height": null,
            "justify_content": null,
            "justify_items": null,
            "left": null,
            "margin": null,
            "max_height": null,
            "max_width": null,
            "min_height": null,
            "min_width": null,
            "object_fit": null,
            "object_position": null,
            "order": null,
            "overflow": null,
            "overflow_x": null,
            "overflow_y": null,
            "padding": null,
            "right": null,
            "top": null,
            "visibility": null,
            "width": null
          }
        },
        "ddd222a75f204ef587190c6c0e70324e": {
          "model_module": "@jupyter-widgets/controls",
          "model_name": "DescriptionStyleModel",
          "model_module_version": "1.5.0",
          "state": {
            "_model_module": "@jupyter-widgets/controls",
            "_model_module_version": "1.5.0",
            "_model_name": "DescriptionStyleModel",
            "_view_count": null,
            "_view_module": "@jupyter-widgets/base",
            "_view_module_version": "1.2.0",
            "_view_name": "StyleView",
            "description_width": ""
          }
        },
        "e4b5c909304441c994623e6e0b240cf8": {
          "model_module": "@jupyter-widgets/base",
          "model_name": "LayoutModel",
          "model_module_version": "1.2.0",
          "state": {
            "_model_module": "@jupyter-widgets/base",
            "_model_module_version": "1.2.0",
            "_model_name": "LayoutModel",
            "_view_count": null,
            "_view_module": "@jupyter-widgets/base",
            "_view_module_version": "1.2.0",
            "_view_name": "LayoutView",
            "align_content": null,
            "align_items": null,
            "align_self": null,
            "border": null,
            "bottom": null,
            "display": null,
            "flex": null,
            "flex_flow": null,
            "grid_area": null,
            "grid_auto_columns": null,
            "grid_auto_flow": null,
            "grid_auto_rows": null,
            "grid_column": null,
            "grid_gap": null,
            "grid_row": null,
            "grid_template_areas": null,
            "grid_template_columns": null,
            "grid_template_rows": null,
            "height": null,
            "justify_content": null,
            "justify_items": null,
            "left": null,
            "margin": null,
            "max_height": null,
            "max_width": null,
            "min_height": null,
            "min_width": null,
            "object_fit": null,
            "object_position": null,
            "order": null,
            "overflow": null,
            "overflow_x": null,
            "overflow_y": null,
            "padding": null,
            "right": null,
            "top": null,
            "visibility": null,
            "width": null
          }
        },
        "752653ade1944188a966300037a0f35c": {
          "model_module": "@jupyter-widgets/controls",
          "model_name": "ProgressStyleModel",
          "model_module_version": "1.5.0",
          "state": {
            "_model_module": "@jupyter-widgets/controls",
            "_model_module_version": "1.5.0",
            "_model_name": "ProgressStyleModel",
            "_view_count": null,
            "_view_module": "@jupyter-widgets/base",
            "_view_module_version": "1.2.0",
            "_view_name": "StyleView",
            "bar_color": null,
            "description_width": ""
          }
        },
        "13c92ed5a64b4b478d6e92e720749bbf": {
          "model_module": "@jupyter-widgets/base",
          "model_name": "LayoutModel",
          "model_module_version": "1.2.0",
          "state": {
            "_model_module": "@jupyter-widgets/base",
            "_model_module_version": "1.2.0",
            "_model_name": "LayoutModel",
            "_view_count": null,
            "_view_module": "@jupyter-widgets/base",
            "_view_module_version": "1.2.0",
            "_view_name": "LayoutView",
            "align_content": null,
            "align_items": null,
            "align_self": null,
            "border": null,
            "bottom": null,
            "display": null,
            "flex": null,
            "flex_flow": null,
            "grid_area": null,
            "grid_auto_columns": null,
            "grid_auto_flow": null,
            "grid_auto_rows": null,
            "grid_column": null,
            "grid_gap": null,
            "grid_row": null,
            "grid_template_areas": null,
            "grid_template_columns": null,
            "grid_template_rows": null,
            "height": null,
            "justify_content": null,
            "justify_items": null,
            "left": null,
            "margin": null,
            "max_height": null,
            "max_width": null,
            "min_height": null,
            "min_width": null,
            "object_fit": null,
            "object_position": null,
            "order": null,
            "overflow": null,
            "overflow_x": null,
            "overflow_y": null,
            "padding": null,
            "right": null,
            "top": null,
            "visibility": null,
            "width": null
          }
        },
        "9ff240e0deeb488dbd0ffb0473e761c6": {
          "model_module": "@jupyter-widgets/controls",
          "model_name": "DescriptionStyleModel",
          "model_module_version": "1.5.0",
          "state": {
            "_model_module": "@jupyter-widgets/controls",
            "_model_module_version": "1.5.0",
            "_model_name": "DescriptionStyleModel",
            "_view_count": null,
            "_view_module": "@jupyter-widgets/base",
            "_view_module_version": "1.2.0",
            "_view_name": "StyleView",
            "description_width": ""
          }
        },
        "2bdd43687dbb480687d94d610e29aead": {
          "model_module": "@jupyter-widgets/controls",
          "model_name": "HBoxModel",
          "model_module_version": "1.5.0",
          "state": {
            "_dom_classes": [],
            "_model_module": "@jupyter-widgets/controls",
            "_model_module_version": "1.5.0",
            "_model_name": "HBoxModel",
            "_view_count": null,
            "_view_module": "@jupyter-widgets/controls",
            "_view_module_version": "1.5.0",
            "_view_name": "HBoxView",
            "box_style": "",
            "children": [
              "IPY_MODEL_ab625dd958064d2aaedac3b73f2d64b0",
              "IPY_MODEL_31f7f3f398f44cc792d25f4c8800d7c3",
              "IPY_MODEL_566a4255e8b340f2bb746904b1176f86"
            ],
            "layout": "IPY_MODEL_e282d2674bb64ff49e8179939d0e0f7c"
          }
        },
        "ab625dd958064d2aaedac3b73f2d64b0": {
          "model_module": "@jupyter-widgets/controls",
          "model_name": "HTMLModel",
          "model_module_version": "1.5.0",
          "state": {
            "_dom_classes": [],
            "_model_module": "@jupyter-widgets/controls",
            "_model_module_version": "1.5.0",
            "_model_name": "HTMLModel",
            "_view_count": null,
            "_view_module": "@jupyter-widgets/controls",
            "_view_module_version": "1.5.0",
            "_view_name": "HTMLView",
            "description": "",
            "description_tooltip": null,
            "layout": "IPY_MODEL_fee76ad14d8f489486c1b7ee9a833461",
            "placeholder": "​",
            "style": "IPY_MODEL_8e0835b747774ad1bb7a40f2ee66fdb7",
            "value": "Map: 100%"
          }
        },
        "31f7f3f398f44cc792d25f4c8800d7c3": {
          "model_module": "@jupyter-widgets/controls",
          "model_name": "FloatProgressModel",
          "model_module_version": "1.5.0",
          "state": {
            "_dom_classes": [],
            "_model_module": "@jupyter-widgets/controls",
            "_model_module_version": "1.5.0",
            "_model_name": "FloatProgressModel",
            "_view_count": null,
            "_view_module": "@jupyter-widgets/controls",
            "_view_module_version": "1.5.0",
            "_view_name": "ProgressView",
            "bar_style": "success",
            "description": "",
            "description_tooltip": null,
            "layout": "IPY_MODEL_981d99e65a7941bbba0d3b156c2b66b4",
            "max": 199,
            "min": 0,
            "orientation": "horizontal",
            "style": "IPY_MODEL_8ff12770d73242b9b6db46efc1ae4a77",
            "value": 199
          }
        },
        "566a4255e8b340f2bb746904b1176f86": {
          "model_module": "@jupyter-widgets/controls",
          "model_name": "HTMLModel",
          "model_module_version": "1.5.0",
          "state": {
            "_dom_classes": [],
            "_model_module": "@jupyter-widgets/controls",
            "_model_module_version": "1.5.0",
            "_model_name": "HTMLModel",
            "_view_count": null,
            "_view_module": "@jupyter-widgets/controls",
            "_view_module_version": "1.5.0",
            "_view_name": "HTMLView",
            "description": "",
            "description_tooltip": null,
            "layout": "IPY_MODEL_f3f58f30c06443f7887acd711c53be3e",
            "placeholder": "​",
            "style": "IPY_MODEL_f250f5721f3144edba80f8947f13b10e",
            "value": " 199/199 [00:01&lt;00:00, 116.77 examples/s]"
          }
        },
        "e282d2674bb64ff49e8179939d0e0f7c": {
          "model_module": "@jupyter-widgets/base",
          "model_name": "LayoutModel",
          "model_module_version": "1.2.0",
          "state": {
            "_model_module": "@jupyter-widgets/base",
            "_model_module_version": "1.2.0",
            "_model_name": "LayoutModel",
            "_view_count": null,
            "_view_module": "@jupyter-widgets/base",
            "_view_module_version": "1.2.0",
            "_view_name": "LayoutView",
            "align_content": null,
            "align_items": null,
            "align_self": null,
            "border": null,
            "bottom": null,
            "display": null,
            "flex": null,
            "flex_flow": null,
            "grid_area": null,
            "grid_auto_columns": null,
            "grid_auto_flow": null,
            "grid_auto_rows": null,
            "grid_column": null,
            "grid_gap": null,
            "grid_row": null,
            "grid_template_areas": null,
            "grid_template_columns": null,
            "grid_template_rows": null,
            "height": null,
            "justify_content": null,
            "justify_items": null,
            "left": null,
            "margin": null,
            "max_height": null,
            "max_width": null,
            "min_height": null,
            "min_width": null,
            "object_fit": null,
            "object_position": null,
            "order": null,
            "overflow": null,
            "overflow_x": null,
            "overflow_y": null,
            "padding": null,
            "right": null,
            "top": null,
            "visibility": null,
            "width": null
          }
        },
        "fee76ad14d8f489486c1b7ee9a833461": {
          "model_module": "@jupyter-widgets/base",
          "model_name": "LayoutModel",
          "model_module_version": "1.2.0",
          "state": {
            "_model_module": "@jupyter-widgets/base",
            "_model_module_version": "1.2.0",
            "_model_name": "LayoutModel",
            "_view_count": null,
            "_view_module": "@jupyter-widgets/base",
            "_view_module_version": "1.2.0",
            "_view_name": "LayoutView",
            "align_content": null,
            "align_items": null,
            "align_self": null,
            "border": null,
            "bottom": null,
            "display": null,
            "flex": null,
            "flex_flow": null,
            "grid_area": null,
            "grid_auto_columns": null,
            "grid_auto_flow": null,
            "grid_auto_rows": null,
            "grid_column": null,
            "grid_gap": null,
            "grid_row": null,
            "grid_template_areas": null,
            "grid_template_columns": null,
            "grid_template_rows": null,
            "height": null,
            "justify_content": null,
            "justify_items": null,
            "left": null,
            "margin": null,
            "max_height": null,
            "max_width": null,
            "min_height": null,
            "min_width": null,
            "object_fit": null,
            "object_position": null,
            "order": null,
            "overflow": null,
            "overflow_x": null,
            "overflow_y": null,
            "padding": null,
            "right": null,
            "top": null,
            "visibility": null,
            "width": null
          }
        },
        "8e0835b747774ad1bb7a40f2ee66fdb7": {
          "model_module": "@jupyter-widgets/controls",
          "model_name": "DescriptionStyleModel",
          "model_module_version": "1.5.0",
          "state": {
            "_model_module": "@jupyter-widgets/controls",
            "_model_module_version": "1.5.0",
            "_model_name": "DescriptionStyleModel",
            "_view_count": null,
            "_view_module": "@jupyter-widgets/base",
            "_view_module_version": "1.2.0",
            "_view_name": "StyleView",
            "description_width": ""
          }
        },
        "981d99e65a7941bbba0d3b156c2b66b4": {
          "model_module": "@jupyter-widgets/base",
          "model_name": "LayoutModel",
          "model_module_version": "1.2.0",
          "state": {
            "_model_module": "@jupyter-widgets/base",
            "_model_module_version": "1.2.0",
            "_model_name": "LayoutModel",
            "_view_count": null,
            "_view_module": "@jupyter-widgets/base",
            "_view_module_version": "1.2.0",
            "_view_name": "LayoutView",
            "align_content": null,
            "align_items": null,
            "align_self": null,
            "border": null,
            "bottom": null,
            "display": null,
            "flex": null,
            "flex_flow": null,
            "grid_area": null,
            "grid_auto_columns": null,
            "grid_auto_flow": null,
            "grid_auto_rows": null,
            "grid_column": null,
            "grid_gap": null,
            "grid_row": null,
            "grid_template_areas": null,
            "grid_template_columns": null,
            "grid_template_rows": null,
            "height": null,
            "justify_content": null,
            "justify_items": null,
            "left": null,
            "margin": null,
            "max_height": null,
            "max_width": null,
            "min_height": null,
            "min_width": null,
            "object_fit": null,
            "object_position": null,
            "order": null,
            "overflow": null,
            "overflow_x": null,
            "overflow_y": null,
            "padding": null,
            "right": null,
            "top": null,
            "visibility": null,
            "width": null
          }
        },
        "8ff12770d73242b9b6db46efc1ae4a77": {
          "model_module": "@jupyter-widgets/controls",
          "model_name": "ProgressStyleModel",
          "model_module_version": "1.5.0",
          "state": {
            "_model_module": "@jupyter-widgets/controls",
            "_model_module_version": "1.5.0",
            "_model_name": "ProgressStyleModel",
            "_view_count": null,
            "_view_module": "@jupyter-widgets/base",
            "_view_module_version": "1.2.0",
            "_view_name": "StyleView",
            "bar_color": null,
            "description_width": ""
          }
        },
        "f3f58f30c06443f7887acd711c53be3e": {
          "model_module": "@jupyter-widgets/base",
          "model_name": "LayoutModel",
          "model_module_version": "1.2.0",
          "state": {
            "_model_module": "@jupyter-widgets/base",
            "_model_module_version": "1.2.0",
            "_model_name": "LayoutModel",
            "_view_count": null,
            "_view_module": "@jupyter-widgets/base",
            "_view_module_version": "1.2.0",
            "_view_name": "LayoutView",
            "align_content": null,
            "align_items": null,
            "align_self": null,
            "border": null,
            "bottom": null,
            "display": null,
            "flex": null,
            "flex_flow": null,
            "grid_area": null,
            "grid_auto_columns": null,
            "grid_auto_flow": null,
            "grid_auto_rows": null,
            "grid_column": null,
            "grid_gap": null,
            "grid_row": null,
            "grid_template_areas": null,
            "grid_template_columns": null,
            "grid_template_rows": null,
            "height": null,
            "justify_content": null,
            "justify_items": null,
            "left": null,
            "margin": null,
            "max_height": null,
            "max_width": null,
            "min_height": null,
            "min_width": null,
            "object_fit": null,
            "object_position": null,
            "order": null,
            "overflow": null,
            "overflow_x": null,
            "overflow_y": null,
            "padding": null,
            "right": null,
            "top": null,
            "visibility": null,
            "width": null
          }
        },
        "f250f5721f3144edba80f8947f13b10e": {
          "model_module": "@jupyter-widgets/controls",
          "model_name": "DescriptionStyleModel",
          "model_module_version": "1.5.0",
          "state": {
            "_model_module": "@jupyter-widgets/controls",
            "_model_module_version": "1.5.0",
            "_model_name": "DescriptionStyleModel",
            "_view_count": null,
            "_view_module": "@jupyter-widgets/base",
            "_view_module_version": "1.2.0",
            "_view_name": "StyleView",
            "description_width": ""
          }
        },
        "59e83fa92f4d46a59309b5328f0fa8b8": {
          "model_module": "@jupyter-widgets/controls",
          "model_name": "HBoxModel",
          "model_module_version": "1.5.0",
          "state": {
            "_dom_classes": [],
            "_model_module": "@jupyter-widgets/controls",
            "_model_module_version": "1.5.0",
            "_model_name": "HBoxModel",
            "_view_count": null,
            "_view_module": "@jupyter-widgets/controls",
            "_view_module_version": "1.5.0",
            "_view_name": "HBoxView",
            "box_style": "",
            "children": [
              "IPY_MODEL_8888f6c73d164eacaa89c5ce31f3e193",
              "IPY_MODEL_67ef6ab4908d447aa667e23b9617a007",
              "IPY_MODEL_c37234f7c4f343a79d29432206b641fd"
            ],
            "layout": "IPY_MODEL_0f98e85f38694461b9f7fc600ddcdcd4"
          }
        },
        "8888f6c73d164eacaa89c5ce31f3e193": {
          "model_module": "@jupyter-widgets/controls",
          "model_name": "HTMLModel",
          "model_module_version": "1.5.0",
          "state": {
            "_dom_classes": [],
            "_model_module": "@jupyter-widgets/controls",
            "_model_module_version": "1.5.0",
            "_model_name": "HTMLModel",
            "_view_count": null,
            "_view_module": "@jupyter-widgets/controls",
            "_view_module_version": "1.5.0",
            "_view_name": "HTMLView",
            "description": "",
            "description_tooltip": null,
            "layout": "IPY_MODEL_7459e359e59243f5ab462b8e07fc2b2e",
            "placeholder": "​",
            "style": "IPY_MODEL_7ee9ee61c732474bbcf6acc8b7467fd9",
            "value": "model.safetensors: 100%"
          }
        },
        "67ef6ab4908d447aa667e23b9617a007": {
          "model_module": "@jupyter-widgets/controls",
          "model_name": "FloatProgressModel",
          "model_module_version": "1.5.0",
          "state": {
            "_dom_classes": [],
            "_model_module": "@jupyter-widgets/controls",
            "_model_module_version": "1.5.0",
            "_model_name": "FloatProgressModel",
            "_view_count": null,
            "_view_module": "@jupyter-widgets/controls",
            "_view_module_version": "1.5.0",
            "_view_name": "ProgressView",
            "bar_style": "success",
            "description": "",
            "description_tooltip": null,
            "layout": "IPY_MODEL_98320028540249a68eac369dd5d8ad1d",
            "max": 440449768,
            "min": 0,
            "orientation": "horizontal",
            "style": "IPY_MODEL_5182c04a6f364d62b83acac6056c34a1",
            "value": 440449768
          }
        },
        "c37234f7c4f343a79d29432206b641fd": {
          "model_module": "@jupyter-widgets/controls",
          "model_name": "HTMLModel",
          "model_module_version": "1.5.0",
          "state": {
            "_dom_classes": [],
            "_model_module": "@jupyter-widgets/controls",
            "_model_module_version": "1.5.0",
            "_model_name": "HTMLModel",
            "_view_count": null,
            "_view_module": "@jupyter-widgets/controls",
            "_view_module_version": "1.5.0",
            "_view_name": "HTMLView",
            "description": "",
            "description_tooltip": null,
            "layout": "IPY_MODEL_541518e420414f4b8ab0b057d5a23ff9",
            "placeholder": "​",
            "style": "IPY_MODEL_b2b2a8b76a8c49659bcc70b3459124d6",
            "value": " 440M/440M [00:03&lt;00:00, 103MB/s]"
          }
        },
        "0f98e85f38694461b9f7fc600ddcdcd4": {
          "model_module": "@jupyter-widgets/base",
          "model_name": "LayoutModel",
          "model_module_version": "1.2.0",
          "state": {
            "_model_module": "@jupyter-widgets/base",
            "_model_module_version": "1.2.0",
            "_model_name": "LayoutModel",
            "_view_count": null,
            "_view_module": "@jupyter-widgets/base",
            "_view_module_version": "1.2.0",
            "_view_name": "LayoutView",
            "align_content": null,
            "align_items": null,
            "align_self": null,
            "border": null,
            "bottom": null,
            "display": null,
            "flex": null,
            "flex_flow": null,
            "grid_area": null,
            "grid_auto_columns": null,
            "grid_auto_flow": null,
            "grid_auto_rows": null,
            "grid_column": null,
            "grid_gap": null,
            "grid_row": null,
            "grid_template_areas": null,
            "grid_template_columns": null,
            "grid_template_rows": null,
            "height": null,
            "justify_content": null,
            "justify_items": null,
            "left": null,
            "margin": null,
            "max_height": null,
            "max_width": null,
            "min_height": null,
            "min_width": null,
            "object_fit": null,
            "object_position": null,
            "order": null,
            "overflow": null,
            "overflow_x": null,
            "overflow_y": null,
            "padding": null,
            "right": null,
            "top": null,
            "visibility": null,
            "width": null
          }
        },
        "7459e359e59243f5ab462b8e07fc2b2e": {
          "model_module": "@jupyter-widgets/base",
          "model_name": "LayoutModel",
          "model_module_version": "1.2.0",
          "state": {
            "_model_module": "@jupyter-widgets/base",
            "_model_module_version": "1.2.0",
            "_model_name": "LayoutModel",
            "_view_count": null,
            "_view_module": "@jupyter-widgets/base",
            "_view_module_version": "1.2.0",
            "_view_name": "LayoutView",
            "align_content": null,
            "align_items": null,
            "align_self": null,
            "border": null,
            "bottom": null,
            "display": null,
            "flex": null,
            "flex_flow": null,
            "grid_area": null,
            "grid_auto_columns": null,
            "grid_auto_flow": null,
            "grid_auto_rows": null,
            "grid_column": null,
            "grid_gap": null,
            "grid_row": null,
            "grid_template_areas": null,
            "grid_template_columns": null,
            "grid_template_rows": null,
            "height": null,
            "justify_content": null,
            "justify_items": null,
            "left": null,
            "margin": null,
            "max_height": null,
            "max_width": null,
            "min_height": null,
            "min_width": null,
            "object_fit": null,
            "object_position": null,
            "order": null,
            "overflow": null,
            "overflow_x": null,
            "overflow_y": null,
            "padding": null,
            "right": null,
            "top": null,
            "visibility": null,
            "width": null
          }
        },
        "7ee9ee61c732474bbcf6acc8b7467fd9": {
          "model_module": "@jupyter-widgets/controls",
          "model_name": "DescriptionStyleModel",
          "model_module_version": "1.5.0",
          "state": {
            "_model_module": "@jupyter-widgets/controls",
            "_model_module_version": "1.5.0",
            "_model_name": "DescriptionStyleModel",
            "_view_count": null,
            "_view_module": "@jupyter-widgets/base",
            "_view_module_version": "1.2.0",
            "_view_name": "StyleView",
            "description_width": ""
          }
        },
        "98320028540249a68eac369dd5d8ad1d": {
          "model_module": "@jupyter-widgets/base",
          "model_name": "LayoutModel",
          "model_module_version": "1.2.0",
          "state": {
            "_model_module": "@jupyter-widgets/base",
            "_model_module_version": "1.2.0",
            "_model_name": "LayoutModel",
            "_view_count": null,
            "_view_module": "@jupyter-widgets/base",
            "_view_module_version": "1.2.0",
            "_view_name": "LayoutView",
            "align_content": null,
            "align_items": null,
            "align_self": null,
            "border": null,
            "bottom": null,
            "display": null,
            "flex": null,
            "flex_flow": null,
            "grid_area": null,
            "grid_auto_columns": null,
            "grid_auto_flow": null,
            "grid_auto_rows": null,
            "grid_column": null,
            "grid_gap": null,
            "grid_row": null,
            "grid_template_areas": null,
            "grid_template_columns": null,
            "grid_template_rows": null,
            "height": null,
            "justify_content": null,
            "justify_items": null,
            "left": null,
            "margin": null,
            "max_height": null,
            "max_width": null,
            "min_height": null,
            "min_width": null,
            "object_fit": null,
            "object_position": null,
            "order": null,
            "overflow": null,
            "overflow_x": null,
            "overflow_y": null,
            "padding": null,
            "right": null,
            "top": null,
            "visibility": null,
            "width": null
          }
        },
        "5182c04a6f364d62b83acac6056c34a1": {
          "model_module": "@jupyter-widgets/controls",
          "model_name": "ProgressStyleModel",
          "model_module_version": "1.5.0",
          "state": {
            "_model_module": "@jupyter-widgets/controls",
            "_model_module_version": "1.5.0",
            "_model_name": "ProgressStyleModel",
            "_view_count": null,
            "_view_module": "@jupyter-widgets/base",
            "_view_module_version": "1.2.0",
            "_view_name": "StyleView",
            "bar_color": null,
            "description_width": ""
          }
        },
        "541518e420414f4b8ab0b057d5a23ff9": {
          "model_module": "@jupyter-widgets/base",
          "model_name": "LayoutModel",
          "model_module_version": "1.2.0",
          "state": {
            "_model_module": "@jupyter-widgets/base",
            "_model_module_version": "1.2.0",
            "_model_name": "LayoutModel",
            "_view_count": null,
            "_view_module": "@jupyter-widgets/base",
            "_view_module_version": "1.2.0",
            "_view_name": "LayoutView",
            "align_content": null,
            "align_items": null,
            "align_self": null,
            "border": null,
            "bottom": null,
            "display": null,
            "flex": null,
            "flex_flow": null,
            "grid_area": null,
            "grid_auto_columns": null,
            "grid_auto_flow": null,
            "grid_auto_rows": null,
            "grid_column": null,
            "grid_gap": null,
            "grid_row": null,
            "grid_template_areas": null,
            "grid_template_columns": null,
            "grid_template_rows": null,
            "height": null,
            "justify_content": null,
            "justify_items": null,
            "left": null,
            "margin": null,
            "max_height": null,
            "max_width": null,
            "min_height": null,
            "min_width": null,
            "object_fit": null,
            "object_position": null,
            "order": null,
            "overflow": null,
            "overflow_x": null,
            "overflow_y": null,
            "padding": null,
            "right": null,
            "top": null,
            "visibility": null,
            "width": null
          }
        },
        "b2b2a8b76a8c49659bcc70b3459124d6": {
          "model_module": "@jupyter-widgets/controls",
          "model_name": "DescriptionStyleModel",
          "model_module_version": "1.5.0",
          "state": {
            "_model_module": "@jupyter-widgets/controls",
            "_model_module_version": "1.5.0",
            "_model_name": "DescriptionStyleModel",
            "_view_count": null,
            "_view_module": "@jupyter-widgets/base",
            "_view_module_version": "1.2.0",
            "_view_name": "StyleView",
            "description_width": ""
          }
        },
        "d4c8065eeaf24d4dbc9d079b225252fa": {
          "model_module": "@jupyter-widgets/controls",
          "model_name": "HBoxModel",
          "model_module_version": "1.5.0",
          "state": {
            "_dom_classes": [],
            "_model_module": "@jupyter-widgets/controls",
            "_model_module_version": "1.5.0",
            "_model_name": "HBoxModel",
            "_view_count": null,
            "_view_module": "@jupyter-widgets/controls",
            "_view_module_version": "1.5.0",
            "_view_name": "HBoxView",
            "box_style": "",
            "children": [
              "IPY_MODEL_1dc1594cd23f4b2d9aa5fc1a58822e78",
              "IPY_MODEL_4e1db01bbf184b2aa06deaab9690e2c5",
              "IPY_MODEL_00109da86adc4ac8bfe72f7ca29d7dc7"
            ],
            "layout": "IPY_MODEL_849f591173404b388987cdb9f3050bd7"
          }
        },
        "1dc1594cd23f4b2d9aa5fc1a58822e78": {
          "model_module": "@jupyter-widgets/controls",
          "model_name": "HTMLModel",
          "model_module_version": "1.5.0",
          "state": {
            "_dom_classes": [],
            "_model_module": "@jupyter-widgets/controls",
            "_model_module_version": "1.5.0",
            "_model_name": "HTMLModel",
            "_view_count": null,
            "_view_module": "@jupyter-widgets/controls",
            "_view_module_version": "1.5.0",
            "_view_name": "HTMLView",
            "description": "",
            "description_tooltip": null,
            "layout": "IPY_MODEL_a319ce8d816e4b31a4d976e91c4211c1",
            "placeholder": "​",
            "style": "IPY_MODEL_ba23800d2f3d4ffeb360ceae3da5df4e",
            "value": "tokenizer_config.json: 100%"
          }
        },
        "4e1db01bbf184b2aa06deaab9690e2c5": {
          "model_module": "@jupyter-widgets/controls",
          "model_name": "FloatProgressModel",
          "model_module_version": "1.5.0",
          "state": {
            "_dom_classes": [],
            "_model_module": "@jupyter-widgets/controls",
            "_model_module_version": "1.5.0",
            "_model_name": "FloatProgressModel",
            "_view_count": null,
            "_view_module": "@jupyter-widgets/controls",
            "_view_module_version": "1.5.0",
            "_view_name": "ProgressView",
            "bar_style": "success",
            "description": "",
            "description_tooltip": null,
            "layout": "IPY_MODEL_0adecd327aeb4eb1867b97c995caa19c",
            "max": 396,
            "min": 0,
            "orientation": "horizontal",
            "style": "IPY_MODEL_0a9d5d5f380c4d10a16b63435bf97b18",
            "value": 396
          }
        },
        "00109da86adc4ac8bfe72f7ca29d7dc7": {
          "model_module": "@jupyter-widgets/controls",
          "model_name": "HTMLModel",
          "model_module_version": "1.5.0",
          "state": {
            "_dom_classes": [],
            "_model_module": "@jupyter-widgets/controls",
            "_model_module_version": "1.5.0",
            "_model_name": "HTMLModel",
            "_view_count": null,
            "_view_module": "@jupyter-widgets/controls",
            "_view_module_version": "1.5.0",
            "_view_name": "HTMLView",
            "description": "",
            "description_tooltip": null,
            "layout": "IPY_MODEL_2ee39c9ea95e4f1c99f79042b7faa895",
            "placeholder": "​",
            "style": "IPY_MODEL_d345fe7a9a3d4bd29dd257cde21dae08",
            "value": " 396/396 [00:00&lt;00:00, 13.6kB/s]"
          }
        },
        "849f591173404b388987cdb9f3050bd7": {
          "model_module": "@jupyter-widgets/base",
          "model_name": "LayoutModel",
          "model_module_version": "1.2.0",
          "state": {
            "_model_module": "@jupyter-widgets/base",
            "_model_module_version": "1.2.0",
            "_model_name": "LayoutModel",
            "_view_count": null,
            "_view_module": "@jupyter-widgets/base",
            "_view_module_version": "1.2.0",
            "_view_name": "LayoutView",
            "align_content": null,
            "align_items": null,
            "align_self": null,
            "border": null,
            "bottom": null,
            "display": null,
            "flex": null,
            "flex_flow": null,
            "grid_area": null,
            "grid_auto_columns": null,
            "grid_auto_flow": null,
            "grid_auto_rows": null,
            "grid_column": null,
            "grid_gap": null,
            "grid_row": null,
            "grid_template_areas": null,
            "grid_template_columns": null,
            "grid_template_rows": null,
            "height": null,
            "justify_content": null,
            "justify_items": null,
            "left": null,
            "margin": null,
            "max_height": null,
            "max_width": null,
            "min_height": null,
            "min_width": null,
            "object_fit": null,
            "object_position": null,
            "order": null,
            "overflow": null,
            "overflow_x": null,
            "overflow_y": null,
            "padding": null,
            "right": null,
            "top": null,
            "visibility": null,
            "width": null
          }
        },
        "a319ce8d816e4b31a4d976e91c4211c1": {
          "model_module": "@jupyter-widgets/base",
          "model_name": "LayoutModel",
          "model_module_version": "1.2.0",
          "state": {
            "_model_module": "@jupyter-widgets/base",
            "_model_module_version": "1.2.0",
            "_model_name": "LayoutModel",
            "_view_count": null,
            "_view_module": "@jupyter-widgets/base",
            "_view_module_version": "1.2.0",
            "_view_name": "LayoutView",
            "align_content": null,
            "align_items": null,
            "align_self": null,
            "border": null,
            "bottom": null,
            "display": null,
            "flex": null,
            "flex_flow": null,
            "grid_area": null,
            "grid_auto_columns": null,
            "grid_auto_flow": null,
            "grid_auto_rows": null,
            "grid_column": null,
            "grid_gap": null,
            "grid_row": null,
            "grid_template_areas": null,
            "grid_template_columns": null,
            "grid_template_rows": null,
            "height": null,
            "justify_content": null,
            "justify_items": null,
            "left": null,
            "margin": null,
            "max_height": null,
            "max_width": null,
            "min_height": null,
            "min_width": null,
            "object_fit": null,
            "object_position": null,
            "order": null,
            "overflow": null,
            "overflow_x": null,
            "overflow_y": null,
            "padding": null,
            "right": null,
            "top": null,
            "visibility": null,
            "width": null
          }
        },
        "ba23800d2f3d4ffeb360ceae3da5df4e": {
          "model_module": "@jupyter-widgets/controls",
          "model_name": "DescriptionStyleModel",
          "model_module_version": "1.5.0",
          "state": {
            "_model_module": "@jupyter-widgets/controls",
            "_model_module_version": "1.5.0",
            "_model_name": "DescriptionStyleModel",
            "_view_count": null,
            "_view_module": "@jupyter-widgets/base",
            "_view_module_version": "1.2.0",
            "_view_name": "StyleView",
            "description_width": ""
          }
        },
        "0adecd327aeb4eb1867b97c995caa19c": {
          "model_module": "@jupyter-widgets/base",
          "model_name": "LayoutModel",
          "model_module_version": "1.2.0",
          "state": {
            "_model_module": "@jupyter-widgets/base",
            "_model_module_version": "1.2.0",
            "_model_name": "LayoutModel",
            "_view_count": null,
            "_view_module": "@jupyter-widgets/base",
            "_view_module_version": "1.2.0",
            "_view_name": "LayoutView",
            "align_content": null,
            "align_items": null,
            "align_self": null,
            "border": null,
            "bottom": null,
            "display": null,
            "flex": null,
            "flex_flow": null,
            "grid_area": null,
            "grid_auto_columns": null,
            "grid_auto_flow": null,
            "grid_auto_rows": null,
            "grid_column": null,
            "grid_gap": null,
            "grid_row": null,
            "grid_template_areas": null,
            "grid_template_columns": null,
            "grid_template_rows": null,
            "height": null,
            "justify_content": null,
            "justify_items": null,
            "left": null,
            "margin": null,
            "max_height": null,
            "max_width": null,
            "min_height": null,
            "min_width": null,
            "object_fit": null,
            "object_position": null,
            "order": null,
            "overflow": null,
            "overflow_x": null,
            "overflow_y": null,
            "padding": null,
            "right": null,
            "top": null,
            "visibility": null,
            "width": null
          }
        },
        "0a9d5d5f380c4d10a16b63435bf97b18": {
          "model_module": "@jupyter-widgets/controls",
          "model_name": "ProgressStyleModel",
          "model_module_version": "1.5.0",
          "state": {
            "_model_module": "@jupyter-widgets/controls",
            "_model_module_version": "1.5.0",
            "_model_name": "ProgressStyleModel",
            "_view_count": null,
            "_view_module": "@jupyter-widgets/base",
            "_view_module_version": "1.2.0",
            "_view_name": "StyleView",
            "bar_color": null,
            "description_width": ""
          }
        },
        "2ee39c9ea95e4f1c99f79042b7faa895": {
          "model_module": "@jupyter-widgets/base",
          "model_name": "LayoutModel",
          "model_module_version": "1.2.0",
          "state": {
            "_model_module": "@jupyter-widgets/base",
            "_model_module_version": "1.2.0",
            "_model_name": "LayoutModel",
            "_view_count": null,
            "_view_module": "@jupyter-widgets/base",
            "_view_module_version": "1.2.0",
            "_view_name": "LayoutView",
            "align_content": null,
            "align_items": null,
            "align_self": null,
            "border": null,
            "bottom": null,
            "display": null,
            "flex": null,
            "flex_flow": null,
            "grid_area": null,
            "grid_auto_columns": null,
            "grid_auto_flow": null,
            "grid_auto_rows": null,
            "grid_column": null,
            "grid_gap": null,
            "grid_row": null,
            "grid_template_areas": null,
            "grid_template_columns": null,
            "grid_template_rows": null,
            "height": null,
            "justify_content": null,
            "justify_items": null,
            "left": null,
            "margin": null,
            "max_height": null,
            "max_width": null,
            "min_height": null,
            "min_width": null,
            "object_fit": null,
            "object_position": null,
            "order": null,
            "overflow": null,
            "overflow_x": null,
            "overflow_y": null,
            "padding": null,
            "right": null,
            "top": null,
            "visibility": null,
            "width": null
          }
        },
        "d345fe7a9a3d4bd29dd257cde21dae08": {
          "model_module": "@jupyter-widgets/controls",
          "model_name": "DescriptionStyleModel",
          "model_module_version": "1.5.0",
          "state": {
            "_model_module": "@jupyter-widgets/controls",
            "_model_module_version": "1.5.0",
            "_model_name": "DescriptionStyleModel",
            "_view_count": null,
            "_view_module": "@jupyter-widgets/base",
            "_view_module_version": "1.2.0",
            "_view_name": "StyleView",
            "description_width": ""
          }
        },
        "37e730eea2474c55b1f764fcd2664fc4": {
          "model_module": "@jupyter-widgets/controls",
          "model_name": "HBoxModel",
          "model_module_version": "1.5.0",
          "state": {
            "_dom_classes": [],
            "_model_module": "@jupyter-widgets/controls",
            "_model_module_version": "1.5.0",
            "_model_name": "HBoxModel",
            "_view_count": null,
            "_view_module": "@jupyter-widgets/controls",
            "_view_module_version": "1.5.0",
            "_view_name": "HBoxView",
            "box_style": "",
            "children": [
              "IPY_MODEL_e644b695c7194680a4147b654ca3a81f",
              "IPY_MODEL_5c5e152d076e41679a11b1245264fe3f",
              "IPY_MODEL_0af3221a7890442d84f0dc4c0925ae27"
            ],
            "layout": "IPY_MODEL_9130957742a84971bb39388b4fc23e07"
          }
        },
        "e644b695c7194680a4147b654ca3a81f": {
          "model_module": "@jupyter-widgets/controls",
          "model_name": "HTMLModel",
          "model_module_version": "1.5.0",
          "state": {
            "_dom_classes": [],
            "_model_module": "@jupyter-widgets/controls",
            "_model_module_version": "1.5.0",
            "_model_name": "HTMLModel",
            "_view_count": null,
            "_view_module": "@jupyter-widgets/controls",
            "_view_module_version": "1.5.0",
            "_view_name": "HTMLView",
            "description": "",
            "description_tooltip": null,
            "layout": "IPY_MODEL_f05e3b487490479c9b434c95a261bd9e",
            "placeholder": "​",
            "style": "IPY_MODEL_a8167b2a193148278738061522b50b7d",
            "value": "vocab.txt: 100%"
          }
        },
        "5c5e152d076e41679a11b1245264fe3f": {
          "model_module": "@jupyter-widgets/controls",
          "model_name": "FloatProgressModel",
          "model_module_version": "1.5.0",
          "state": {
            "_dom_classes": [],
            "_model_module": "@jupyter-widgets/controls",
            "_model_module_version": "1.5.0",
            "_model_name": "FloatProgressModel",
            "_view_count": null,
            "_view_module": "@jupyter-widgets/controls",
            "_view_module_version": "1.5.0",
            "_view_name": "ProgressView",
            "bar_style": "success",
            "description": "",
            "description_tooltip": null,
            "layout": "IPY_MODEL_aced163a431b44169b532e57f0ea25c9",
            "max": 231508,
            "min": 0,
            "orientation": "horizontal",
            "style": "IPY_MODEL_a10f3fa0aa6b48c69c6423c30f05aff9",
            "value": 231508
          }
        },
        "0af3221a7890442d84f0dc4c0925ae27": {
          "model_module": "@jupyter-widgets/controls",
          "model_name": "HTMLModel",
          "model_module_version": "1.5.0",
          "state": {
            "_dom_classes": [],
            "_model_module": "@jupyter-widgets/controls",
            "_model_module_version": "1.5.0",
            "_model_name": "HTMLModel",
            "_view_count": null,
            "_view_module": "@jupyter-widgets/controls",
            "_view_module_version": "1.5.0",
            "_view_name": "HTMLView",
            "description": "",
            "description_tooltip": null,
            "layout": "IPY_MODEL_4064b96943924e1bbd19a7aefff113b4",
            "placeholder": "​",
            "style": "IPY_MODEL_960cbfe5099944c7aafebf19464fa501",
            "value": " 232k/232k [00:00&lt;00:00, 4.53MB/s]"
          }
        },
        "9130957742a84971bb39388b4fc23e07": {
          "model_module": "@jupyter-widgets/base",
          "model_name": "LayoutModel",
          "model_module_version": "1.2.0",
          "state": {
            "_model_module": "@jupyter-widgets/base",
            "_model_module_version": "1.2.0",
            "_model_name": "LayoutModel",
            "_view_count": null,
            "_view_module": "@jupyter-widgets/base",
            "_view_module_version": "1.2.0",
            "_view_name": "LayoutView",
            "align_content": null,
            "align_items": null,
            "align_self": null,
            "border": null,
            "bottom": null,
            "display": null,
            "flex": null,
            "flex_flow": null,
            "grid_area": null,
            "grid_auto_columns": null,
            "grid_auto_flow": null,
            "grid_auto_rows": null,
            "grid_column": null,
            "grid_gap": null,
            "grid_row": null,
            "grid_template_areas": null,
            "grid_template_columns": null,
            "grid_template_rows": null,
            "height": null,
            "justify_content": null,
            "justify_items": null,
            "left": null,
            "margin": null,
            "max_height": null,
            "max_width": null,
            "min_height": null,
            "min_width": null,
            "object_fit": null,
            "object_position": null,
            "order": null,
            "overflow": null,
            "overflow_x": null,
            "overflow_y": null,
            "padding": null,
            "right": null,
            "top": null,
            "visibility": null,
            "width": null
          }
        },
        "f05e3b487490479c9b434c95a261bd9e": {
          "model_module": "@jupyter-widgets/base",
          "model_name": "LayoutModel",
          "model_module_version": "1.2.0",
          "state": {
            "_model_module": "@jupyter-widgets/base",
            "_model_module_version": "1.2.0",
            "_model_name": "LayoutModel",
            "_view_count": null,
            "_view_module": "@jupyter-widgets/base",
            "_view_module_version": "1.2.0",
            "_view_name": "LayoutView",
            "align_content": null,
            "align_items": null,
            "align_self": null,
            "border": null,
            "bottom": null,
            "display": null,
            "flex": null,
            "flex_flow": null,
            "grid_area": null,
            "grid_auto_columns": null,
            "grid_auto_flow": null,
            "grid_auto_rows": null,
            "grid_column": null,
            "grid_gap": null,
            "grid_row": null,
            "grid_template_areas": null,
            "grid_template_columns": null,
            "grid_template_rows": null,
            "height": null,
            "justify_content": null,
            "justify_items": null,
            "left": null,
            "margin": null,
            "max_height": null,
            "max_width": null,
            "min_height": null,
            "min_width": null,
            "object_fit": null,
            "object_position": null,
            "order": null,
            "overflow": null,
            "overflow_x": null,
            "overflow_y": null,
            "padding": null,
            "right": null,
            "top": null,
            "visibility": null,
            "width": null
          }
        },
        "a8167b2a193148278738061522b50b7d": {
          "model_module": "@jupyter-widgets/controls",
          "model_name": "DescriptionStyleModel",
          "model_module_version": "1.5.0",
          "state": {
            "_model_module": "@jupyter-widgets/controls",
            "_model_module_version": "1.5.0",
            "_model_name": "DescriptionStyleModel",
            "_view_count": null,
            "_view_module": "@jupyter-widgets/base",
            "_view_module_version": "1.2.0",
            "_view_name": "StyleView",
            "description_width": ""
          }
        },
        "aced163a431b44169b532e57f0ea25c9": {
          "model_module": "@jupyter-widgets/base",
          "model_name": "LayoutModel",
          "model_module_version": "1.2.0",
          "state": {
            "_model_module": "@jupyter-widgets/base",
            "_model_module_version": "1.2.0",
            "_model_name": "LayoutModel",
            "_view_count": null,
            "_view_module": "@jupyter-widgets/base",
            "_view_module_version": "1.2.0",
            "_view_name": "LayoutView",
            "align_content": null,
            "align_items": null,
            "align_self": null,
            "border": null,
            "bottom": null,
            "display": null,
            "flex": null,
            "flex_flow": null,
            "grid_area": null,
            "grid_auto_columns": null,
            "grid_auto_flow": null,
            "grid_auto_rows": null,
            "grid_column": null,
            "grid_gap": null,
            "grid_row": null,
            "grid_template_areas": null,
            "grid_template_columns": null,
            "grid_template_rows": null,
            "height": null,
            "justify_content": null,
            "justify_items": null,
            "left": null,
            "margin": null,
            "max_height": null,
            "max_width": null,
            "min_height": null,
            "min_width": null,
            "object_fit": null,
            "object_position": null,
            "order": null,
            "overflow": null,
            "overflow_x": null,
            "overflow_y": null,
            "padding": null,
            "right": null,
            "top": null,
            "visibility": null,
            "width": null
          }
        },
        "a10f3fa0aa6b48c69c6423c30f05aff9": {
          "model_module": "@jupyter-widgets/controls",
          "model_name": "ProgressStyleModel",
          "model_module_version": "1.5.0",
          "state": {
            "_model_module": "@jupyter-widgets/controls",
            "_model_module_version": "1.5.0",
            "_model_name": "ProgressStyleModel",
            "_view_count": null,
            "_view_module": "@jupyter-widgets/base",
            "_view_module_version": "1.2.0",
            "_view_name": "StyleView",
            "bar_color": null,
            "description_width": ""
          }
        },
        "4064b96943924e1bbd19a7aefff113b4": {
          "model_module": "@jupyter-widgets/base",
          "model_name": "LayoutModel",
          "model_module_version": "1.2.0",
          "state": {
            "_model_module": "@jupyter-widgets/base",
            "_model_module_version": "1.2.0",
            "_model_name": "LayoutModel",
            "_view_count": null,
            "_view_module": "@jupyter-widgets/base",
            "_view_module_version": "1.2.0",
            "_view_name": "LayoutView",
            "align_content": null,
            "align_items": null,
            "align_self": null,
            "border": null,
            "bottom": null,
            "display": null,
            "flex": null,
            "flex_flow": null,
            "grid_area": null,
            "grid_auto_columns": null,
            "grid_auto_flow": null,
            "grid_auto_rows": null,
            "grid_column": null,
            "grid_gap": null,
            "grid_row": null,
            "grid_template_areas": null,
            "grid_template_columns": null,
            "grid_template_rows": null,
            "height": null,
            "justify_content": null,
            "justify_items": null,
            "left": null,
            "margin": null,
            "max_height": null,
            "max_width": null,
            "min_height": null,
            "min_width": null,
            "object_fit": null,
            "object_position": null,
            "order": null,
            "overflow": null,
            "overflow_x": null,
            "overflow_y": null,
            "padding": null,
            "right": null,
            "top": null,
            "visibility": null,
            "width": null
          }
        },
        "960cbfe5099944c7aafebf19464fa501": {
          "model_module": "@jupyter-widgets/controls",
          "model_name": "DescriptionStyleModel",
          "model_module_version": "1.5.0",
          "state": {
            "_model_module": "@jupyter-widgets/controls",
            "_model_module_version": "1.5.0",
            "_model_name": "DescriptionStyleModel",
            "_view_count": null,
            "_view_module": "@jupyter-widgets/base",
            "_view_module_version": "1.2.0",
            "_view_name": "StyleView",
            "description_width": ""
          }
        },
        "20857f747e1e417c813c871be57cc1f3": {
          "model_module": "@jupyter-widgets/controls",
          "model_name": "HBoxModel",
          "model_module_version": "1.5.0",
          "state": {
            "_dom_classes": [],
            "_model_module": "@jupyter-widgets/controls",
            "_model_module_version": "1.5.0",
            "_model_name": "HBoxModel",
            "_view_count": null,
            "_view_module": "@jupyter-widgets/controls",
            "_view_module_version": "1.5.0",
            "_view_name": "HBoxView",
            "box_style": "",
            "children": [
              "IPY_MODEL_db10d3409e9847b396cc0abcd3c21dea",
              "IPY_MODEL_ddd152c2e9c24290931ea7353273dcb7",
              "IPY_MODEL_947fc4297ac94671b4d30fbccd15c067"
            ],
            "layout": "IPY_MODEL_c6d86908d550447e9aba58c08c83e118"
          }
        },
        "db10d3409e9847b396cc0abcd3c21dea": {
          "model_module": "@jupyter-widgets/controls",
          "model_name": "HTMLModel",
          "model_module_version": "1.5.0",
          "state": {
            "_dom_classes": [],
            "_model_module": "@jupyter-widgets/controls",
            "_model_module_version": "1.5.0",
            "_model_name": "HTMLModel",
            "_view_count": null,
            "_view_module": "@jupyter-widgets/controls",
            "_view_module_version": "1.5.0",
            "_view_name": "HTMLView",
            "description": "",
            "description_tooltip": null,
            "layout": "IPY_MODEL_97b97ea6018d4833be4a42e45888aa50",
            "placeholder": "​",
            "style": "IPY_MODEL_96fa1d9620fd47099da2db6991197958",
            "value": "tokenizer.json: 100%"
          }
        },
        "ddd152c2e9c24290931ea7353273dcb7": {
          "model_module": "@jupyter-widgets/controls",
          "model_name": "FloatProgressModel",
          "model_module_version": "1.5.0",
          "state": {
            "_dom_classes": [],
            "_model_module": "@jupyter-widgets/controls",
            "_model_module_version": "1.5.0",
            "_model_name": "FloatProgressModel",
            "_view_count": null,
            "_view_module": "@jupyter-widgets/controls",
            "_view_module_version": "1.5.0",
            "_view_name": "ProgressView",
            "bar_style": "success",
            "description": "",
            "description_tooltip": null,
            "layout": "IPY_MODEL_fc09e5c382844ac9a04459d64720281c",
            "max": 711649,
            "min": 0,
            "orientation": "horizontal",
            "style": "IPY_MODEL_22b21e1bc44746ae8f735c80ae4f4468",
            "value": 711649
          }
        },
        "947fc4297ac94671b4d30fbccd15c067": {
          "model_module": "@jupyter-widgets/controls",
          "model_name": "HTMLModel",
          "model_module_version": "1.5.0",
          "state": {
            "_dom_classes": [],
            "_model_module": "@jupyter-widgets/controls",
            "_model_module_version": "1.5.0",
            "_model_name": "HTMLModel",
            "_view_count": null,
            "_view_module": "@jupyter-widgets/controls",
            "_view_module_version": "1.5.0",
            "_view_name": "HTMLView",
            "description": "",
            "description_tooltip": null,
            "layout": "IPY_MODEL_d403ac112d1e4d5aa7d1071d86ada0b6",
            "placeholder": "​",
            "style": "IPY_MODEL_b905ffeafad946e1805f266e3633816f",
            "value": " 712k/712k [00:00&lt;00:00, 19.6MB/s]"
          }
        },
        "c6d86908d550447e9aba58c08c83e118": {
          "model_module": "@jupyter-widgets/base",
          "model_name": "LayoutModel",
          "model_module_version": "1.2.0",
          "state": {
            "_model_module": "@jupyter-widgets/base",
            "_model_module_version": "1.2.0",
            "_model_name": "LayoutModel",
            "_view_count": null,
            "_view_module": "@jupyter-widgets/base",
            "_view_module_version": "1.2.0",
            "_view_name": "LayoutView",
            "align_content": null,
            "align_items": null,
            "align_self": null,
            "border": null,
            "bottom": null,
            "display": null,
            "flex": null,
            "flex_flow": null,
            "grid_area": null,
            "grid_auto_columns": null,
            "grid_auto_flow": null,
            "grid_auto_rows": null,
            "grid_column": null,
            "grid_gap": null,
            "grid_row": null,
            "grid_template_areas": null,
            "grid_template_columns": null,
            "grid_template_rows": null,
            "height": null,
            "justify_content": null,
            "justify_items": null,
            "left": null,
            "margin": null,
            "max_height": null,
            "max_width": null,
            "min_height": null,
            "min_width": null,
            "object_fit": null,
            "object_position": null,
            "order": null,
            "overflow": null,
            "overflow_x": null,
            "overflow_y": null,
            "padding": null,
            "right": null,
            "top": null,
            "visibility": null,
            "width": null
          }
        },
        "97b97ea6018d4833be4a42e45888aa50": {
          "model_module": "@jupyter-widgets/base",
          "model_name": "LayoutModel",
          "model_module_version": "1.2.0",
          "state": {
            "_model_module": "@jupyter-widgets/base",
            "_model_module_version": "1.2.0",
            "_model_name": "LayoutModel",
            "_view_count": null,
            "_view_module": "@jupyter-widgets/base",
            "_view_module_version": "1.2.0",
            "_view_name": "LayoutView",
            "align_content": null,
            "align_items": null,
            "align_self": null,
            "border": null,
            "bottom": null,
            "display": null,
            "flex": null,
            "flex_flow": null,
            "grid_area": null,
            "grid_auto_columns": null,
            "grid_auto_flow": null,
            "grid_auto_rows": null,
            "grid_column": null,
            "grid_gap": null,
            "grid_row": null,
            "grid_template_areas": null,
            "grid_template_columns": null,
            "grid_template_rows": null,
            "height": null,
            "justify_content": null,
            "justify_items": null,
            "left": null,
            "margin": null,
            "max_height": null,
            "max_width": null,
            "min_height": null,
            "min_width": null,
            "object_fit": null,
            "object_position": null,
            "order": null,
            "overflow": null,
            "overflow_x": null,
            "overflow_y": null,
            "padding": null,
            "right": null,
            "top": null,
            "visibility": null,
            "width": null
          }
        },
        "96fa1d9620fd47099da2db6991197958": {
          "model_module": "@jupyter-widgets/controls",
          "model_name": "DescriptionStyleModel",
          "model_module_version": "1.5.0",
          "state": {
            "_model_module": "@jupyter-widgets/controls",
            "_model_module_version": "1.5.0",
            "_model_name": "DescriptionStyleModel",
            "_view_count": null,
            "_view_module": "@jupyter-widgets/base",
            "_view_module_version": "1.2.0",
            "_view_name": "StyleView",
            "description_width": ""
          }
        },
        "fc09e5c382844ac9a04459d64720281c": {
          "model_module": "@jupyter-widgets/base",
          "model_name": "LayoutModel",
          "model_module_version": "1.2.0",
          "state": {
            "_model_module": "@jupyter-widgets/base",
            "_model_module_version": "1.2.0",
            "_model_name": "LayoutModel",
            "_view_count": null,
            "_view_module": "@jupyter-widgets/base",
            "_view_module_version": "1.2.0",
            "_view_name": "LayoutView",
            "align_content": null,
            "align_items": null,
            "align_self": null,
            "border": null,
            "bottom": null,
            "display": null,
            "flex": null,
            "flex_flow": null,
            "grid_area": null,
            "grid_auto_columns": null,
            "grid_auto_flow": null,
            "grid_auto_rows": null,
            "grid_column": null,
            "grid_gap": null,
            "grid_row": null,
            "grid_template_areas": null,
            "grid_template_columns": null,
            "grid_template_rows": null,
            "height": null,
            "justify_content": null,
            "justify_items": null,
            "left": null,
            "margin": null,
            "max_height": null,
            "max_width": null,
            "min_height": null,
            "min_width": null,
            "object_fit": null,
            "object_position": null,
            "order": null,
            "overflow": null,
            "overflow_x": null,
            "overflow_y": null,
            "padding": null,
            "right": null,
            "top": null,
            "visibility": null,
            "width": null
          }
        },
        "22b21e1bc44746ae8f735c80ae4f4468": {
          "model_module": "@jupyter-widgets/controls",
          "model_name": "ProgressStyleModel",
          "model_module_version": "1.5.0",
          "state": {
            "_model_module": "@jupyter-widgets/controls",
            "_model_module_version": "1.5.0",
            "_model_name": "ProgressStyleModel",
            "_view_count": null,
            "_view_module": "@jupyter-widgets/base",
            "_view_module_version": "1.2.0",
            "_view_name": "StyleView",
            "bar_color": null,
            "description_width": ""
          }
        },
        "d403ac112d1e4d5aa7d1071d86ada0b6": {
          "model_module": "@jupyter-widgets/base",
          "model_name": "LayoutModel",
          "model_module_version": "1.2.0",
          "state": {
            "_model_module": "@jupyter-widgets/base",
            "_model_module_version": "1.2.0",
            "_model_name": "LayoutModel",
            "_view_count": null,
            "_view_module": "@jupyter-widgets/base",
            "_view_module_version": "1.2.0",
            "_view_name": "LayoutView",
            "align_content": null,
            "align_items": null,
            "align_self": null,
            "border": null,
            "bottom": null,
            "display": null,
            "flex": null,
            "flex_flow": null,
            "grid_area": null,
            "grid_auto_columns": null,
            "grid_auto_flow": null,
            "grid_auto_rows": null,
            "grid_column": null,
            "grid_gap": null,
            "grid_row": null,
            "grid_template_areas": null,
            "grid_template_columns": null,
            "grid_template_rows": null,
            "height": null,
            "justify_content": null,
            "justify_items": null,
            "left": null,
            "margin": null,
            "max_height": null,
            "max_width": null,
            "min_height": null,
            "min_width": null,
            "object_fit": null,
            "object_position": null,
            "order": null,
            "overflow": null,
            "overflow_x": null,
            "overflow_y": null,
            "padding": null,
            "right": null,
            "top": null,
            "visibility": null,
            "width": null
          }
        },
        "b905ffeafad946e1805f266e3633816f": {
          "model_module": "@jupyter-widgets/controls",
          "model_name": "DescriptionStyleModel",
          "model_module_version": "1.5.0",
          "state": {
            "_model_module": "@jupyter-widgets/controls",
            "_model_module_version": "1.5.0",
            "_model_name": "DescriptionStyleModel",
            "_view_count": null,
            "_view_module": "@jupyter-widgets/base",
            "_view_module_version": "1.2.0",
            "_view_name": "StyleView",
            "description_width": ""
          }
        },
        "79b564deeac74de2a80a06fb6c34ffc3": {
          "model_module": "@jupyter-widgets/controls",
          "model_name": "HBoxModel",
          "model_module_version": "1.5.0",
          "state": {
            "_dom_classes": [],
            "_model_module": "@jupyter-widgets/controls",
            "_model_module_version": "1.5.0",
            "_model_name": "HBoxModel",
            "_view_count": null,
            "_view_module": "@jupyter-widgets/controls",
            "_view_module_version": "1.5.0",
            "_view_name": "HBoxView",
            "box_style": "",
            "children": [
              "IPY_MODEL_cd4407c3068244f4b5e591ec554aa8eb",
              "IPY_MODEL_8ec5ba3fd3a14b4dbefef71b3ff9e0cd",
              "IPY_MODEL_d8cbbfab827b4175a45d89f1c0451e8e"
            ],
            "layout": "IPY_MODEL_3d5a4f55a8c8492db69d68df57e27323"
          }
        },
        "cd4407c3068244f4b5e591ec554aa8eb": {
          "model_module": "@jupyter-widgets/controls",
          "model_name": "HTMLModel",
          "model_module_version": "1.5.0",
          "state": {
            "_dom_classes": [],
            "_model_module": "@jupyter-widgets/controls",
            "_model_module_version": "1.5.0",
            "_model_name": "HTMLModel",
            "_view_count": null,
            "_view_module": "@jupyter-widgets/controls",
            "_view_module_version": "1.5.0",
            "_view_name": "HTMLView",
            "description": "",
            "description_tooltip": null,
            "layout": "IPY_MODEL_5deb37a3bef7407da0ea2d04b24d007d",
            "placeholder": "​",
            "style": "IPY_MODEL_ff7442e43b7745948bdf0700b8b4e422",
            "value": "special_tokens_map.json: 100%"
          }
        },
        "8ec5ba3fd3a14b4dbefef71b3ff9e0cd": {
          "model_module": "@jupyter-widgets/controls",
          "model_name": "FloatProgressModel",
          "model_module_version": "1.5.0",
          "state": {
            "_dom_classes": [],
            "_model_module": "@jupyter-widgets/controls",
            "_model_module_version": "1.5.0",
            "_model_name": "FloatProgressModel",
            "_view_count": null,
            "_view_module": "@jupyter-widgets/controls",
            "_view_module_version": "1.5.0",
            "_view_name": "ProgressView",
            "bar_style": "success",
            "description": "",
            "description_tooltip": null,
            "layout": "IPY_MODEL_45688185dd934ed6836d7ed09a025df6",
            "max": 125,
            "min": 0,
            "orientation": "horizontal",
            "style": "IPY_MODEL_a9af56628f6d440d9bfd123a0b1cc3f3",
            "value": 125
          }
        },
        "d8cbbfab827b4175a45d89f1c0451e8e": {
          "model_module": "@jupyter-widgets/controls",
          "model_name": "HTMLModel",
          "model_module_version": "1.5.0",
          "state": {
            "_dom_classes": [],
            "_model_module": "@jupyter-widgets/controls",
            "_model_module_version": "1.5.0",
            "_model_name": "HTMLModel",
            "_view_count": null,
            "_view_module": "@jupyter-widgets/controls",
            "_view_module_version": "1.5.0",
            "_view_name": "HTMLView",
            "description": "",
            "description_tooltip": null,
            "layout": "IPY_MODEL_5004ffd1f3ca4f3f9f39f4426aa987c1",
            "placeholder": "​",
            "style": "IPY_MODEL_756fe5809c8540f4a87702f9290e8cb5",
            "value": " 125/125 [00:00&lt;00:00, 7.96kB/s]"
          }
        },
        "3d5a4f55a8c8492db69d68df57e27323": {
          "model_module": "@jupyter-widgets/base",
          "model_name": "LayoutModel",
          "model_module_version": "1.2.0",
          "state": {
            "_model_module": "@jupyter-widgets/base",
            "_model_module_version": "1.2.0",
            "_model_name": "LayoutModel",
            "_view_count": null,
            "_view_module": "@jupyter-widgets/base",
            "_view_module_version": "1.2.0",
            "_view_name": "LayoutView",
            "align_content": null,
            "align_items": null,
            "align_self": null,
            "border": null,
            "bottom": null,
            "display": null,
            "flex": null,
            "flex_flow": null,
            "grid_area": null,
            "grid_auto_columns": null,
            "grid_auto_flow": null,
            "grid_auto_rows": null,
            "grid_column": null,
            "grid_gap": null,
            "grid_row": null,
            "grid_template_areas": null,
            "grid_template_columns": null,
            "grid_template_rows": null,
            "height": null,
            "justify_content": null,
            "justify_items": null,
            "left": null,
            "margin": null,
            "max_height": null,
            "max_width": null,
            "min_height": null,
            "min_width": null,
            "object_fit": null,
            "object_position": null,
            "order": null,
            "overflow": null,
            "overflow_x": null,
            "overflow_y": null,
            "padding": null,
            "right": null,
            "top": null,
            "visibility": null,
            "width": null
          }
        },
        "5deb37a3bef7407da0ea2d04b24d007d": {
          "model_module": "@jupyter-widgets/base",
          "model_name": "LayoutModel",
          "model_module_version": "1.2.0",
          "state": {
            "_model_module": "@jupyter-widgets/base",
            "_model_module_version": "1.2.0",
            "_model_name": "LayoutModel",
            "_view_count": null,
            "_view_module": "@jupyter-widgets/base",
            "_view_module_version": "1.2.0",
            "_view_name": "LayoutView",
            "align_content": null,
            "align_items": null,
            "align_self": null,
            "border": null,
            "bottom": null,
            "display": null,
            "flex": null,
            "flex_flow": null,
            "grid_area": null,
            "grid_auto_columns": null,
            "grid_auto_flow": null,
            "grid_auto_rows": null,
            "grid_column": null,
            "grid_gap": null,
            "grid_row": null,
            "grid_template_areas": null,
            "grid_template_columns": null,
            "grid_template_rows": null,
            "height": null,
            "justify_content": null,
            "justify_items": null,
            "left": null,
            "margin": null,
            "max_height": null,
            "max_width": null,
            "min_height": null,
            "min_width": null,
            "object_fit": null,
            "object_position": null,
            "order": null,
            "overflow": null,
            "overflow_x": null,
            "overflow_y": null,
            "padding": null,
            "right": null,
            "top": null,
            "visibility": null,
            "width": null
          }
        },
        "ff7442e43b7745948bdf0700b8b4e422": {
          "model_module": "@jupyter-widgets/controls",
          "model_name": "DescriptionStyleModel",
          "model_module_version": "1.5.0",
          "state": {
            "_model_module": "@jupyter-widgets/controls",
            "_model_module_version": "1.5.0",
            "_model_name": "DescriptionStyleModel",
            "_view_count": null,
            "_view_module": "@jupyter-widgets/base",
            "_view_module_version": "1.2.0",
            "_view_name": "StyleView",
            "description_width": ""
          }
        },
        "45688185dd934ed6836d7ed09a025df6": {
          "model_module": "@jupyter-widgets/base",
          "model_name": "LayoutModel",
          "model_module_version": "1.2.0",
          "state": {
            "_model_module": "@jupyter-widgets/base",
            "_model_module_version": "1.2.0",
            "_model_name": "LayoutModel",
            "_view_count": null,
            "_view_module": "@jupyter-widgets/base",
            "_view_module_version": "1.2.0",
            "_view_name": "LayoutView",
            "align_content": null,
            "align_items": null,
            "align_self": null,
            "border": null,
            "bottom": null,
            "display": null,
            "flex": null,
            "flex_flow": null,
            "grid_area": null,
            "grid_auto_columns": null,
            "grid_auto_flow": null,
            "grid_auto_rows": null,
            "grid_column": null,
            "grid_gap": null,
            "grid_row": null,
            "grid_template_areas": null,
            "grid_template_columns": null,
            "grid_template_rows": null,
            "height": null,
            "justify_content": null,
            "justify_items": null,
            "left": null,
            "margin": null,
            "max_height": null,
            "max_width": null,
            "min_height": null,
            "min_width": null,
            "object_fit": null,
            "object_position": null,
            "order": null,
            "overflow": null,
            "overflow_x": null,
            "overflow_y": null,
            "padding": null,
            "right": null,
            "top": null,
            "visibility": null,
            "width": null
          }
        },
        "a9af56628f6d440d9bfd123a0b1cc3f3": {
          "model_module": "@jupyter-widgets/controls",
          "model_name": "ProgressStyleModel",
          "model_module_version": "1.5.0",
          "state": {
            "_model_module": "@jupyter-widgets/controls",
            "_model_module_version": "1.5.0",
            "_model_name": "ProgressStyleModel",
            "_view_count": null,
            "_view_module": "@jupyter-widgets/base",
            "_view_module_version": "1.2.0",
            "_view_name": "StyleView",
            "bar_color": null,
            "description_width": ""
          }
        },
        "5004ffd1f3ca4f3f9f39f4426aa987c1": {
          "model_module": "@jupyter-widgets/base",
          "model_name": "LayoutModel",
          "model_module_version": "1.2.0",
          "state": {
            "_model_module": "@jupyter-widgets/base",
            "_model_module_version": "1.2.0",
            "_model_name": "LayoutModel",
            "_view_count": null,
            "_view_module": "@jupyter-widgets/base",
            "_view_module_version": "1.2.0",
            "_view_name": "LayoutView",
            "align_content": null,
            "align_items": null,
            "align_self": null,
            "border": null,
            "bottom": null,
            "display": null,
            "flex": null,
            "flex_flow": null,
            "grid_area": null,
            "grid_auto_columns": null,
            "grid_auto_flow": null,
            "grid_auto_rows": null,
            "grid_column": null,
            "grid_gap": null,
            "grid_row": null,
            "grid_template_areas": null,
            "grid_template_columns": null,
            "grid_template_rows": null,
            "height": null,
            "justify_content": null,
            "justify_items": null,
            "left": null,
            "margin": null,
            "max_height": null,
            "max_width": null,
            "min_height": null,
            "min_width": null,
            "object_fit": null,
            "object_position": null,
            "order": null,
            "overflow": null,
            "overflow_x": null,
            "overflow_y": null,
            "padding": null,
            "right": null,
            "top": null,
            "visibility": null,
            "width": null
          }
        },
        "756fe5809c8540f4a87702f9290e8cb5": {
          "model_module": "@jupyter-widgets/controls",
          "model_name": "DescriptionStyleModel",
          "model_module_version": "1.5.0",
          "state": {
            "_model_module": "@jupyter-widgets/controls",
            "_model_module_version": "1.5.0",
            "_model_name": "DescriptionStyleModel",
            "_view_count": null,
            "_view_module": "@jupyter-widgets/base",
            "_view_module_version": "1.2.0",
            "_view_name": "StyleView",
            "description_width": ""
          }
        },
        "95e58581c4944319821720c7701a9adc": {
          "model_module": "@jupyter-widgets/controls",
          "model_name": "HBoxModel",
          "model_module_version": "1.5.0",
          "state": {
            "_dom_classes": [],
            "_model_module": "@jupyter-widgets/controls",
            "_model_module_version": "1.5.0",
            "_model_name": "HBoxModel",
            "_view_count": null,
            "_view_module": "@jupyter-widgets/controls",
            "_view_module_version": "1.5.0",
            "_view_name": "HBoxView",
            "box_style": "",
            "children": [
              "IPY_MODEL_56af6a121c564ba8b8bb787c2c46cf7d",
              "IPY_MODEL_9888dc316e8042f58cb80da22231db0e",
              "IPY_MODEL_440c8a0f4aea45de8e7b09e1d1f8bd92"
            ],
            "layout": "IPY_MODEL_49299e01e9294c7cbdc3f29b6fec156f"
          }
        },
        "56af6a121c564ba8b8bb787c2c46cf7d": {
          "model_module": "@jupyter-widgets/controls",
          "model_name": "HTMLModel",
          "model_module_version": "1.5.0",
          "state": {
            "_dom_classes": [],
            "_model_module": "@jupyter-widgets/controls",
            "_model_module_version": "1.5.0",
            "_model_name": "HTMLModel",
            "_view_count": null,
            "_view_module": "@jupyter-widgets/controls",
            "_view_module_version": "1.5.0",
            "_view_name": "HTMLView",
            "description": "",
            "description_tooltip": null,
            "layout": "IPY_MODEL_50587be736e94aa4844ccd8a071b86c1",
            "placeholder": "​",
            "style": "IPY_MODEL_3b1a6bc735084c45972c57884e02ab08",
            "value": "Map: 100%"
          }
        },
        "9888dc316e8042f58cb80da22231db0e": {
          "model_module": "@jupyter-widgets/controls",
          "model_name": "FloatProgressModel",
          "model_module_version": "1.5.0",
          "state": {
            "_dom_classes": [],
            "_model_module": "@jupyter-widgets/controls",
            "_model_module_version": "1.5.0",
            "_model_name": "FloatProgressModel",
            "_view_count": null,
            "_view_module": "@jupyter-widgets/controls",
            "_view_module_version": "1.5.0",
            "_view_name": "ProgressView",
            "bar_style": "success",
            "description": "",
            "description_tooltip": null,
            "layout": "IPY_MODEL_bd94354995884e2cbd89124d53945642",
            "max": 461,
            "min": 0,
            "orientation": "horizontal",
            "style": "IPY_MODEL_023ac30d4a024c55bc482efbf210605d",
            "value": 461
          }
        },
        "440c8a0f4aea45de8e7b09e1d1f8bd92": {
          "model_module": "@jupyter-widgets/controls",
          "model_name": "HTMLModel",
          "model_module_version": "1.5.0",
          "state": {
            "_dom_classes": [],
            "_model_module": "@jupyter-widgets/controls",
            "_model_module_version": "1.5.0",
            "_model_name": "HTMLModel",
            "_view_count": null,
            "_view_module": "@jupyter-widgets/controls",
            "_view_module_version": "1.5.0",
            "_view_name": "HTMLView",
            "description": "",
            "description_tooltip": null,
            "layout": "IPY_MODEL_a7273bc19ee04272bcd05bb0b165e521",
            "placeholder": "​",
            "style": "IPY_MODEL_2d56a150d1b04aad9f0bd78765abec93",
            "value": " 461/461 [00:01&lt;00:00, 312.68 examples/s]"
          }
        },
        "49299e01e9294c7cbdc3f29b6fec156f": {
          "model_module": "@jupyter-widgets/base",
          "model_name": "LayoutModel",
          "model_module_version": "1.2.0",
          "state": {
            "_model_module": "@jupyter-widgets/base",
            "_model_module_version": "1.2.0",
            "_model_name": "LayoutModel",
            "_view_count": null,
            "_view_module": "@jupyter-widgets/base",
            "_view_module_version": "1.2.0",
            "_view_name": "LayoutView",
            "align_content": null,
            "align_items": null,
            "align_self": null,
            "border": null,
            "bottom": null,
            "display": null,
            "flex": null,
            "flex_flow": null,
            "grid_area": null,
            "grid_auto_columns": null,
            "grid_auto_flow": null,
            "grid_auto_rows": null,
            "grid_column": null,
            "grid_gap": null,
            "grid_row": null,
            "grid_template_areas": null,
            "grid_template_columns": null,
            "grid_template_rows": null,
            "height": null,
            "justify_content": null,
            "justify_items": null,
            "left": null,
            "margin": null,
            "max_height": null,
            "max_width": null,
            "min_height": null,
            "min_width": null,
            "object_fit": null,
            "object_position": null,
            "order": null,
            "overflow": null,
            "overflow_x": null,
            "overflow_y": null,
            "padding": null,
            "right": null,
            "top": null,
            "visibility": null,
            "width": null
          }
        },
        "50587be736e94aa4844ccd8a071b86c1": {
          "model_module": "@jupyter-widgets/base",
          "model_name": "LayoutModel",
          "model_module_version": "1.2.0",
          "state": {
            "_model_module": "@jupyter-widgets/base",
            "_model_module_version": "1.2.0",
            "_model_name": "LayoutModel",
            "_view_count": null,
            "_view_module": "@jupyter-widgets/base",
            "_view_module_version": "1.2.0",
            "_view_name": "LayoutView",
            "align_content": null,
            "align_items": null,
            "align_self": null,
            "border": null,
            "bottom": null,
            "display": null,
            "flex": null,
            "flex_flow": null,
            "grid_area": null,
            "grid_auto_columns": null,
            "grid_auto_flow": null,
            "grid_auto_rows": null,
            "grid_column": null,
            "grid_gap": null,
            "grid_row": null,
            "grid_template_areas": null,
            "grid_template_columns": null,
            "grid_template_rows": null,
            "height": null,
            "justify_content": null,
            "justify_items": null,
            "left": null,
            "margin": null,
            "max_height": null,
            "max_width": null,
            "min_height": null,
            "min_width": null,
            "object_fit": null,
            "object_position": null,
            "order": null,
            "overflow": null,
            "overflow_x": null,
            "overflow_y": null,
            "padding": null,
            "right": null,
            "top": null,
            "visibility": null,
            "width": null
          }
        },
        "3b1a6bc735084c45972c57884e02ab08": {
          "model_module": "@jupyter-widgets/controls",
          "model_name": "DescriptionStyleModel",
          "model_module_version": "1.5.0",
          "state": {
            "_model_module": "@jupyter-widgets/controls",
            "_model_module_version": "1.5.0",
            "_model_name": "DescriptionStyleModel",
            "_view_count": null,
            "_view_module": "@jupyter-widgets/base",
            "_view_module_version": "1.2.0",
            "_view_name": "StyleView",
            "description_width": ""
          }
        },
        "bd94354995884e2cbd89124d53945642": {
          "model_module": "@jupyter-widgets/base",
          "model_name": "LayoutModel",
          "model_module_version": "1.2.0",
          "state": {
            "_model_module": "@jupyter-widgets/base",
            "_model_module_version": "1.2.0",
            "_model_name": "LayoutModel",
            "_view_count": null,
            "_view_module": "@jupyter-widgets/base",
            "_view_module_version": "1.2.0",
            "_view_name": "LayoutView",
            "align_content": null,
            "align_items": null,
            "align_self": null,
            "border": null,
            "bottom": null,
            "display": null,
            "flex": null,
            "flex_flow": null,
            "grid_area": null,
            "grid_auto_columns": null,
            "grid_auto_flow": null,
            "grid_auto_rows": null,
            "grid_column": null,
            "grid_gap": null,
            "grid_row": null,
            "grid_template_areas": null,
            "grid_template_columns": null,
            "grid_template_rows": null,
            "height": null,
            "justify_content": null,
            "justify_items": null,
            "left": null,
            "margin": null,
            "max_height": null,
            "max_width": null,
            "min_height": null,
            "min_width": null,
            "object_fit": null,
            "object_position": null,
            "order": null,
            "overflow": null,
            "overflow_x": null,
            "overflow_y": null,
            "padding": null,
            "right": null,
            "top": null,
            "visibility": null,
            "width": null
          }
        },
        "023ac30d4a024c55bc482efbf210605d": {
          "model_module": "@jupyter-widgets/controls",
          "model_name": "ProgressStyleModel",
          "model_module_version": "1.5.0",
          "state": {
            "_model_module": "@jupyter-widgets/controls",
            "_model_module_version": "1.5.0",
            "_model_name": "ProgressStyleModel",
            "_view_count": null,
            "_view_module": "@jupyter-widgets/base",
            "_view_module_version": "1.2.0",
            "_view_name": "StyleView",
            "bar_color": null,
            "description_width": ""
          }
        },
        "a7273bc19ee04272bcd05bb0b165e521": {
          "model_module": "@jupyter-widgets/base",
          "model_name": "LayoutModel",
          "model_module_version": "1.2.0",
          "state": {
            "_model_module": "@jupyter-widgets/base",
            "_model_module_version": "1.2.0",
            "_model_name": "LayoutModel",
            "_view_count": null,
            "_view_module": "@jupyter-widgets/base",
            "_view_module_version": "1.2.0",
            "_view_name": "LayoutView",
            "align_content": null,
            "align_items": null,
            "align_self": null,
            "border": null,
            "bottom": null,
            "display": null,
            "flex": null,
            "flex_flow": null,
            "grid_area": null,
            "grid_auto_columns": null,
            "grid_auto_flow": null,
            "grid_auto_rows": null,
            "grid_column": null,
            "grid_gap": null,
            "grid_row": null,
            "grid_template_areas": null,
            "grid_template_columns": null,
            "grid_template_rows": null,
            "height": null,
            "justify_content": null,
            "justify_items": null,
            "left": null,
            "margin": null,
            "max_height": null,
            "max_width": null,
            "min_height": null,
            "min_width": null,
            "object_fit": null,
            "object_position": null,
            "order": null,
            "overflow": null,
            "overflow_x": null,
            "overflow_y": null,
            "padding": null,
            "right": null,
            "top": null,
            "visibility": null,
            "width": null
          }
        },
        "2d56a150d1b04aad9f0bd78765abec93": {
          "model_module": "@jupyter-widgets/controls",
          "model_name": "DescriptionStyleModel",
          "model_module_version": "1.5.0",
          "state": {
            "_model_module": "@jupyter-widgets/controls",
            "_model_module_version": "1.5.0",
            "_model_name": "DescriptionStyleModel",
            "_view_count": null,
            "_view_module": "@jupyter-widgets/base",
            "_view_module_version": "1.2.0",
            "_view_name": "StyleView",
            "description_width": ""
          }
        },
        "e28986218d9546c1946e9bf500e0390c": {
          "model_module": "@jupyter-widgets/controls",
          "model_name": "HBoxModel",
          "model_module_version": "1.5.0",
          "state": {
            "_dom_classes": [],
            "_model_module": "@jupyter-widgets/controls",
            "_model_module_version": "1.5.0",
            "_model_name": "HBoxModel",
            "_view_count": null,
            "_view_module": "@jupyter-widgets/controls",
            "_view_module_version": "1.5.0",
            "_view_name": "HBoxView",
            "box_style": "",
            "children": [
              "IPY_MODEL_a92454f9271942439a8eef3a5ef8d10e",
              "IPY_MODEL_5608cfb954fe4462bd0ba7faa1024cb2",
              "IPY_MODEL_2ed91f8eb6184b9b81daadccd626c59d"
            ],
            "layout": "IPY_MODEL_7020ac203c9a474a853ac2e3f0f5a9cc"
          }
        },
        "a92454f9271942439a8eef3a5ef8d10e": {
          "model_module": "@jupyter-widgets/controls",
          "model_name": "HTMLModel",
          "model_module_version": "1.5.0",
          "state": {
            "_dom_classes": [],
            "_model_module": "@jupyter-widgets/controls",
            "_model_module_version": "1.5.0",
            "_model_name": "HTMLModel",
            "_view_count": null,
            "_view_module": "@jupyter-widgets/controls",
            "_view_module_version": "1.5.0",
            "_view_name": "HTMLView",
            "description": "",
            "description_tooltip": null,
            "layout": "IPY_MODEL_5a8a0bac258d4b9b89ec3780e5cb8702",
            "placeholder": "​",
            "style": "IPY_MODEL_144af221d660431f966750602f1e7f2f",
            "value": "Map: 100%"
          }
        },
        "5608cfb954fe4462bd0ba7faa1024cb2": {
          "model_module": "@jupyter-widgets/controls",
          "model_name": "FloatProgressModel",
          "model_module_version": "1.5.0",
          "state": {
            "_dom_classes": [],
            "_model_module": "@jupyter-widgets/controls",
            "_model_module_version": "1.5.0",
            "_model_name": "FloatProgressModel",
            "_view_count": null,
            "_view_module": "@jupyter-widgets/controls",
            "_view_module_version": "1.5.0",
            "_view_name": "ProgressView",
            "bar_style": "success",
            "description": "",
            "description_tooltip": null,
            "layout": "IPY_MODEL_eb5233a2243e494a8e81f395738187ca",
            "max": 199,
            "min": 0,
            "orientation": "horizontal",
            "style": "IPY_MODEL_d916606e6a51434ea54b89d54e9eae69",
            "value": 199
          }
        },
        "2ed91f8eb6184b9b81daadccd626c59d": {
          "model_module": "@jupyter-widgets/controls",
          "model_name": "HTMLModel",
          "model_module_version": "1.5.0",
          "state": {
            "_dom_classes": [],
            "_model_module": "@jupyter-widgets/controls",
            "_model_module_version": "1.5.0",
            "_model_name": "HTMLModel",
            "_view_count": null,
            "_view_module": "@jupyter-widgets/controls",
            "_view_module_version": "1.5.0",
            "_view_name": "HTMLView",
            "description": "",
            "description_tooltip": null,
            "layout": "IPY_MODEL_1f10569551064344bf75371cd25113d4",
            "placeholder": "​",
            "style": "IPY_MODEL_4d91ba81e5cc43eca12fb4a2cc6d72c7",
            "value": " 199/199 [00:00&lt;00:00, 320.18 examples/s]"
          }
        },
        "7020ac203c9a474a853ac2e3f0f5a9cc": {
          "model_module": "@jupyter-widgets/base",
          "model_name": "LayoutModel",
          "model_module_version": "1.2.0",
          "state": {
            "_model_module": "@jupyter-widgets/base",
            "_model_module_version": "1.2.0",
            "_model_name": "LayoutModel",
            "_view_count": null,
            "_view_module": "@jupyter-widgets/base",
            "_view_module_version": "1.2.0",
            "_view_name": "LayoutView",
            "align_content": null,
            "align_items": null,
            "align_self": null,
            "border": null,
            "bottom": null,
            "display": null,
            "flex": null,
            "flex_flow": null,
            "grid_area": null,
            "grid_auto_columns": null,
            "grid_auto_flow": null,
            "grid_auto_rows": null,
            "grid_column": null,
            "grid_gap": null,
            "grid_row": null,
            "grid_template_areas": null,
            "grid_template_columns": null,
            "grid_template_rows": null,
            "height": null,
            "justify_content": null,
            "justify_items": null,
            "left": null,
            "margin": null,
            "max_height": null,
            "max_width": null,
            "min_height": null,
            "min_width": null,
            "object_fit": null,
            "object_position": null,
            "order": null,
            "overflow": null,
            "overflow_x": null,
            "overflow_y": null,
            "padding": null,
            "right": null,
            "top": null,
            "visibility": null,
            "width": null
          }
        },
        "5a8a0bac258d4b9b89ec3780e5cb8702": {
          "model_module": "@jupyter-widgets/base",
          "model_name": "LayoutModel",
          "model_module_version": "1.2.0",
          "state": {
            "_model_module": "@jupyter-widgets/base",
            "_model_module_version": "1.2.0",
            "_model_name": "LayoutModel",
            "_view_count": null,
            "_view_module": "@jupyter-widgets/base",
            "_view_module_version": "1.2.0",
            "_view_name": "LayoutView",
            "align_content": null,
            "align_items": null,
            "align_self": null,
            "border": null,
            "bottom": null,
            "display": null,
            "flex": null,
            "flex_flow": null,
            "grid_area": null,
            "grid_auto_columns": null,
            "grid_auto_flow": null,
            "grid_auto_rows": null,
            "grid_column": null,
            "grid_gap": null,
            "grid_row": null,
            "grid_template_areas": null,
            "grid_template_columns": null,
            "grid_template_rows": null,
            "height": null,
            "justify_content": null,
            "justify_items": null,
            "left": null,
            "margin": null,
            "max_height": null,
            "max_width": null,
            "min_height": null,
            "min_width": null,
            "object_fit": null,
            "object_position": null,
            "order": null,
            "overflow": null,
            "overflow_x": null,
            "overflow_y": null,
            "padding": null,
            "right": null,
            "top": null,
            "visibility": null,
            "width": null
          }
        },
        "144af221d660431f966750602f1e7f2f": {
          "model_module": "@jupyter-widgets/controls",
          "model_name": "DescriptionStyleModel",
          "model_module_version": "1.5.0",
          "state": {
            "_model_module": "@jupyter-widgets/controls",
            "_model_module_version": "1.5.0",
            "_model_name": "DescriptionStyleModel",
            "_view_count": null,
            "_view_module": "@jupyter-widgets/base",
            "_view_module_version": "1.2.0",
            "_view_name": "StyleView",
            "description_width": ""
          }
        },
        "eb5233a2243e494a8e81f395738187ca": {
          "model_module": "@jupyter-widgets/base",
          "model_name": "LayoutModel",
          "model_module_version": "1.2.0",
          "state": {
            "_model_module": "@jupyter-widgets/base",
            "_model_module_version": "1.2.0",
            "_model_name": "LayoutModel",
            "_view_count": null,
            "_view_module": "@jupyter-widgets/base",
            "_view_module_version": "1.2.0",
            "_view_name": "LayoutView",
            "align_content": null,
            "align_items": null,
            "align_self": null,
            "border": null,
            "bottom": null,
            "display": null,
            "flex": null,
            "flex_flow": null,
            "grid_area": null,
            "grid_auto_columns": null,
            "grid_auto_flow": null,
            "grid_auto_rows": null,
            "grid_column": null,
            "grid_gap": null,
            "grid_row": null,
            "grid_template_areas": null,
            "grid_template_columns": null,
            "grid_template_rows": null,
            "height": null,
            "justify_content": null,
            "justify_items": null,
            "left": null,
            "margin": null,
            "max_height": null,
            "max_width": null,
            "min_height": null,
            "min_width": null,
            "object_fit": null,
            "object_position": null,
            "order": null,
            "overflow": null,
            "overflow_x": null,
            "overflow_y": null,
            "padding": null,
            "right": null,
            "top": null,
            "visibility": null,
            "width": null
          }
        },
        "d916606e6a51434ea54b89d54e9eae69": {
          "model_module": "@jupyter-widgets/controls",
          "model_name": "ProgressStyleModel",
          "model_module_version": "1.5.0",
          "state": {
            "_model_module": "@jupyter-widgets/controls",
            "_model_module_version": "1.5.0",
            "_model_name": "ProgressStyleModel",
            "_view_count": null,
            "_view_module": "@jupyter-widgets/base",
            "_view_module_version": "1.2.0",
            "_view_name": "StyleView",
            "bar_color": null,
            "description_width": ""
          }
        },
        "1f10569551064344bf75371cd25113d4": {
          "model_module": "@jupyter-widgets/base",
          "model_name": "LayoutModel",
          "model_module_version": "1.2.0",
          "state": {
            "_model_module": "@jupyter-widgets/base",
            "_model_module_version": "1.2.0",
            "_model_name": "LayoutModel",
            "_view_count": null,
            "_view_module": "@jupyter-widgets/base",
            "_view_module_version": "1.2.0",
            "_view_name": "LayoutView",
            "align_content": null,
            "align_items": null,
            "align_self": null,
            "border": null,
            "bottom": null,
            "display": null,
            "flex": null,
            "flex_flow": null,
            "grid_area": null,
            "grid_auto_columns": null,
            "grid_auto_flow": null,
            "grid_auto_rows": null,
            "grid_column": null,
            "grid_gap": null,
            "grid_row": null,
            "grid_template_areas": null,
            "grid_template_columns": null,
            "grid_template_rows": null,
            "height": null,
            "justify_content": null,
            "justify_items": null,
            "left": null,
            "margin": null,
            "max_height": null,
            "max_width": null,
            "min_height": null,
            "min_width": null,
            "object_fit": null,
            "object_position": null,
            "order": null,
            "overflow": null,
            "overflow_x": null,
            "overflow_y": null,
            "padding": null,
            "right": null,
            "top": null,
            "visibility": null,
            "width": null
          }
        },
        "4d91ba81e5cc43eca12fb4a2cc6d72c7": {
          "model_module": "@jupyter-widgets/controls",
          "model_name": "DescriptionStyleModel",
          "model_module_version": "1.5.0",
          "state": {
            "_model_module": "@jupyter-widgets/controls",
            "_model_module_version": "1.5.0",
            "_model_name": "DescriptionStyleModel",
            "_view_count": null,
            "_view_module": "@jupyter-widgets/base",
            "_view_module_version": "1.2.0",
            "_view_name": "StyleView",
            "description_width": ""
          }
        },
        "e87b2b2214ec4b2f8e17a87557853965": {
          "model_module": "@jupyter-widgets/controls",
          "model_name": "HBoxModel",
          "model_module_version": "1.5.0",
          "state": {
            "_dom_classes": [],
            "_model_module": "@jupyter-widgets/controls",
            "_model_module_version": "1.5.0",
            "_model_name": "HBoxModel",
            "_view_count": null,
            "_view_module": "@jupyter-widgets/controls",
            "_view_module_version": "1.5.0",
            "_view_name": "HBoxView",
            "box_style": "",
            "children": [
              "IPY_MODEL_ec4c28a74f2b401dacd7c3da00cead5b",
              "IPY_MODEL_22ce3f6da4a5471c9015ef82e8a15f27",
              "IPY_MODEL_67335fd2d23e4a5593b4839ca65581a6"
            ],
            "layout": "IPY_MODEL_17de38b45de74d109eeac5cf84c03043"
          }
        },
        "ec4c28a74f2b401dacd7c3da00cead5b": {
          "model_module": "@jupyter-widgets/controls",
          "model_name": "HTMLModel",
          "model_module_version": "1.5.0",
          "state": {
            "_dom_classes": [],
            "_model_module": "@jupyter-widgets/controls",
            "_model_module_version": "1.5.0",
            "_model_name": "HTMLModel",
            "_view_count": null,
            "_view_module": "@jupyter-widgets/controls",
            "_view_module_version": "1.5.0",
            "_view_name": "HTMLView",
            "description": "",
            "description_tooltip": null,
            "layout": "IPY_MODEL_febd8b3c122a4c4186095637dd297706",
            "placeholder": "​",
            "style": "IPY_MODEL_604de7310fdd4dbeb6c45d9702a68dd4",
            "value": "config.json: 100%"
          }
        },
        "22ce3f6da4a5471c9015ef82e8a15f27": {
          "model_module": "@jupyter-widgets/controls",
          "model_name": "FloatProgressModel",
          "model_module_version": "1.5.0",
          "state": {
            "_dom_classes": [],
            "_model_module": "@jupyter-widgets/controls",
            "_model_module_version": "1.5.0",
            "_model_name": "FloatProgressModel",
            "_view_count": null,
            "_view_module": "@jupyter-widgets/controls",
            "_view_module_version": "1.5.0",
            "_view_name": "ProgressView",
            "bar_style": "success",
            "description": "",
            "description_tooltip": null,
            "layout": "IPY_MODEL_ed611b3c3fd04ea49c959d25535fcde6",
            "max": 731,
            "min": 0,
            "orientation": "horizontal",
            "style": "IPY_MODEL_886e3e1620cd49cea1b16d3319de8ec9",
            "value": 731
          }
        },
        "67335fd2d23e4a5593b4839ca65581a6": {
          "model_module": "@jupyter-widgets/controls",
          "model_name": "HTMLModel",
          "model_module_version": "1.5.0",
          "state": {
            "_dom_classes": [],
            "_model_module": "@jupyter-widgets/controls",
            "_model_module_version": "1.5.0",
            "_model_name": "HTMLModel",
            "_view_count": null,
            "_view_module": "@jupyter-widgets/controls",
            "_view_module_version": "1.5.0",
            "_view_name": "HTMLView",
            "description": "",
            "description_tooltip": null,
            "layout": "IPY_MODEL_c316ddc62a814818aa4ec84028abf655",
            "placeholder": "​",
            "style": "IPY_MODEL_87604e84fa9946158ce6b67fcc1cb73b",
            "value": " 731/731 [00:00&lt;00:00, 48.4kB/s]"
          }
        },
        "17de38b45de74d109eeac5cf84c03043": {
          "model_module": "@jupyter-widgets/base",
          "model_name": "LayoutModel",
          "model_module_version": "1.2.0",
          "state": {
            "_model_module": "@jupyter-widgets/base",
            "_model_module_version": "1.2.0",
            "_model_name": "LayoutModel",
            "_view_count": null,
            "_view_module": "@jupyter-widgets/base",
            "_view_module_version": "1.2.0",
            "_view_name": "LayoutView",
            "align_content": null,
            "align_items": null,
            "align_self": null,
            "border": null,
            "bottom": null,
            "display": null,
            "flex": null,
            "flex_flow": null,
            "grid_area": null,
            "grid_auto_columns": null,
            "grid_auto_flow": null,
            "grid_auto_rows": null,
            "grid_column": null,
            "grid_gap": null,
            "grid_row": null,
            "grid_template_areas": null,
            "grid_template_columns": null,
            "grid_template_rows": null,
            "height": null,
            "justify_content": null,
            "justify_items": null,
            "left": null,
            "margin": null,
            "max_height": null,
            "max_width": null,
            "min_height": null,
            "min_width": null,
            "object_fit": null,
            "object_position": null,
            "order": null,
            "overflow": null,
            "overflow_x": null,
            "overflow_y": null,
            "padding": null,
            "right": null,
            "top": null,
            "visibility": null,
            "width": null
          }
        },
        "febd8b3c122a4c4186095637dd297706": {
          "model_module": "@jupyter-widgets/base",
          "model_name": "LayoutModel",
          "model_module_version": "1.2.0",
          "state": {
            "_model_module": "@jupyter-widgets/base",
            "_model_module_version": "1.2.0",
            "_model_name": "LayoutModel",
            "_view_count": null,
            "_view_module": "@jupyter-widgets/base",
            "_view_module_version": "1.2.0",
            "_view_name": "LayoutView",
            "align_content": null,
            "align_items": null,
            "align_self": null,
            "border": null,
            "bottom": null,
            "display": null,
            "flex": null,
            "flex_flow": null,
            "grid_area": null,
            "grid_auto_columns": null,
            "grid_auto_flow": null,
            "grid_auto_rows": null,
            "grid_column": null,
            "grid_gap": null,
            "grid_row": null,
            "grid_template_areas": null,
            "grid_template_columns": null,
            "grid_template_rows": null,
            "height": null,
            "justify_content": null,
            "justify_items": null,
            "left": null,
            "margin": null,
            "max_height": null,
            "max_width": null,
            "min_height": null,
            "min_width": null,
            "object_fit": null,
            "object_position": null,
            "order": null,
            "overflow": null,
            "overflow_x": null,
            "overflow_y": null,
            "padding": null,
            "right": null,
            "top": null,
            "visibility": null,
            "width": null
          }
        },
        "604de7310fdd4dbeb6c45d9702a68dd4": {
          "model_module": "@jupyter-widgets/controls",
          "model_name": "DescriptionStyleModel",
          "model_module_version": "1.5.0",
          "state": {
            "_model_module": "@jupyter-widgets/controls",
            "_model_module_version": "1.5.0",
            "_model_name": "DescriptionStyleModel",
            "_view_count": null,
            "_view_module": "@jupyter-widgets/base",
            "_view_module_version": "1.2.0",
            "_view_name": "StyleView",
            "description_width": ""
          }
        },
        "ed611b3c3fd04ea49c959d25535fcde6": {
          "model_module": "@jupyter-widgets/base",
          "model_name": "LayoutModel",
          "model_module_version": "1.2.0",
          "state": {
            "_model_module": "@jupyter-widgets/base",
            "_model_module_version": "1.2.0",
            "_model_name": "LayoutModel",
            "_view_count": null,
            "_view_module": "@jupyter-widgets/base",
            "_view_module_version": "1.2.0",
            "_view_name": "LayoutView",
            "align_content": null,
            "align_items": null,
            "align_self": null,
            "border": null,
            "bottom": null,
            "display": null,
            "flex": null,
            "flex_flow": null,
            "grid_area": null,
            "grid_auto_columns": null,
            "grid_auto_flow": null,
            "grid_auto_rows": null,
            "grid_column": null,
            "grid_gap": null,
            "grid_row": null,
            "grid_template_areas": null,
            "grid_template_columns": null,
            "grid_template_rows": null,
            "height": null,
            "justify_content": null,
            "justify_items": null,
            "left": null,
            "margin": null,
            "max_height": null,
            "max_width": null,
            "min_height": null,
            "min_width": null,
            "object_fit": null,
            "object_position": null,
            "order": null,
            "overflow": null,
            "overflow_x": null,
            "overflow_y": null,
            "padding": null,
            "right": null,
            "top": null,
            "visibility": null,
            "width": null
          }
        },
        "886e3e1620cd49cea1b16d3319de8ec9": {
          "model_module": "@jupyter-widgets/controls",
          "model_name": "ProgressStyleModel",
          "model_module_version": "1.5.0",
          "state": {
            "_model_module": "@jupyter-widgets/controls",
            "_model_module_version": "1.5.0",
            "_model_name": "ProgressStyleModel",
            "_view_count": null,
            "_view_module": "@jupyter-widgets/base",
            "_view_module_version": "1.2.0",
            "_view_name": "StyleView",
            "bar_color": null,
            "description_width": ""
          }
        },
        "c316ddc62a814818aa4ec84028abf655": {
          "model_module": "@jupyter-widgets/base",
          "model_name": "LayoutModel",
          "model_module_version": "1.2.0",
          "state": {
            "_model_module": "@jupyter-widgets/base",
            "_model_module_version": "1.2.0",
            "_model_name": "LayoutModel",
            "_view_count": null,
            "_view_module": "@jupyter-widgets/base",
            "_view_module_version": "1.2.0",
            "_view_name": "LayoutView",
            "align_content": null,
            "align_items": null,
            "align_self": null,
            "border": null,
            "bottom": null,
            "display": null,
            "flex": null,
            "flex_flow": null,
            "grid_area": null,
            "grid_auto_columns": null,
            "grid_auto_flow": null,
            "grid_auto_rows": null,
            "grid_column": null,
            "grid_gap": null,
            "grid_row": null,
            "grid_template_areas": null,
            "grid_template_columns": null,
            "grid_template_rows": null,
            "height": null,
            "justify_content": null,
            "justify_items": null,
            "left": null,
            "margin": null,
            "max_height": null,
            "max_width": null,
            "min_height": null,
            "min_width": null,
            "object_fit": null,
            "object_position": null,
            "order": null,
            "overflow": null,
            "overflow_x": null,
            "overflow_y": null,
            "padding": null,
            "right": null,
            "top": null,
            "visibility": null,
            "width": null
          }
        },
        "87604e84fa9946158ce6b67fcc1cb73b": {
          "model_module": "@jupyter-widgets/controls",
          "model_name": "DescriptionStyleModel",
          "model_module_version": "1.5.0",
          "state": {
            "_model_module": "@jupyter-widgets/controls",
            "_model_module_version": "1.5.0",
            "_model_name": "DescriptionStyleModel",
            "_view_count": null,
            "_view_module": "@jupyter-widgets/base",
            "_view_module_version": "1.2.0",
            "_view_name": "StyleView",
            "description_width": ""
          }
        },
        "b88905f4e71449858c9ef39e6acf36b5": {
          "model_module": "@jupyter-widgets/controls",
          "model_name": "HBoxModel",
          "model_module_version": "1.5.0",
          "state": {
            "_dom_classes": [],
            "_model_module": "@jupyter-widgets/controls",
            "_model_module_version": "1.5.0",
            "_model_name": "HBoxModel",
            "_view_count": null,
            "_view_module": "@jupyter-widgets/controls",
            "_view_module_version": "1.5.0",
            "_view_name": "HBoxView",
            "box_style": "",
            "children": [
              "IPY_MODEL_d363521fce0248c7ace28cd215c2a240",
              "IPY_MODEL_8fa07218b44f4f8e83ac9863044d6b9b",
              "IPY_MODEL_5e5d0f71a0dd4e3c82f436a6043c5846"
            ],
            "layout": "IPY_MODEL_da77dd1bcfd142b1b82f324655f6771e"
          }
        },
        "d363521fce0248c7ace28cd215c2a240": {
          "model_module": "@jupyter-widgets/controls",
          "model_name": "HTMLModel",
          "model_module_version": "1.5.0",
          "state": {
            "_dom_classes": [],
            "_model_module": "@jupyter-widgets/controls",
            "_model_module_version": "1.5.0",
            "_model_name": "HTMLModel",
            "_view_count": null,
            "_view_module": "@jupyter-widgets/controls",
            "_view_module_version": "1.5.0",
            "_view_name": "HTMLView",
            "description": "",
            "description_tooltip": null,
            "layout": "IPY_MODEL_17ddebdc29fd4f2b9a2dd1707013b008",
            "placeholder": "​",
            "style": "IPY_MODEL_e327be95e615484fb8b38a170dbef995",
            "value": "model.safetensors: 100%"
          }
        },
        "8fa07218b44f4f8e83ac9863044d6b9b": {
          "model_module": "@jupyter-widgets/controls",
          "model_name": "FloatProgressModel",
          "model_module_version": "1.5.0",
          "state": {
            "_dom_classes": [],
            "_model_module": "@jupyter-widgets/controls",
            "_model_module_version": "1.5.0",
            "_model_name": "FloatProgressModel",
            "_view_count": null,
            "_view_module": "@jupyter-widgets/controls",
            "_view_module_version": "1.5.0",
            "_view_name": "ProgressView",
            "bar_style": "success",
            "description": "",
            "description_tooltip": null,
            "layout": "IPY_MODEL_6f147a52e36a4fabbf9c6a827e26d16b",
            "max": 437955512,
            "min": 0,
            "orientation": "horizontal",
            "style": "IPY_MODEL_50571e0da309426580b8b05baee27f24",
            "value": 437955512
          }
        },
        "5e5d0f71a0dd4e3c82f436a6043c5846": {
          "model_module": "@jupyter-widgets/controls",
          "model_name": "HTMLModel",
          "model_module_version": "1.5.0",
          "state": {
            "_dom_classes": [],
            "_model_module": "@jupyter-widgets/controls",
            "_model_module_version": "1.5.0",
            "_model_name": "HTMLModel",
            "_view_count": null,
            "_view_module": "@jupyter-widgets/controls",
            "_view_module_version": "1.5.0",
            "_view_name": "HTMLView",
            "description": "",
            "description_tooltip": null,
            "layout": "IPY_MODEL_b76826e385dc4bee8f331a119f5da0bc",
            "placeholder": "​",
            "style": "IPY_MODEL_faf4e36ca89c471fa4183002bf420c12",
            "value": " 438M/438M [00:06&lt;00:00, 53.4MB/s]"
          }
        },
        "da77dd1bcfd142b1b82f324655f6771e": {
          "model_module": "@jupyter-widgets/base",
          "model_name": "LayoutModel",
          "model_module_version": "1.2.0",
          "state": {
            "_model_module": "@jupyter-widgets/base",
            "_model_module_version": "1.2.0",
            "_model_name": "LayoutModel",
            "_view_count": null,
            "_view_module": "@jupyter-widgets/base",
            "_view_module_version": "1.2.0",
            "_view_name": "LayoutView",
            "align_content": null,
            "align_items": null,
            "align_self": null,
            "border": null,
            "bottom": null,
            "display": null,
            "flex": null,
            "flex_flow": null,
            "grid_area": null,
            "grid_auto_columns": null,
            "grid_auto_flow": null,
            "grid_auto_rows": null,
            "grid_column": null,
            "grid_gap": null,
            "grid_row": null,
            "grid_template_areas": null,
            "grid_template_columns": null,
            "grid_template_rows": null,
            "height": null,
            "justify_content": null,
            "justify_items": null,
            "left": null,
            "margin": null,
            "max_height": null,
            "max_width": null,
            "min_height": null,
            "min_width": null,
            "object_fit": null,
            "object_position": null,
            "order": null,
            "overflow": null,
            "overflow_x": null,
            "overflow_y": null,
            "padding": null,
            "right": null,
            "top": null,
            "visibility": null,
            "width": null
          }
        },
        "17ddebdc29fd4f2b9a2dd1707013b008": {
          "model_module": "@jupyter-widgets/base",
          "model_name": "LayoutModel",
          "model_module_version": "1.2.0",
          "state": {
            "_model_module": "@jupyter-widgets/base",
            "_model_module_version": "1.2.0",
            "_model_name": "LayoutModel",
            "_view_count": null,
            "_view_module": "@jupyter-widgets/base",
            "_view_module_version": "1.2.0",
            "_view_name": "LayoutView",
            "align_content": null,
            "align_items": null,
            "align_self": null,
            "border": null,
            "bottom": null,
            "display": null,
            "flex": null,
            "flex_flow": null,
            "grid_area": null,
            "grid_auto_columns": null,
            "grid_auto_flow": null,
            "grid_auto_rows": null,
            "grid_column": null,
            "grid_gap": null,
            "grid_row": null,
            "grid_template_areas": null,
            "grid_template_columns": null,
            "grid_template_rows": null,
            "height": null,
            "justify_content": null,
            "justify_items": null,
            "left": null,
            "margin": null,
            "max_height": null,
            "max_width": null,
            "min_height": null,
            "min_width": null,
            "object_fit": null,
            "object_position": null,
            "order": null,
            "overflow": null,
            "overflow_x": null,
            "overflow_y": null,
            "padding": null,
            "right": null,
            "top": null,
            "visibility": null,
            "width": null
          }
        },
        "e327be95e615484fb8b38a170dbef995": {
          "model_module": "@jupyter-widgets/controls",
          "model_name": "DescriptionStyleModel",
          "model_module_version": "1.5.0",
          "state": {
            "_model_module": "@jupyter-widgets/controls",
            "_model_module_version": "1.5.0",
            "_model_name": "DescriptionStyleModel",
            "_view_count": null,
            "_view_module": "@jupyter-widgets/base",
            "_view_module_version": "1.2.0",
            "_view_name": "StyleView",
            "description_width": ""
          }
        },
        "6f147a52e36a4fabbf9c6a827e26d16b": {
          "model_module": "@jupyter-widgets/base",
          "model_name": "LayoutModel",
          "model_module_version": "1.2.0",
          "state": {
            "_model_module": "@jupyter-widgets/base",
            "_model_module_version": "1.2.0",
            "_model_name": "LayoutModel",
            "_view_count": null,
            "_view_module": "@jupyter-widgets/base",
            "_view_module_version": "1.2.0",
            "_view_name": "LayoutView",
            "align_content": null,
            "align_items": null,
            "align_self": null,
            "border": null,
            "bottom": null,
            "display": null,
            "flex": null,
            "flex_flow": null,
            "grid_area": null,
            "grid_auto_columns": null,
            "grid_auto_flow": null,
            "grid_auto_rows": null,
            "grid_column": null,
            "grid_gap": null,
            "grid_row": null,
            "grid_template_areas": null,
            "grid_template_columns": null,
            "grid_template_rows": null,
            "height": null,
            "justify_content": null,
            "justify_items": null,
            "left": null,
            "margin": null,
            "max_height": null,
            "max_width": null,
            "min_height": null,
            "min_width": null,
            "object_fit": null,
            "object_position": null,
            "order": null,
            "overflow": null,
            "overflow_x": null,
            "overflow_y": null,
            "padding": null,
            "right": null,
            "top": null,
            "visibility": null,
            "width": null
          }
        },
        "50571e0da309426580b8b05baee27f24": {
          "model_module": "@jupyter-widgets/controls",
          "model_name": "ProgressStyleModel",
          "model_module_version": "1.5.0",
          "state": {
            "_model_module": "@jupyter-widgets/controls",
            "_model_module_version": "1.5.0",
            "_model_name": "ProgressStyleModel",
            "_view_count": null,
            "_view_module": "@jupyter-widgets/base",
            "_view_module_version": "1.2.0",
            "_view_name": "StyleView",
            "bar_color": null,
            "description_width": ""
          }
        },
        "b76826e385dc4bee8f331a119f5da0bc": {
          "model_module": "@jupyter-widgets/base",
          "model_name": "LayoutModel",
          "model_module_version": "1.2.0",
          "state": {
            "_model_module": "@jupyter-widgets/base",
            "_model_module_version": "1.2.0",
            "_model_name": "LayoutModel",
            "_view_count": null,
            "_view_module": "@jupyter-widgets/base",
            "_view_module_version": "1.2.0",
            "_view_name": "LayoutView",
            "align_content": null,
            "align_items": null,
            "align_self": null,
            "border": null,
            "bottom": null,
            "display": null,
            "flex": null,
            "flex_flow": null,
            "grid_area": null,
            "grid_auto_columns": null,
            "grid_auto_flow": null,
            "grid_auto_rows": null,
            "grid_column": null,
            "grid_gap": null,
            "grid_row": null,
            "grid_template_areas": null,
            "grid_template_columns": null,
            "grid_template_rows": null,
            "height": null,
            "justify_content": null,
            "justify_items": null,
            "left": null,
            "margin": null,
            "max_height": null,
            "max_width": null,
            "min_height": null,
            "min_width": null,
            "object_fit": null,
            "object_position": null,
            "order": null,
            "overflow": null,
            "overflow_x": null,
            "overflow_y": null,
            "padding": null,
            "right": null,
            "top": null,
            "visibility": null,
            "width": null
          }
        },
        "faf4e36ca89c471fa4183002bf420c12": {
          "model_module": "@jupyter-widgets/controls",
          "model_name": "DescriptionStyleModel",
          "model_module_version": "1.5.0",
          "state": {
            "_model_module": "@jupyter-widgets/controls",
            "_model_module_version": "1.5.0",
            "_model_name": "DescriptionStyleModel",
            "_view_count": null,
            "_view_module": "@jupyter-widgets/base",
            "_view_module_version": "1.2.0",
            "_view_name": "StyleView",
            "description_width": ""
          }
        }
      }
    }
  },
  "nbformat": 4,
  "nbformat_minor": 0
}